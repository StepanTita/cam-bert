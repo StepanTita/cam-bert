{
 "cells": [
  {
   "cell_type": "code",
   "execution_count": null,
   "metadata": {
    "ExecuteTime": {
     "end_time": "2023-10-22T20:56:30.349927Z",
     "start_time": "2023-10-22T20:56:28.451433Z"
    },
    "colab": {
     "base_uri": "https://localhost:8080/"
    },
    "id": "ebevoe42UgLK",
    "outputId": "cefa9dd9-3d2c-47f6-bda2-b19c80c24f63",
    "tags": []
   },
   "outputs": [
    {
     "name": "stdout",
     "output_type": "stream",
     "text": [
      "Collecting transformers\n",
      "  Downloading transformers-4.34.1-py3-none-any.whl (7.7 MB)\n",
      "\u001b[2K     \u001b[90m━━━━━━━━━━━━━━━━━━━━━━━━━━━━━━━━━━━━━━━━\u001b[0m \u001b[32m7.7/7.7 MB\u001b[0m \u001b[31m54.1 MB/s\u001b[0m eta \u001b[36m0:00:00\u001b[0m\n",
      "\u001b[?25hRequirement already satisfied: plotly in /usr/local/lib/python3.10/dist-packages (5.15.0)\n",
      "Collecting datasets\n",
      "  Downloading datasets-2.14.6-py3-none-any.whl (493 kB)\n",
      "\u001b[2K     \u001b[90m━━━━━━━━━━━━━━━━━━━━━━━━━━━━━━━━━━━━━━━━\u001b[0m \u001b[32m493.7/493.7 kB\u001b[0m \u001b[31m52.8 MB/s\u001b[0m eta \u001b[36m0:00:00\u001b[0m\n",
      "\u001b[?25hRequirement already satisfied: filelock in /usr/local/lib/python3.10/dist-packages (from transformers) (3.12.4)\n",
      "Collecting huggingface-hub<1.0,>=0.16.4 (from transformers)\n",
      "  Downloading huggingface_hub-0.18.0-py3-none-any.whl (301 kB)\n",
      "\u001b[2K     \u001b[90m━━━━━━━━━━━━━━━━━━━━━━━━━━━━━━━━━━━━━━━━\u001b[0m \u001b[32m302.0/302.0 kB\u001b[0m \u001b[31m25.1 MB/s\u001b[0m eta \u001b[36m0:00:00\u001b[0m\n",
      "\u001b[?25hRequirement already satisfied: numpy>=1.17 in /usr/local/lib/python3.10/dist-packages (from transformers) (1.23.5)\n",
      "Requirement already satisfied: packaging>=20.0 in /usr/local/lib/python3.10/dist-packages (from transformers) (23.2)\n",
      "Requirement already satisfied: pyyaml>=5.1 in /usr/local/lib/python3.10/dist-packages (from transformers) (6.0.1)\n",
      "Requirement already satisfied: regex!=2019.12.17 in /usr/local/lib/python3.10/dist-packages (from transformers) (2023.6.3)\n",
      "Requirement already satisfied: requests in /usr/local/lib/python3.10/dist-packages (from transformers) (2.31.0)\n",
      "Collecting tokenizers<0.15,>=0.14 (from transformers)\n",
      "  Downloading tokenizers-0.14.1-cp310-cp310-manylinux_2_17_x86_64.manylinux2014_x86_64.whl (3.8 MB)\n",
      "\u001b[2K     \u001b[90m━━━━━━━━━━━━━━━━━━━━━━━━━━━━━━━━━━━━━━━━\u001b[0m \u001b[32m3.8/3.8 MB\u001b[0m \u001b[31m81.5 MB/s\u001b[0m eta \u001b[36m0:00:00\u001b[0m\n",
      "\u001b[?25hCollecting safetensors>=0.3.1 (from transformers)\n",
      "  Downloading safetensors-0.4.0-cp310-cp310-manylinux_2_17_x86_64.manylinux2014_x86_64.whl (1.3 MB)\n",
      "\u001b[2K     \u001b[90m━━━━━━━━━━━━━━━━━━━━━━━━━━━━━━━━━━━━━━━━\u001b[0m \u001b[32m1.3/1.3 MB\u001b[0m \u001b[31m77.4 MB/s\u001b[0m eta \u001b[36m0:00:00\u001b[0m\n",
      "\u001b[?25hRequirement already satisfied: tqdm>=4.27 in /usr/local/lib/python3.10/dist-packages (from transformers) (4.66.1)\n",
      "Requirement already satisfied: tenacity>=6.2.0 in /usr/local/lib/python3.10/dist-packages (from plotly) (8.2.3)\n",
      "Requirement already satisfied: pyarrow>=8.0.0 in /usr/local/lib/python3.10/dist-packages (from datasets) (9.0.0)\n",
      "Collecting dill<0.3.8,>=0.3.0 (from datasets)\n",
      "  Downloading dill-0.3.7-py3-none-any.whl (115 kB)\n",
      "\u001b[2K     \u001b[90m━━━━━━━━━━━━━━━━━━━━━━━━━━━━━━━━━━━━━━━━\u001b[0m \u001b[32m115.3/115.3 kB\u001b[0m \u001b[31m16.0 MB/s\u001b[0m eta \u001b[36m0:00:00\u001b[0m\n",
      "\u001b[?25hRequirement already satisfied: pandas in /usr/local/lib/python3.10/dist-packages (from datasets) (1.5.3)\n",
      "Requirement already satisfied: xxhash in /usr/local/lib/python3.10/dist-packages (from datasets) (3.4.1)\n",
      "Collecting multiprocess (from datasets)\n",
      "  Downloading multiprocess-0.70.15-py310-none-any.whl (134 kB)\n",
      "\u001b[2K     \u001b[90m━━━━━━━━━━━━━━━━━━━━━━━━━━━━━━━━━━━━━━━━\u001b[0m \u001b[32m134.8/134.8 kB\u001b[0m \u001b[31m19.6 MB/s\u001b[0m eta \u001b[36m0:00:00\u001b[0m\n",
      "\u001b[?25hRequirement already satisfied: fsspec[http]<=2023.10.0,>=2023.1.0 in /usr/local/lib/python3.10/dist-packages (from datasets) (2023.6.0)\n",
      "Requirement already satisfied: aiohttp in /usr/local/lib/python3.10/dist-packages (from datasets) (3.8.6)\n",
      "Requirement already satisfied: attrs>=17.3.0 in /usr/local/lib/python3.10/dist-packages (from aiohttp->datasets) (23.1.0)\n",
      "Requirement already satisfied: charset-normalizer<4.0,>=2.0 in /usr/local/lib/python3.10/dist-packages (from aiohttp->datasets) (3.3.1)\n",
      "Requirement already satisfied: multidict<7.0,>=4.5 in /usr/local/lib/python3.10/dist-packages (from aiohttp->datasets) (6.0.4)\n",
      "Requirement already satisfied: async-timeout<5.0,>=4.0.0a3 in /usr/local/lib/python3.10/dist-packages (from aiohttp->datasets) (4.0.3)\n",
      "Requirement already satisfied: yarl<2.0,>=1.0 in /usr/local/lib/python3.10/dist-packages (from aiohttp->datasets) (1.9.2)\n",
      "Requirement already satisfied: frozenlist>=1.1.1 in /usr/local/lib/python3.10/dist-packages (from aiohttp->datasets) (1.4.0)\n",
      "Requirement already satisfied: aiosignal>=1.1.2 in /usr/local/lib/python3.10/dist-packages (from aiohttp->datasets) (1.3.1)\n",
      "Requirement already satisfied: typing-extensions>=3.7.4.3 in /usr/local/lib/python3.10/dist-packages (from huggingface-hub<1.0,>=0.16.4->transformers) (4.5.0)\n",
      "Requirement already satisfied: idna<4,>=2.5 in /usr/local/lib/python3.10/dist-packages (from requests->transformers) (3.4)\n",
      "Requirement already satisfied: urllib3<3,>=1.21.1 in /usr/local/lib/python3.10/dist-packages (from requests->transformers) (2.0.7)\n",
      "Requirement already satisfied: certifi>=2017.4.17 in /usr/local/lib/python3.10/dist-packages (from requests->transformers) (2023.7.22)\n",
      "Collecting huggingface-hub<1.0,>=0.16.4 (from transformers)\n",
      "  Downloading huggingface_hub-0.17.3-py3-none-any.whl (295 kB)\n",
      "\u001b[2K     \u001b[90m━━━━━━━━━━━━━━━━━━━━━━━━━━━━━━━━━━━━━━━━\u001b[0m \u001b[32m295.0/295.0 kB\u001b[0m \u001b[31m37.6 MB/s\u001b[0m eta \u001b[36m0:00:00\u001b[0m\n",
      "\u001b[?25hRequirement already satisfied: python-dateutil>=2.8.1 in /usr/local/lib/python3.10/dist-packages (from pandas->datasets) (2.8.2)\n",
      "Requirement already satisfied: pytz>=2020.1 in /usr/local/lib/python3.10/dist-packages (from pandas->datasets) (2023.3.post1)\n",
      "Requirement already satisfied: six>=1.5 in /usr/local/lib/python3.10/dist-packages (from python-dateutil>=2.8.1->pandas->datasets) (1.16.0)\n",
      "Installing collected packages: safetensors, dill, multiprocess, huggingface-hub, tokenizers, transformers, datasets\n",
      "Successfully installed datasets-2.14.6 dill-0.3.7 huggingface-hub-0.17.3 multiprocess-0.70.15 safetensors-0.4.0 tokenizers-0.14.1 transformers-4.34.1\n"
     ]
    }
   ],
   "source": [
    "! pip install transformers plotly datasets"
   ]
  },
  {
   "cell_type": "code",
   "execution_count": 6,
   "metadata": {
    "tags": []
   },
   "outputs": [
    {
     "name": "stdout",
     "output_type": "stream",
     "text": [
      "Requirement already satisfied: kaggle in /home/stepan/.local/lib/python3.8/site-packages (1.5.16)\n",
      "Requirement already satisfied: six>=1.10 in /usr/lib/python3/dist-packages (from kaggle) (1.16.0)\n",
      "Requirement already satisfied: requests in /home/stepan/.local/lib/python3.8/site-packages (from kaggle) (2.22.0)\n",
      "Requirement already satisfied: python-slugify in /home/stepan/.local/lib/python3.8/site-packages (from kaggle) (8.0.1)\n",
      "Requirement already satisfied: tqdm in /usr/local/lib/python3.8/dist-packages (from kaggle) (4.66.1)\n",
      "Requirement already satisfied: certifi in /home/stepan/.local/lib/python3.8/site-packages (from kaggle) (2023.7.22)\n",
      "Requirement already satisfied: python-dateutil in /usr/local/lib/python3.8/dist-packages (from kaggle) (2.8.2)\n",
      "Requirement already satisfied: bleach in /usr/lib/python3/dist-packages (from kaggle) (4.1.0)\n",
      "Requirement already satisfied: urllib3 in /home/stepan/.local/lib/python3.8/site-packages (from kaggle) (1.25.11)\n",
      "Requirement already satisfied: text-unidecode>=1.3 in /home/stepan/.local/lib/python3.8/site-packages (from python-slugify->kaggle) (1.3)\n",
      "Requirement already satisfied: idna<2.9,>=2.5 in /home/stepan/.local/lib/python3.8/site-packages (from requests->kaggle) (2.8)\n",
      "Requirement already satisfied: chardet<3.1.0,>=3.0.2 in /home/stepan/.local/lib/python3.8/site-packages (from requests->kaggle) (3.0.4)\n",
      "Note: you may need to restart the kernel to use updated packages.\n"
     ]
    }
   ],
   "source": [
    "! pip install --user kaggle"
   ]
  },
  {
   "cell_type": "code",
   "execution_count": 2,
   "metadata": {
    "tags": []
   },
   "outputs": [],
   "source": [
    "! mkdir ~/.kaggle"
   ]
  },
  {
   "cell_type": "code",
   "execution_count": 3,
   "metadata": {
    "tags": []
   },
   "outputs": [],
   "source": [
    "! mv kaggle.json ~/.kaggle"
   ]
  },
  {
   "cell_type": "code",
   "execution_count": 2,
   "metadata": {
    "tags": []
   },
   "outputs": [
    {
     "name": "stdout",
     "output_type": "stream",
     "text": [
      "Warning: Your Kaggle API key is readable by other users on this system! To fix this, you can run 'chmod 600 /home/stepan/.kaggle/kaggle.json'\n",
      "Downloading fake-news.zip to /home/stepan/FakeSpaceModel\n",
      "100%|██████████████████████████████████████| 46.5M/46.5M [00:03<00:00, 12.5MB/s]\n",
      "100%|██████████████████████████████████████| 46.5M/46.5M [00:03<00:00, 12.4MB/s]\n"
     ]
    }
   ],
   "source": [
    "! ~/.local/bin/kaggle competitions download -c fake-news"
   ]
  },
  {
   "cell_type": "code",
   "execution_count": 9,
   "metadata": {
    "tags": []
   },
   "outputs": [
    {
     "name": "stdout",
     "output_type": "stream",
     "text": [
      "Archive:  fake-news.zip\n",
      "  inflating: submit.csv              \n",
      "  inflating: test.csv                \n",
      "  inflating: train.csv               \n"
     ]
    }
   ],
   "source": [
    "! unzip fake-news.zip"
   ]
  },
  {
   "cell_type": "code",
   "execution_count": 5,
   "metadata": {
    "colab": {
     "base_uri": "https://localhost:8080/"
    },
    "id": "5Ud9mPBrMnep",
    "outputId": "579591cc-c40d-4fef-fc27-2079fe5ef3ae",
    "tags": []
   },
   "outputs": [
    {
     "name": "stdout",
     "output_type": "stream",
     "text": [
      "Cloning into 'space-model'...\n",
      "remote: Enumerating objects: 128, done.\u001b[K\n",
      "remote: Counting objects: 100% (128/128), done.\u001b[K\n",
      "remote: Compressing objects: 100% (106/106), done.\u001b[K\n",
      "remote: Total 128 (delta 33), reused 111 (delta 19), pack-reused 0\u001b[K\n",
      "Receiving objects: 100% (128/128), 29.56 MiB | 5.29 MiB/s, done.\n",
      "Resolving deltas: 100% (33/33), done.\n"
     ]
    }
   ],
   "source": [
    "! rm -rf space-model\n",
    "! git clone https://github.com/StepanTita/space-model.git"
   ]
  },
  {
   "cell_type": "code",
   "execution_count": 1,
   "metadata": {
    "id": "ppjscAk9Mwxc",
    "tags": []
   },
   "outputs": [],
   "source": [
    "import sys\n",
    "\n",
    "sys.path.append('space-model')"
   ]
  },
  {
   "cell_type": "code",
   "execution_count": 2,
   "metadata": {
    "id": "E-jG_7erM1jL",
    "tags": []
   },
   "outputs": [
    {
     "name": "stderr",
     "output_type": "stream",
     "text": [
      "/home/stepan/.local/lib/python3.8/site-packages/pandas/core/computation/expressions.py:20: UserWarning: Pandas requires version '2.7.3' or newer of 'numexpr' (version '2.7.1' currently installed).\n",
      "  from pandas.core.computation.check import NUMEXPR_INSTALLED\n"
     ]
    }
   ],
   "source": [
    "import math\n",
    "import json\n",
    "from collections import Counter\n",
    "import random\n",
    "import os\n",
    "\n",
    "import pandas as pd\n",
    "import numpy as np\n",
    "\n",
    "import torch\n",
    "import torch.nn.functional as F\n",
    "\n",
    "from sklearn.metrics import accuracy_score, f1_score, precision_score, recall_score\n",
    "from sklearn.model_selection import train_test_split\n",
    "\n",
    "from tqdm import tqdm\n",
    "\n",
    "import matplotlib.pyplot as plt\n",
    "import plotly.graph_objects as go\n",
    "\n",
    "from transformers import AutoModel, AutoTokenizer, AutoModelForSequenceClassification\n",
    "from transformers import DataCollatorWithPadding, get_linear_schedule_with_warmup\n",
    "\n",
    "from datasets import load_dataset, Dataset, DatasetDict\n",
    "\n",
    "from space_model.model import *\n",
    "from space_model.loss import *"
   ]
  },
  {
   "cell_type": "code",
   "execution_count": 3,
   "metadata": {
    "id": "DgD4mX6CPqAx",
    "tags": []
   },
   "outputs": [],
   "source": [
    "SEED = 42"
   ]
  },
  {
   "cell_type": "code",
   "execution_count": 4,
   "metadata": {
    "id": "287PDnJQPm4K",
    "tags": []
   },
   "outputs": [],
   "source": [
    "def seed_everything(seed=42):\n",
    "    random.seed(seed)\n",
    "    os.environ['PYTHONHASHSEED'] = str(seed)\n",
    "    np.random.seed(seed)\n",
    "    torch.manual_seed(seed)\n",
    "    torch.cuda.manual_seed(seed)\n",
    "    torch.backends.cudnn.deterministic = True\n",
    "\n",
    "seed_everything(seed=SEED)"
   ]
  },
  {
   "cell_type": "code",
   "execution_count": 5,
   "metadata": {
    "id": "gdyFsHsxPtFR",
    "tags": []
   },
   "outputs": [],
   "source": [
    "def on_gpu(f):\n",
    "    def wrapper(*args):\n",
    "        if torch.cuda.is_available():\n",
    "            return f(*args)\n",
    "        else:\n",
    "            print('cuda unavailable')\n",
    "    return wrapper"
   ]
  },
  {
   "cell_type": "code",
   "execution_count": 6,
   "metadata": {
    "colab": {
     "base_uri": "https://localhost:8080/"
    },
    "id": "QdNbXp-oPw7W",
    "outputId": "6a0dff07-c47d-4c4a-c294-81451c25b76f",
    "tags": []
   },
   "outputs": [
    {
     "name": "stdout",
     "output_type": "stream",
     "text": [
      "Defaulting to user installation because normal site-packages is not writeable\n",
      "Requirement already satisfied: pynvml in /home/stepan/.local/lib/python3.8/site-packages (11.5.0)\n"
     ]
    }
   ],
   "source": [
    "if torch.cuda.is_available():\n",
    "    ! pip install pynvml\n",
    "    from pynvml import *\n",
    "    from numba import cuda\n",
    "\n",
    "@on_gpu\n",
    "def print_gpu_utilization(dev_id):\n",
    "    try:\n",
    "        nvmlInit()\n",
    "        handle = nvmlDeviceGetHandleByIndex(dev_id)\n",
    "        info = nvmlDeviceGetMemoryInfo(handle)\n",
    "        print(f\"GPU memory occupied: {info.used//1024**2} MB.\")\n",
    "    except Exception as e:\n",
    "        print(e)\n",
    "\n",
    "@on_gpu\n",
    "def free_gpu_cache(dev_id=0):\n",
    "    print(\"Initial GPU Usage\")\n",
    "    print_gpu_utilization(dev_id)\n",
    "\n",
    "    torch.cuda.empty_cache()\n",
    "\n",
    "    print(\"GPU Usage after emptying the cache\")\n",
    "    print_gpu_utilization(dev_id)\n",
    "\n",
    "def print_summary(result):\n",
    "    print(f\"Time: {result.metrics['train_runtime']:.2f}\")\n",
    "    print(f\"Samples/second: {result.metrics['train_samples_per_second']:.2f}\")\n",
    "    print_gpu_utilization()"
   ]
  },
  {
   "cell_type": "code",
   "execution_count": 7,
   "metadata": {
    "id": "1cHTPAppKacl",
    "tags": []
   },
   "outputs": [],
   "source": [
    "device_id = 1"
   ]
  },
  {
   "cell_type": "code",
   "execution_count": 8,
   "metadata": {
    "colab": {
     "base_uri": "https://localhost:8080/"
    },
    "id": "VxNX0IVTNAM5",
    "outputId": "cf6bc67c-4e1f-423a-aa7b-60d85ae2dc9b",
    "tags": []
   },
   "outputs": [
    {
     "data": {
      "text/plain": [
       "device(type='cuda', index=1)"
      ]
     },
     "execution_count": 8,
     "metadata": {},
     "output_type": "execute_result"
    }
   ],
   "source": [
    "device = torch.device(f'cuda:{device_id}' if torch.cuda.is_available() else 'cpu')\n",
    "device"
   ]
  },
  {
   "cell_type": "code",
   "execution_count": 9,
   "metadata": {
    "id": "KYakW_Q_JQut",
    "tags": []
   },
   "outputs": [],
   "source": [
    "torch.cuda.set_device(device)"
   ]
  },
  {
   "cell_type": "code",
   "execution_count": 10,
   "metadata": {
    "id": "XH_wO_V2O0dh",
    "tags": []
   },
   "outputs": [],
   "source": [
    "MODEL_NAME = 'bert-base-cased'\n",
    "MODELS_PATH = 'models'\n",
    "DATASET_NAME = 'covid-fake-news'\n",
    "\n",
    "SEED = 42\n",
    "NUM_EPOCHS = 5\n",
    "BATCH_SIZE = 32\n",
    "MAX_SEQ_LEN = 512\n",
    "LEARNING_RATE = 2e-5\n",
    "MAX_GRAD_NORM = 1000"
   ]
  },
  {
   "cell_type": "code",
   "execution_count": 11,
   "metadata": {
    "tags": []
   },
   "outputs": [
    {
     "data": {
      "text/html": [
       "<div>\n",
       "<style scoped>\n",
       "    .dataframe tbody tr th:only-of-type {\n",
       "        vertical-align: middle;\n",
       "    }\n",
       "\n",
       "    .dataframe tbody tr th {\n",
       "        vertical-align: top;\n",
       "    }\n",
       "\n",
       "    .dataframe thead th {\n",
       "        text-align: right;\n",
       "    }\n",
       "</style>\n",
       "<table border=\"1\" class=\"dataframe\">\n",
       "  <thead>\n",
       "    <tr style=\"text-align: right;\">\n",
       "      <th></th>\n",
       "      <th>tweet</th>\n",
       "      <th>label</th>\n",
       "    </tr>\n",
       "    <tr>\n",
       "      <th>id</th>\n",
       "      <th></th>\n",
       "      <th></th>\n",
       "    </tr>\n",
       "  </thead>\n",
       "  <tbody>\n",
       "    <tr>\n",
       "      <th>1</th>\n",
       "      <td>The CDC currently reports 99031 deaths. In gen...</td>\n",
       "      <td>real</td>\n",
       "    </tr>\n",
       "    <tr>\n",
       "      <th>2</th>\n",
       "      <td>States reported 1121 deaths a small rise from ...</td>\n",
       "      <td>real</td>\n",
       "    </tr>\n",
       "    <tr>\n",
       "      <th>3</th>\n",
       "      <td>Politically Correct Woman (Almost) Uses Pandem...</td>\n",
       "      <td>fake</td>\n",
       "    </tr>\n",
       "    <tr>\n",
       "      <th>4</th>\n",
       "      <td>#IndiaFightsCorona: We have 1524 #COVID testin...</td>\n",
       "      <td>real</td>\n",
       "    </tr>\n",
       "    <tr>\n",
       "      <th>5</th>\n",
       "      <td>Populous states can generate large case counts...</td>\n",
       "      <td>real</td>\n",
       "    </tr>\n",
       "    <tr>\n",
       "      <th>...</th>\n",
       "      <td>...</td>\n",
       "      <td>...</td>\n",
       "    </tr>\n",
       "    <tr>\n",
       "      <th>6416</th>\n",
       "      <td>A tiger tested positive for COVID-19 please st...</td>\n",
       "      <td>fake</td>\n",
       "    </tr>\n",
       "    <tr>\n",
       "      <th>6417</th>\n",
       "      <td>???Autopsies prove that COVID-19 is??� a blood...</td>\n",
       "      <td>fake</td>\n",
       "    </tr>\n",
       "    <tr>\n",
       "      <th>6418</th>\n",
       "      <td>_A post claims a COVID-19 vaccine has already ...</td>\n",
       "      <td>fake</td>\n",
       "    </tr>\n",
       "    <tr>\n",
       "      <th>6419</th>\n",
       "      <td>Aamir Khan Donate 250 Cr. In PM Relief Cares Fund</td>\n",
       "      <td>fake</td>\n",
       "    </tr>\n",
       "    <tr>\n",
       "      <th>6420</th>\n",
       "      <td>It has been 93 days since the last case of COV...</td>\n",
       "      <td>real</td>\n",
       "    </tr>\n",
       "  </tbody>\n",
       "</table>\n",
       "<p>6420 rows × 2 columns</p>\n",
       "</div>"
      ],
      "text/plain": [
       "                                                  tweet label\n",
       "id                                                           \n",
       "1     The CDC currently reports 99031 deaths. In gen...  real\n",
       "2     States reported 1121 deaths a small rise from ...  real\n",
       "3     Politically Correct Woman (Almost) Uses Pandem...  fake\n",
       "4     #IndiaFightsCorona: We have 1524 #COVID testin...  real\n",
       "5     Populous states can generate large case counts...  real\n",
       "...                                                 ...   ...\n",
       "6416  A tiger tested positive for COVID-19 please st...  fake\n",
       "6417  ???Autopsies prove that COVID-19 is??� a blood...  fake\n",
       "6418  _A post claims a COVID-19 vaccine has already ...  fake\n",
       "6419  Aamir Khan Donate 250 Cr. In PM Relief Cares Fund  fake\n",
       "6420  It has been 93 days since the last case of COV...  real\n",
       "\n",
       "[6420 rows x 2 columns]"
      ]
     },
     "execution_count": 11,
     "metadata": {},
     "output_type": "execute_result"
    }
   ],
   "source": [
    "train_df = pd.read_csv('data/covid_train.csv', index_col=0)\n",
    "train_df"
   ]
  },
  {
   "cell_type": "code",
   "execution_count": 12,
   "metadata": {
    "tags": []
   },
   "outputs": [
    {
     "data": {
      "text/html": [
       "<div>\n",
       "<style scoped>\n",
       "    .dataframe tbody tr th:only-of-type {\n",
       "        vertical-align: middle;\n",
       "    }\n",
       "\n",
       "    .dataframe tbody tr th {\n",
       "        vertical-align: top;\n",
       "    }\n",
       "\n",
       "    .dataframe thead th {\n",
       "        text-align: right;\n",
       "    }\n",
       "</style>\n",
       "<table border=\"1\" class=\"dataframe\">\n",
       "  <thead>\n",
       "    <tr style=\"text-align: right;\">\n",
       "      <th></th>\n",
       "      <th>tweet</th>\n",
       "      <th>label</th>\n",
       "    </tr>\n",
       "    <tr>\n",
       "      <th>id</th>\n",
       "      <th></th>\n",
       "      <th></th>\n",
       "    </tr>\n",
       "  </thead>\n",
       "  <tbody>\n",
       "    <tr>\n",
       "      <th>1</th>\n",
       "      <td>Our daily update is published. States reported...</td>\n",
       "      <td>real</td>\n",
       "    </tr>\n",
       "    <tr>\n",
       "      <th>2</th>\n",
       "      <td>Alfalfa is the only cure for COVID-19.</td>\n",
       "      <td>fake</td>\n",
       "    </tr>\n",
       "    <tr>\n",
       "      <th>3</th>\n",
       "      <td>President Trump Asked What He Would Do If He W...</td>\n",
       "      <td>fake</td>\n",
       "    </tr>\n",
       "    <tr>\n",
       "      <th>4</th>\n",
       "      <td>States reported 630 deaths. We are still seein...</td>\n",
       "      <td>real</td>\n",
       "    </tr>\n",
       "    <tr>\n",
       "      <th>5</th>\n",
       "      <td>This is the sixth time a global health emergen...</td>\n",
       "      <td>real</td>\n",
       "    </tr>\n",
       "    <tr>\n",
       "      <th>...</th>\n",
       "      <td>...</td>\n",
       "      <td>...</td>\n",
       "    </tr>\n",
       "    <tr>\n",
       "      <th>2136</th>\n",
       "      <td>#CoronaVirusUpdates: State-wise details of Tot...</td>\n",
       "      <td>real</td>\n",
       "    </tr>\n",
       "    <tr>\n",
       "      <th>2137</th>\n",
       "      <td>Tonight 12(midnight) onwards Disaster Manageme...</td>\n",
       "      <td>fake</td>\n",
       "    </tr>\n",
       "    <tr>\n",
       "      <th>2138</th>\n",
       "      <td>296 new cases of #COVID19Nigeria; Plateau-85 E...</td>\n",
       "      <td>real</td>\n",
       "    </tr>\n",
       "    <tr>\n",
       "      <th>2139</th>\n",
       "      <td>RT @CDCemergency: #DYK? @CDCgov’s One-Stop Sho...</td>\n",
       "      <td>real</td>\n",
       "    </tr>\n",
       "    <tr>\n",
       "      <th>2140</th>\n",
       "      <td>More than half of pregnant women recently admi...</td>\n",
       "      <td>real</td>\n",
       "    </tr>\n",
       "  </tbody>\n",
       "</table>\n",
       "<p>2140 rows × 2 columns</p>\n",
       "</div>"
      ],
      "text/plain": [
       "                                                  tweet label\n",
       "id                                                           \n",
       "1     Our daily update is published. States reported...  real\n",
       "2                Alfalfa is the only cure for COVID-19.  fake\n",
       "3     President Trump Asked What He Would Do If He W...  fake\n",
       "4     States reported 630 deaths. We are still seein...  real\n",
       "5     This is the sixth time a global health emergen...  real\n",
       "...                                                 ...   ...\n",
       "2136  #CoronaVirusUpdates: State-wise details of Tot...  real\n",
       "2137  Tonight 12(midnight) onwards Disaster Manageme...  fake\n",
       "2138  296 new cases of #COVID19Nigeria; Plateau-85 E...  real\n",
       "2139  RT @CDCemergency: #DYK? @CDCgov’s One-Stop Sho...  real\n",
       "2140  More than half of pregnant women recently admi...  real\n",
       "\n",
       "[2140 rows x 2 columns]"
      ]
     },
     "execution_count": 12,
     "metadata": {},
     "output_type": "execute_result"
    }
   ],
   "source": [
    "test_df = pd.read_csv('data/covid_test.csv', index_col=0)\n",
    "test_df"
   ]
  },
  {
   "cell_type": "code",
   "execution_count": 13,
   "metadata": {
    "tags": []
   },
   "outputs": [
    {
     "data": {
      "text/html": [
       "<div>\n",
       "<style scoped>\n",
       "    .dataframe tbody tr th:only-of-type {\n",
       "        vertical-align: middle;\n",
       "    }\n",
       "\n",
       "    .dataframe tbody tr th {\n",
       "        vertical-align: top;\n",
       "    }\n",
       "\n",
       "    .dataframe thead th {\n",
       "        text-align: right;\n",
       "    }\n",
       "</style>\n",
       "<table border=\"1\" class=\"dataframe\">\n",
       "  <thead>\n",
       "    <tr style=\"text-align: right;\">\n",
       "      <th></th>\n",
       "      <th>tweet</th>\n",
       "      <th>label</th>\n",
       "    </tr>\n",
       "    <tr>\n",
       "      <th>id</th>\n",
       "      <th></th>\n",
       "      <th></th>\n",
       "    </tr>\n",
       "  </thead>\n",
       "  <tbody>\n",
       "    <tr>\n",
       "      <th>1</th>\n",
       "      <td>Chinese converting to Islam after realising th...</td>\n",
       "      <td>fake</td>\n",
       "    </tr>\n",
       "    <tr>\n",
       "      <th>2</th>\n",
       "      <td>11 out of 13 people (from the Diamond Princess...</td>\n",
       "      <td>fake</td>\n",
       "    </tr>\n",
       "    <tr>\n",
       "      <th>3</th>\n",
       "      <td>COVID-19 Is Caused By A Bacterium, Not Virus A...</td>\n",
       "      <td>fake</td>\n",
       "    </tr>\n",
       "    <tr>\n",
       "      <th>4</th>\n",
       "      <td>Mike Pence in RNC speech praises Donald Trump’...</td>\n",
       "      <td>fake</td>\n",
       "    </tr>\n",
       "    <tr>\n",
       "      <th>5</th>\n",
       "      <td>6/10 Sky's @EdConwaySky explains the latest #C...</td>\n",
       "      <td>real</td>\n",
       "    </tr>\n",
       "    <tr>\n",
       "      <th>...</th>\n",
       "      <td>...</td>\n",
       "      <td>...</td>\n",
       "    </tr>\n",
       "    <tr>\n",
       "      <th>2136</th>\n",
       "      <td>Donald Trump wrongly claimed that New Zealand ...</td>\n",
       "      <td>fake</td>\n",
       "    </tr>\n",
       "    <tr>\n",
       "      <th>2137</th>\n",
       "      <td>Current understanding is #COVID19 spreads most...</td>\n",
       "      <td>real</td>\n",
       "    </tr>\n",
       "    <tr>\n",
       "      <th>2138</th>\n",
       "      <td>Nothing screams “I am sat around doing fuck al...</td>\n",
       "      <td>fake</td>\n",
       "    </tr>\n",
       "    <tr>\n",
       "      <th>2139</th>\n",
       "      <td>Birx says COVID-19 outbreak not under control ...</td>\n",
       "      <td>fake</td>\n",
       "    </tr>\n",
       "    <tr>\n",
       "      <th>2140</th>\n",
       "      <td>Another 4422 new coronavirus cases have been c...</td>\n",
       "      <td>real</td>\n",
       "    </tr>\n",
       "  </tbody>\n",
       "</table>\n",
       "<p>2140 rows × 2 columns</p>\n",
       "</div>"
      ],
      "text/plain": [
       "                                                  tweet label\n",
       "id                                                           \n",
       "1     Chinese converting to Islam after realising th...  fake\n",
       "2     11 out of 13 people (from the Diamond Princess...  fake\n",
       "3     COVID-19 Is Caused By A Bacterium, Not Virus A...  fake\n",
       "4     Mike Pence in RNC speech praises Donald Trump’...  fake\n",
       "5     6/10 Sky's @EdConwaySky explains the latest #C...  real\n",
       "...                                                 ...   ...\n",
       "2136  Donald Trump wrongly claimed that New Zealand ...  fake\n",
       "2137  Current understanding is #COVID19 spreads most...  real\n",
       "2138  Nothing screams “I am sat around doing fuck al...  fake\n",
       "2139  Birx says COVID-19 outbreak not under control ...  fake\n",
       "2140  Another 4422 new coronavirus cases have been c...  real\n",
       "\n",
       "[2140 rows x 2 columns]"
      ]
     },
     "execution_count": 13,
     "metadata": {},
     "output_type": "execute_result"
    }
   ],
   "source": [
    "val_df = pd.read_csv('data/covid_val.csv', index_col=0)\n",
    "val_df"
   ]
  },
  {
   "cell_type": "code",
   "execution_count": 14,
   "metadata": {
    "tags": []
   },
   "outputs": [],
   "source": [
    "def encode_label(s: str):\n",
    "    if s == 'fake':\n",
    "        return 1\n",
    "    else:\n",
    "        return 0"
   ]
  },
  {
   "cell_type": "code",
   "execution_count": 15,
   "metadata": {
    "tags": []
   },
   "outputs": [
    {
     "data": {
      "text/html": [
       "<div>\n",
       "<style scoped>\n",
       "    .dataframe tbody tr th:only-of-type {\n",
       "        vertical-align: middle;\n",
       "    }\n",
       "\n",
       "    .dataframe tbody tr th {\n",
       "        vertical-align: top;\n",
       "    }\n",
       "\n",
       "    .dataframe thead th {\n",
       "        text-align: right;\n",
       "    }\n",
       "</style>\n",
       "<table border=\"1\" class=\"dataframe\">\n",
       "  <thead>\n",
       "    <tr style=\"text-align: right;\">\n",
       "      <th></th>\n",
       "      <th>tweet</th>\n",
       "      <th>label</th>\n",
       "    </tr>\n",
       "    <tr>\n",
       "      <th>id</th>\n",
       "      <th></th>\n",
       "      <th></th>\n",
       "    </tr>\n",
       "  </thead>\n",
       "  <tbody>\n",
       "    <tr>\n",
       "      <th>1</th>\n",
       "      <td>The CDC currently reports 99031 deaths. In gen...</td>\n",
       "      <td>0</td>\n",
       "    </tr>\n",
       "    <tr>\n",
       "      <th>2</th>\n",
       "      <td>States reported 1121 deaths a small rise from ...</td>\n",
       "      <td>0</td>\n",
       "    </tr>\n",
       "    <tr>\n",
       "      <th>3</th>\n",
       "      <td>Politically Correct Woman (Almost) Uses Pandem...</td>\n",
       "      <td>1</td>\n",
       "    </tr>\n",
       "    <tr>\n",
       "      <th>4</th>\n",
       "      <td>#IndiaFightsCorona: We have 1524 #COVID testin...</td>\n",
       "      <td>0</td>\n",
       "    </tr>\n",
       "    <tr>\n",
       "      <th>5</th>\n",
       "      <td>Populous states can generate large case counts...</td>\n",
       "      <td>0</td>\n",
       "    </tr>\n",
       "    <tr>\n",
       "      <th>...</th>\n",
       "      <td>...</td>\n",
       "      <td>...</td>\n",
       "    </tr>\n",
       "    <tr>\n",
       "      <th>6416</th>\n",
       "      <td>A tiger tested positive for COVID-19 please st...</td>\n",
       "      <td>1</td>\n",
       "    </tr>\n",
       "    <tr>\n",
       "      <th>6417</th>\n",
       "      <td>???Autopsies prove that COVID-19 is??� a blood...</td>\n",
       "      <td>1</td>\n",
       "    </tr>\n",
       "    <tr>\n",
       "      <th>6418</th>\n",
       "      <td>_A post claims a COVID-19 vaccine has already ...</td>\n",
       "      <td>1</td>\n",
       "    </tr>\n",
       "    <tr>\n",
       "      <th>6419</th>\n",
       "      <td>Aamir Khan Donate 250 Cr. In PM Relief Cares Fund</td>\n",
       "      <td>1</td>\n",
       "    </tr>\n",
       "    <tr>\n",
       "      <th>6420</th>\n",
       "      <td>It has been 93 days since the last case of COV...</td>\n",
       "      <td>0</td>\n",
       "    </tr>\n",
       "  </tbody>\n",
       "</table>\n",
       "<p>6420 rows × 2 columns</p>\n",
       "</div>"
      ],
      "text/plain": [
       "                                                  tweet  label\n",
       "id                                                            \n",
       "1     The CDC currently reports 99031 deaths. In gen...      0\n",
       "2     States reported 1121 deaths a small rise from ...      0\n",
       "3     Politically Correct Woman (Almost) Uses Pandem...      1\n",
       "4     #IndiaFightsCorona: We have 1524 #COVID testin...      0\n",
       "5     Populous states can generate large case counts...      0\n",
       "...                                                 ...    ...\n",
       "6416  A tiger tested positive for COVID-19 please st...      1\n",
       "6417  ???Autopsies prove that COVID-19 is??� a blood...      1\n",
       "6418  _A post claims a COVID-19 vaccine has already ...      1\n",
       "6419  Aamir Khan Donate 250 Cr. In PM Relief Cares Fund      1\n",
       "6420  It has been 93 days since the last case of COV...      0\n",
       "\n",
       "[6420 rows x 2 columns]"
      ]
     },
     "execution_count": 15,
     "metadata": {},
     "output_type": "execute_result"
    }
   ],
   "source": [
    "train_df['label'] = train_df['label'].apply(encode_label)\n",
    "val_df['label'] = val_df['label'].apply(encode_label)\n",
    "test_df['label'] = test_df['label'].apply(encode_label)\n",
    "train_df"
   ]
  },
  {
   "cell_type": "code",
   "execution_count": 16,
   "metadata": {
    "colab": {
     "base_uri": "https://localhost:8080/",
     "height": 479,
     "referenced_widgets": [
      "9c37ebce71194c198cf56fe1936ad9b2",
      "cea6b2e6414b42bc913bdb7823264c1d",
      "a1a505b18cdc46a3a1e342387b809961",
      "224956793e2840e4b8e7c55558ea720c",
      "a2bbe0c10e06414e9566392c6b6c2c88",
      "31c22c16076444a4ba3f851a808888ab",
      "d8540160fd074df6ad873a5a6cc46186",
      "a02b8397e2eb4345ba13b14326b1a193",
      "77b0fa80a6f04a7a80ebc2a5a11f7943",
      "706f123bcf084a17ba44834cacfb65ae",
      "773a20bf297f4cd4beeddedce01e2356",
      "8e24cf6f96d6426abd3ea50ae249e069",
      "4d5aced82ae04fcabc8c003e96227631",
      "2dc52e8da53742e3be26571cbae54f3b",
      "8f6e821b3c77400ca238ef735fc69fb7",
      "579b3281a0c14b53936d1e87ff8b3514",
      "932ced69dabd4daea128e764fc9de592",
      "36e63d03fe1d4c578a4ada6ccca5cb0f",
      "61bb37d3773e4db0b7de2f25819b0109",
      "3a2f6da974464ff1a753f6065834809b",
      "cc59efcb0eb24576b401c6932db825fe",
      "38b30cfc522444b3b9ddb80ae5d9f90e",
      "f342ba6ca2744c4bbe026f345eed5918",
      "739aa979dd3149bb95993129aed38693",
      "74b986a9ddb347df82cf6e47634c6760",
      "d452c0ca543c4a99856d1ff70a6ef6cc",
      "be195f93e3bc4507ba6a1e6130065826",
      "b9ea3c9e7beb40808328e9025a6bb676",
      "f60675b387864afb869ce3795ae8cd32",
      "11f46e2b7cea4ed2b5df4d7347679df0",
      "bbde7eda964d4b37853666432bcc4538",
      "317f01961adf4331b59b42b2dc7f8b70",
      "c889571adab149aeba436b845c239d25",
      "f1e6c246f2af42c0bcd8e617fba6527c",
      "6b3b2c4aeb884db39c907346ba53bf43",
      "736fb1fea0c344348e01ff74613b54d3",
      "4adb4d6a4c8a49cc892d4299ca09cf97",
      "ec18bf77c1e24fe9b1a1441388f701fa",
      "9e74c46442074f4882afe188af6cc8b7",
      "d3507c5b8c6948c79c21e0b92409b9e1",
      "d7fae3bb3a7641fbac16ed9aaf2abb03",
      "3ee9382bd248430b852a09ad80db96e3",
      "2e650a0648a24e65817bd1a2b21f5684",
      "64a04d8e59314ecab67bcf3e187646e0",
      "bfa14ac4b05a4f6eadf064c42249da75",
      "01b9525b8cc141d397e822aa75cb15cb",
      "dd00016232b54227a375799eb9a9728b",
      "209b03449a6c4ea59fc2b3ec6bdffdf3",
      "36813cead717471695cb654fd4e55386",
      "8683e16c9870492cac2948aeb11a12e3",
      "d69b280e4e8246e491ad9eb02d7f17dc",
      "69fad7b76711474e8f269ed035ac09ae",
      "448b8cbdd4374a8eaaf469c1e2fa08e5",
      "fa014eb1139b49c58eed87efd8227824",
      "a597a266870a418aaf7037a10d9366c1",
      "b4d548f0c14c4fc3bd98c8a3327def1f",
      "bbb66e50ed744abb88956441ef348d5d",
      "af9bdf601dda4c5380ce4614993abe6a",
      "ae1474babc1241f3aac3906f96afef92",
      "d51e4722526e44f09751ea842d75faf1",
      "b29f2af6ff324de5b4858993a9fbfbf7",
      "520de8fa407c4d37b6718a265ae095bc",
      "f4945972ee084d57bbabb2a699ee274a",
      "5237a47686c643b98be95017c36939d0",
      "2ce7d5141853464ebfe240231ded90a3",
      "1c1e3d66764347ebacaf49ae85b504c9",
      "1103b2b6642d4a13910abac466c5f465",
      "7f06b5f1574a4228877a9a90f4d17b4d",
      "6ed5a78df66242bfa02157b86f72d2e2",
      "c0ebcb764da64bd096b1ccd9c3234b2e",
      "48cb2ab421f443caaf4d981f7cc97b19",
      "40f11badb33b44dc8406e2a9b903681e",
      "b6e058143347400fb74392e7944b5ed3",
      "4174e279310741c687ce2d0c3f3ea39f",
      "018df813a9b7468681cb5caccb7717d3",
      "fc318a7437144dd887e1f85a106b9ef5",
      "cba0699826ac477296d6d08a47081f19"
     ]
    },
    "id": "ExLCdYtWN7Np",
    "outputId": "7ee8235c-5781-48d8-cdd6-8da29a2f9204",
    "tags": []
   },
   "outputs": [
    {
     "data": {
      "text/plain": [
       "DatasetDict({\n",
       "    train: Dataset({\n",
       "        features: ['tweet', 'label', 'id'],\n",
       "        num_rows: 6420\n",
       "    })\n",
       "    test: Dataset({\n",
       "        features: ['tweet', 'label', 'id'],\n",
       "        num_rows: 2140\n",
       "    })\n",
       "    val: Dataset({\n",
       "        features: ['tweet', 'label', 'id'],\n",
       "        num_rows: 2140\n",
       "    })\n",
       "})"
      ]
     },
     "execution_count": 16,
     "metadata": {},
     "output_type": "execute_result"
    }
   ],
   "source": [
    "dataset = DatasetDict({\n",
    "    'train': Dataset.from_pandas(train_df[['tweet', 'label']]),\n",
    "    'test': Dataset.from_pandas(test_df[['tweet', 'label']]),\n",
    "    'val': Dataset.from_pandas(val_df[['tweet', 'label']])\n",
    "})\n",
    "dataset"
   ]
  },
  {
   "cell_type": "code",
   "execution_count": 17,
   "metadata": {
    "colab": {
     "base_uri": "https://localhost:8080/",
     "height": 298,
     "referenced_widgets": [
      "60f769a2e6e94e22aa8e60d71fa11bd3",
      "08e5f11449a34acf8d72a90d34a167b4",
      "da3c9c66856143c1b927adb48a31b023",
      "e0d7377bbf494cd99f63724ade0c2441",
      "95b7151a74684592b4b255b806029dfe",
      "7478752deb544484af78915d8a5af4a8",
      "084f557430b747b28c1c04eb0d854d9c",
      "f3d73f8d80e24d018ac7dc0dea512cde",
      "f2aa0a9cbd4943e4b56d57088ed47531",
      "e9ce015c2b8c48a88a1e83aa10a0bea9",
      "a55f5677bf1942a7a15cfac955e54b05",
      "524bde8ce7fd4a15b0302e75ed1eb0a1",
      "39a15396d17c4f56ac915583bd465520",
      "475da8cb10c44154aac9ba2406c65655",
      "5d7b6ca01c2a4ea995717ac49d5a75fe",
      "7944ccb970454143b349facea4b99c3c",
      "8691cf4c546f465eba86d01648bb9617",
      "076ab3056cca4a7dabd337b1be820c75",
      "9a9324b9e69e413eab848b05c9ba6705",
      "8d4d0fb6024248668faabae6302644fc",
      "050c0212a75e49e48e8971e887844fa8",
      "29a471804db84fb7ae36d2ea77d0fd8a",
      "1f5d79d168934323b710eb6eccc8cfc2",
      "d8fc11801d0a47169a9d346388fb959c",
      "a05bc210c5b4416ea5c6296fcbbb56d1",
      "83ae6670a78a4f70a82c1ee0b6b6fcbc",
      "98e6d29a919d40be9eec2b57a3580993",
      "21cc7a51927d47d6aa3f69ec616ac897",
      "e6841d8bfaa74fa78e5823cc04ff37e8",
      "3bfb5b7a31c844f1807d21704b45e197",
      "ed1eae8886da42a790b771c97bb9a09a",
      "154f39d6bf4a4f86be960183d9bf3bb9",
      "3797a4d490294bb1a67eb6a0da120d69",
      "97b6f28966f746e298654a2063a46da5",
      "36835a1102aa4908acf46b53ac55e55d",
      "1fda06a502c648718a4711b35c456c45",
      "a95beb009b614d158359455450b84612",
      "350a2e0caf4d48dc925d374a863bb2b5",
      "9ec5f07613534d2fb6e51868696e38fb",
      "1c93e6f9a8264e388a6ab233e41cab55",
      "2610862ce2cd4b18b7f13831e57a23b2",
      "ac4de9b1d709439f9492358ffc7bbc0d",
      "7db106772068439ca08582d24bc40b4b",
      "3a76192fc9f240569147997180c8440a"
     ]
    },
    "id": "ku5ofLQBO0Ib",
    "outputId": "dee74f4c-8325-4bf3-c706-931ced368d72",
    "tags": []
   },
   "outputs": [
    {
     "data": {
      "text/plain": [
       "BertTokenizerFast(name_or_path='bert-base-cased', vocab_size=28996, model_max_length=512, is_fast=True, padding_side='right', truncation_side='right', special_tokens={'unk_token': '[UNK]', 'sep_token': '[SEP]', 'pad_token': '[PAD]', 'cls_token': '[CLS]', 'mask_token': '[MASK]'}, clean_up_tokenization_spaces=True),  added_tokens_decoder={\n",
       "\t0: AddedToken(\"[PAD]\", rstrip=False, lstrip=False, single_word=False, normalized=False, special=True),\n",
       "\t100: AddedToken(\"[UNK]\", rstrip=False, lstrip=False, single_word=False, normalized=False, special=True),\n",
       "\t101: AddedToken(\"[CLS]\", rstrip=False, lstrip=False, single_word=False, normalized=False, special=True),\n",
       "\t102: AddedToken(\"[SEP]\", rstrip=False, lstrip=False, single_word=False, normalized=False, special=True),\n",
       "\t103: AddedToken(\"[MASK]\", rstrip=False, lstrip=False, single_word=False, normalized=False, special=True),\n",
       "}"
      ]
     },
     "execution_count": 17,
     "metadata": {},
     "output_type": "execute_result"
    }
   ],
   "source": [
    "tokenizer = AutoTokenizer.from_pretrained(MODEL_NAME)\n",
    "tokenizer"
   ]
  },
  {
   "cell_type": "code",
   "execution_count": 18,
   "metadata": {
    "colab": {
     "base_uri": "https://localhost:8080/",
     "height": 451,
     "referenced_widgets": [
      "31e5bfb3897144efbc2611f7c115e796",
      "fa7cadb44033477ba644c335361c6b8c",
      "94450ee0f4664fd39785fe7af984544f",
      "25c1551d8e44451e8f50e9da5fbd6d01",
      "0209668a2eba405b8665c3c4050d6d3e",
      "adc2bbec39c248d590d6266b90977f41",
      "8e079663fc70447f9dabf8d7c3325ded",
      "bae10d0cbbcc44809fa15faf5eda3283",
      "4012517a560a4e639622e9e477df0ff3",
      "ab729159af2c4241a5b73140dbd4763f",
      "54bcfba037dd4b84bc0a5411e12fd263",
      "4690fe908431459b8ebadcc3319a4779",
      "d8990f8004d646d0a5cdf61e8899ce1b",
      "f34e31a97e6148c897eaffba3cb91785",
      "43abd27c8a6945f1b89b38cbec51cf9e",
      "18ee383a0bb144b680cd116e534d875b",
      "25ae171dcc3f4451a0a66c1675a9f295",
      "7694ff8f4aa64b79be0a85ca2a82a017",
      "e4b53ed417664041bde5bc3e46e7f4bf",
      "0687195b68c6466384788c1fde2b9207",
      "dcdd96cf090e40f396786789b8c1f810",
      "f8c007ee74f2474e8e6b5740b446de9e",
      "a987e9858891419fa72f51ff5ce4a14f",
      "940db2379bac42ceaa3739b1c631ec0b",
      "b050e51523ae4814ab40854a3a9fadff",
      "fed44a08443e4c9aa11702cdee20a334",
      "80482003351d493490ab33f9a6c207d6",
      "e09478c82d2b43dba4fc488ca80102ae",
      "809ca49c5f13482fa6d6f2d09534463f",
      "c03c595f48cd4658a4915daced48ffbf",
      "48716d410bed4984bdc1211d3ebc6506",
      "376d38cc16774e6fb45908b805bd124e",
      "096a52066d094a61a59a2fe5aef1e6b7",
      "566909d9e830460e8d1a967323d2e2f8",
      "7110d36121104b20ae1bfa862439847c",
      "372f9b4d9cec41dda7ea2086e7eb58c5",
      "c2a65e921e5e4bd98aa8064d24929f26",
      "e5d97be7d2544166a4a366c4e4a177eb",
      "100329b2a06a46028a876819b2988632",
      "31c4ecc58a594b5cbc887a81b715dac6",
      "853aed3602de4193a95b07e548381957",
      "0058c683a52c4bdabf7590c22c3ca669",
      "599000ff350e455e9df99cd1701b819b",
      "77d57498063f47588eeb636f48e598fe"
     ]
    },
    "id": "bXCIC4EvJQuv",
    "outputId": "8ec15f53-885f-4cbc-e2f7-b55a6e5e7ac7",
    "tags": []
   },
   "outputs": [
    {
     "data": {
      "application/vnd.jupyter.widget-view+json": {
       "model_id": "cfe1a8fc2b3a4ee696dea9ba12b13e98",
       "version_major": 2,
       "version_minor": 0
      },
      "text/plain": [
       "Map:   0%|          | 0/6420 [00:00<?, ? examples/s]"
      ]
     },
     "metadata": {},
     "output_type": "display_data"
    },
    {
     "data": {
      "application/vnd.jupyter.widget-view+json": {
       "model_id": "c7baa9fb394043cbb216f4752c4d73c4",
       "version_major": 2,
       "version_minor": 0
      },
      "text/plain": [
       "Map:   0%|          | 0/2140 [00:00<?, ? examples/s]"
      ]
     },
     "metadata": {},
     "output_type": "display_data"
    },
    {
     "data": {
      "application/vnd.jupyter.widget-view+json": {
       "model_id": "7939cfc41df44e38a94225dd4ad03990",
       "version_major": 2,
       "version_minor": 0
      },
      "text/plain": [
       "Map:   0%|          | 0/2140 [00:00<?, ? examples/s]"
      ]
     },
     "metadata": {},
     "output_type": "display_data"
    },
    {
     "data": {
      "text/plain": [
       "DatasetDict({\n",
       "    train: Dataset({\n",
       "        features: ['tweet', 'label', 'id', 'input_ids', 'token_type_ids', 'attention_mask'],\n",
       "        num_rows: 6420\n",
       "    })\n",
       "    test: Dataset({\n",
       "        features: ['tweet', 'label', 'id', 'input_ids', 'token_type_ids', 'attention_mask'],\n",
       "        num_rows: 2140\n",
       "    })\n",
       "    val: Dataset({\n",
       "        features: ['tweet', 'label', 'id', 'input_ids', 'token_type_ids', 'attention_mask'],\n",
       "        num_rows: 2140\n",
       "    })\n",
       "})"
      ]
     },
     "execution_count": 18,
     "metadata": {},
     "output_type": "execute_result"
    }
   ],
   "source": [
    "tokenized_dataset = dataset.map(lambda x: tokenizer(x['tweet'], truncation=True, padding='max_length', max_length=MAX_SEQ_LEN, return_tensors='pt'), batched=True)\n",
    "tokenized_dataset.set_format('torch', device=device)\n",
    "tokenized_dataset"
   ]
  },
  {
   "cell_type": "code",
   "execution_count": 19,
   "metadata": {
    "colab": {
     "base_uri": "https://localhost:8080/"
    },
    "id": "QU3O5O2FJQuv",
    "outputId": "49165f6a-fc1d-4c8a-84cd-406ab4639cd3",
    "tags": []
   },
   "outputs": [
    {
     "name": "stderr",
     "output_type": "stream",
     "text": [
      "Some weights of BertForSequenceClassification were not initialized from the model checkpoint at bert-base-cased and are newly initialized: ['classifier.bias', 'classifier.weight']\n",
      "You should probably TRAIN this model on a down-stream task to be able to use it for predictions and inference.\n"
     ]
    },
    {
     "data": {
      "text/plain": [
       "BertForSequenceClassification(\n",
       "  (bert): BertModel(\n",
       "    (embeddings): BertEmbeddings(\n",
       "      (word_embeddings): Embedding(28996, 768, padding_idx=0)\n",
       "      (position_embeddings): Embedding(512, 768)\n",
       "      (token_type_embeddings): Embedding(2, 768)\n",
       "      (LayerNorm): LayerNorm((768,), eps=1e-12, elementwise_affine=True)\n",
       "      (dropout): Dropout(p=0.1, inplace=False)\n",
       "    )\n",
       "    (encoder): BertEncoder(\n",
       "      (layer): ModuleList(\n",
       "        (0-11): 12 x BertLayer(\n",
       "          (attention): BertAttention(\n",
       "            (self): BertSelfAttention(\n",
       "              (query): Linear(in_features=768, out_features=768, bias=True)\n",
       "              (key): Linear(in_features=768, out_features=768, bias=True)\n",
       "              (value): Linear(in_features=768, out_features=768, bias=True)\n",
       "              (dropout): Dropout(p=0.1, inplace=False)\n",
       "            )\n",
       "            (output): BertSelfOutput(\n",
       "              (dense): Linear(in_features=768, out_features=768, bias=True)\n",
       "              (LayerNorm): LayerNorm((768,), eps=1e-12, elementwise_affine=True)\n",
       "              (dropout): Dropout(p=0.1, inplace=False)\n",
       "            )\n",
       "          )\n",
       "          (intermediate): BertIntermediate(\n",
       "            (dense): Linear(in_features=768, out_features=3072, bias=True)\n",
       "            (intermediate_act_fn): GELUActivation()\n",
       "          )\n",
       "          (output): BertOutput(\n",
       "            (dense): Linear(in_features=3072, out_features=768, bias=True)\n",
       "            (LayerNorm): LayerNorm((768,), eps=1e-12, elementwise_affine=True)\n",
       "            (dropout): Dropout(p=0.1, inplace=False)\n",
       "          )\n",
       "        )\n",
       "      )\n",
       "    )\n",
       "    (pooler): BertPooler(\n",
       "      (dense): Linear(in_features=768, out_features=768, bias=True)\n",
       "      (activation): Tanh()\n",
       "    )\n",
       "  )\n",
       "  (dropout): Dropout(p=0.1, inplace=False)\n",
       "  (classifier): Linear(in_features=768, out_features=2, bias=True)\n",
       ")"
      ]
     },
     "execution_count": 19,
     "metadata": {},
     "output_type": "execute_result"
    }
   ],
   "source": [
    "base_model = AutoModelForSequenceClassification.from_pretrained(MODEL_NAME).to(device)\n",
    "base_model"
   ]
  },
  {
   "cell_type": "code",
   "execution_count": 20,
   "metadata": {
    "id": "1NzT1ZxdQiQj",
    "tags": []
   },
   "outputs": [],
   "source": [
    "def count_parameters(model):\n",
    "    return sum(p.numel() for p in model.parameters() if p.requires_grad)"
   ]
  },
  {
   "cell_type": "code",
   "execution_count": 22,
   "metadata": {
    "id": "Q5VVJldIJQuw",
    "tags": []
   },
   "outputs": [],
   "source": [
    "for p in base_model.bert.parameters():\n",
    "    p.requires_grad = False\n",
    "# for p in base_model.pre_classifier.parameters():\n",
    "#     p.requires_grad = True"
   ]
  },
  {
   "cell_type": "code",
   "execution_count": 21,
   "metadata": {
    "colab": {
     "base_uri": "https://localhost:8080/"
    },
    "id": "4pz3HY6kJQuw",
    "outputId": "1062d4bb-5543-4fa1-8d93-cbf349189ca6",
    "tags": []
   },
   "outputs": [
    {
     "data": {
      "text/plain": [
       "108311810"
      ]
     },
     "execution_count": 21,
     "metadata": {},
     "output_type": "execute_result"
    }
   ],
   "source": [
    "count_parameters(base_model)"
   ]
  },
  {
   "cell_type": "code",
   "execution_count": 21,
   "metadata": {
    "id": "Tru9Ev77QseN",
    "tags": []
   },
   "outputs": [],
   "source": [
    "def eval(f):\n",
    "    def wrapper(model, *args, **kwargs):\n",
    "        model.eval()\n",
    "        return f(model, *args, **kwargs)\n",
    "    return wrapper\n",
    "\n",
    "def train(f):\n",
    "    def wrapper(model, *args, **kwargs):\n",
    "        model.train()\n",
    "        return f(model, *args, **kwargs)\n",
    "    return wrapper"
   ]
  },
  {
   "cell_type": "code",
   "execution_count": 22,
   "metadata": {
    "id": "OF6FIFmxTFy4",
    "tags": []
   },
   "outputs": [],
   "source": [
    "@train\n",
    "def train_epoch(model, train_dataloader, optimizer, scheduler, config):\n",
    "    train_loss = 0.0\n",
    "    train_preds = []\n",
    "    train_labels = []\n",
    "\n",
    "    for step, batch in enumerate(tqdm(train_dataloader, total=len(train_dataloader))):\n",
    "        ids = batch['input_ids'].to(device, dtype = torch.long)\n",
    "        mask = batch['attention_mask'].to(device, dtype = torch.long)\n",
    "        targets = batch['label'].to(device, dtype = torch.long)\n",
    "\n",
    "        outputs = model(input_ids=ids, attention_mask=mask, labels=targets) # (B, Seq_Len, 2)\n",
    "\n",
    "        loss, logits = outputs.loss, outputs.logits\n",
    "\n",
    "        probs = F.softmax(logits, dim=-1).cpu()\n",
    "        pred = torch.argmax(probs, dim=-1) # (B)\n",
    "        train_preds += pred.detach().tolist()\n",
    "        train_labels += [l.item() for l in targets.cpu()]\n",
    "        \n",
    "        if (step + 1) % config['gradient_accumulation_steps'] == 0:\n",
    "            scheduler.step()\n",
    "            optimizer.zero_grad()\n",
    "            loss.backward()\n",
    "            optimizer.step()\n",
    "        \n",
    "        batch_loss = loss.item()\n",
    "        if config['gradient_accumulation_steps'] > 1:\n",
    "            batch_loss = batch_loss / config['gradient_accumulation_steps']\n",
    "\n",
    "        train_loss += batch_loss\n",
    "    return train_loss, train_preds, train_labels\n",
    "\n",
    "@eval\n",
    "def eval_epoch(model, val_dataloader):\n",
    "    val_loss = 0.0\n",
    "    val_preds = []\n",
    "    val_labels = []\n",
    "\n",
    "    with torch.no_grad():\n",
    "\n",
    "        for step, batch in enumerate(tqdm(val_dataloader, total=len(val_dataloader))):\n",
    "            ids = batch['input_ids'].to(device, dtype = torch.long)\n",
    "            mask = batch['attention_mask'].to(device, dtype = torch.long)\n",
    "            targets = batch['label'].to(device, dtype = torch.long)\n",
    "\n",
    "            outputs = model(input_ids=ids, attention_mask=mask, labels=targets)\n",
    "\n",
    "            loss, logits = outputs.loss, outputs.logits\n",
    "\n",
    "            probs = F.softmax(logits, dim=-1).cpu()\n",
    "            pred = torch.argmax(probs, dim=-1) # (B)\n",
    "            val_preds += pred.detach().tolist()\n",
    "            val_labels += [l.item() for l in targets.cpu()]\n",
    "\n",
    "            val_loss += loss.item()\n",
    "    return val_loss, val_preds, val_labels"
   ]
  },
  {
   "cell_type": "code",
   "execution_count": 23,
   "metadata": {
    "id": "COJTR-VlQzGz",
    "tags": []
   },
   "outputs": [],
   "source": [
    "def training(model, train_data, val_data, config):\n",
    "    model = model.to(device)\n",
    "\n",
    "    optimizer = torch.optim.AdamW(\n",
    "        params=model.parameters(),\n",
    "        lr=config['lr'],\n",
    "        weight_decay=config['weight_decay']\n",
    "    )\n",
    "\n",
    "    num_train_steps = int(len(train_data) / config['batch_size'] * config['epochs'])\n",
    "    steps_per_epoch = len(train_data) / config['batch_size']\n",
    "    \n",
    "    scheduler = get_linear_schedule_with_warmup(\n",
    "        optimizer,\n",
    "        num_warmup_steps=config['num_warmup_steps'],\n",
    "        num_training_steps=num_train_steps,\n",
    "    )\n",
    "\n",
    "    print(f'Train steps: {num_train_steps}')\n",
    "    print(f'Steps per epoch: {steps_per_epoch}')\n",
    "\n",
    "    train_dataloader = torch.utils.data.DataLoader(train_data, batch_size=config['batch_size'], shuffle=True)\n",
    "    val_dataloader = torch.utils.data.DataLoader(val_data, batch_size=config['batch_size'])\n",
    "\n",
    "    history = {\n",
    "        'train_losses': [],\n",
    "        'val_losses': [],\n",
    "        'train_acc': [],\n",
    "        'val_acc': [],\n",
    "        'train_f1': [],\n",
    "        'val_f1': [],\n",
    "        'train_precision': [],\n",
    "        'val_precision': [],\n",
    "        'train_recall': [],\n",
    "        'val_recall': [],\n",
    "    }\n",
    "\n",
    "    for epoch_num in range(config['epochs']):\n",
    "        print(f'Epoch: {epoch_num + 1}')\n",
    "\n",
    "        # train stage\n",
    "        train_loss, train_preds, train_labels = train_epoch(model, train_dataloader, optimizer, scheduler, config)\n",
    "\n",
    "        # eval stage\n",
    "        val_loss, val_preds, val_labels = eval_epoch(model, val_dataloader)\n",
    "\n",
    "        # metrics\n",
    "        train_acc = accuracy_score(train_labels, train_preds)\n",
    "        val_acc = accuracy_score(val_labels, val_preds)\n",
    "        train_f1 = f1_score(train_labels, train_preds, average='macro')\n",
    "        val_f1 = f1_score(val_labels, val_preds, average='macro')\n",
    "        train_precision = precision_score(train_labels, train_preds)\n",
    "        val_precision = precision_score(val_labels, val_preds)\n",
    "        train_recall = recall_score(train_labels, train_preds)\n",
    "        val_recall = recall_score(val_labels, val_preds)\n",
    "\n",
    "        history['train_losses'].append(train_loss / len(train_dataloader))\n",
    "        history['val_losses'].append(val_loss / len(val_dataloader))\n",
    "        history['train_acc'].append(train_acc)\n",
    "        history['val_acc'].append(val_acc)\n",
    "        history['train_f1'].append(train_f1)\n",
    "        history['val_f1'].append(val_f1)\n",
    "        history['train_precision'].append(train_precision)\n",
    "        history['val_precision'].append(val_precision)\n",
    "        history['train_recall'].append(train_recall)\n",
    "        history['val_recall'].append(val_recall)\n",
    "\n",
    "        print()\n",
    "        print(f'Train loss: {train_loss / len(train_dataloader)} | Val loss: {val_loss / len(val_dataloader)}')\n",
    "        print(f'Train acc: {train_acc} | Val acc: {val_acc}')\n",
    "        print(f'Train f1: {train_f1} | Val f1: {val_f1}')\n",
    "        print(f'Train precision: {train_precision} | Val precision: {val_precision}')\n",
    "        print(f'Train recall: {train_recall} | Val recall: {val_recall}')\n",
    "\n",
    "    free_gpu_cache(device_id)\n",
    "    return history"
   ]
  },
  {
   "cell_type": "code",
   "execution_count": 24,
   "metadata": {
    "tags": []
   },
   "outputs": [],
   "source": [
    "def plot_scheduler_stats(stats):\n",
    "    epochs_x = list(range(1, len(stats['lr_history']) + 1))\n",
    "\n",
    "    f, (ax1, ax2) = plt.subplots(1, 2, figsize=(12, 6))\n",
    "    ax1.plot(epochs_x, stats['lr_history'])\n",
    "    ax1.set_title('Learning rates')\n",
    "    ax1.set_xlabel('epoch')\n",
    "    ax1.set_ylabel('learning_rate')\n",
    "\n",
    "    ax2.plot(epochs_x, stats['weights_history'])\n",
    "    ax2.set_title('Weights')\n",
    "    ax2.set_xlabel('epoch')\n",
    "    ax2.set_ylabel('weight')\n",
    "\n",
    "    plt.title('Scheduler stats')\n",
    "    \n",
    "    plt.show()"
   ]
  },
  {
   "cell_type": "code",
   "execution_count": 25,
   "metadata": {
    "colab": {
     "base_uri": "https://localhost:8080/"
    },
    "id": "JXJRyZ4ZJQux",
    "outputId": "819f0611-baf2-4d67-a7d6-f76f17db003c",
    "tags": []
   },
   "outputs": [
    {
     "data": {
      "text/plain": [
       "tensor(0.5741, device='cuda:1', grad_fn=<NllLossBackward0>)"
      ]
     },
     "execution_count": 25,
     "metadata": {},
     "output_type": "execute_result"
    }
   ],
   "source": [
    "ids = tokenized_dataset['test'][1]['input_ids'].unsqueeze(0)\n",
    "mask = tokenized_dataset['test'][1]['attention_mask'].unsqueeze(0)\n",
    "targets = tokenized_dataset['test'][1]['label'].unsqueeze(0)\n",
    "\n",
    "ids = ids.to(device)\n",
    "mask = mask.to(device)\n",
    "targets = targets.to(device)\n",
    "\n",
    "out = base_model(ids, mask, labels=targets)\n",
    "out.loss"
   ]
  },
  {
   "cell_type": "code",
   "execution_count": 26,
   "metadata": {
    "id": "j4NnMuDdJQuy",
    "tags": []
   },
   "outputs": [],
   "source": [
    "config = {\n",
    "    'epochs': NUM_EPOCHS,\n",
    "    'batch_size': BATCH_SIZE,\n",
    "    'gradient_accumulation_steps': 1,\n",
    "    'fp16': False,\n",
    "    'lr': LEARNING_RATE,\n",
    "    'max_grad_norm': MAX_GRAD_NORM,\n",
    "    'weight_decay': 0.01,\n",
    "    'num_warmup_steps': 0,\n",
    "}"
   ]
  },
  {
   "cell_type": "code",
   "execution_count": 27,
   "metadata": {
    "colab": {
     "base_uri": "https://localhost:8080/"
    },
    "id": "EQNqpZRGJQuy",
    "outputId": "1d03404e-7507-4e4d-d190-52f703c71701",
    "tags": []
   },
   "outputs": [
    {
     "name": "stdout",
     "output_type": "stream",
     "text": [
      "Train steps: 1003\n",
      "Steps per epoch: 200.625\n",
      "Epoch: 1\n"
     ]
    },
    {
     "name": "stderr",
     "output_type": "stream",
     "text": [
      "100%|█████████████████████████████████████████| 201/201 [02:58<00:00,  1.12it/s]\n",
      "100%|███████████████████████████████████████████| 67/67 [00:22<00:00,  3.04it/s]\n"
     ]
    },
    {
     "name": "stdout",
     "output_type": "stream",
     "text": [
      "\n",
      "Train loss: 0.24361321445443293 | Val loss: 0.09892841616172844\n",
      "Train acc: 0.8975077881619937 | Val acc: 0.9649532710280374\n",
      "Train f1: 0.8969696035501873 | Val f1: 0.9648718940352475\n",
      "Train precision: 0.9147099447513812 | Val precision: 0.9646017699115044\n",
      "Train recall: 0.865686274509804 | Val recall: 0.961764705882353\n",
      "Epoch: 2\n"
     ]
    },
    {
     "name": "stderr",
     "output_type": "stream",
     "text": [
      "100%|█████████████████████████████████████████| 201/201 [03:01<00:00,  1.11it/s]\n",
      "100%|███████████████████████████████████████████| 67/67 [00:22<00:00,  3.04it/s]\n"
     ]
    },
    {
     "name": "stdout",
     "output_type": "stream",
     "text": [
      "\n",
      "Train loss: 0.06738879851561355 | Val loss: 0.08543544810668413\n",
      "Train acc: 0.9786604361370717 | Val acc: 0.9724299065420561\n",
      "Train f1: 0.978608281353659 | Val f1: 0.9723385250996226\n",
      "Train precision: 0.9802826158396319 | Val precision: 0.9819458375125376\n",
      "Train recall: 0.9748366013071895 | Val recall: 0.9598039215686275\n",
      "Epoch: 3\n"
     ]
    },
    {
     "name": "stderr",
     "output_type": "stream",
     "text": [
      "100%|█████████████████████████████████████████| 201/201 [03:01<00:00,  1.11it/s]\n",
      "100%|███████████████████████████████████████████| 67/67 [00:22<00:00,  3.04it/s]\n"
     ]
    },
    {
     "name": "stdout",
     "output_type": "stream",
     "text": [
      "\n",
      "Train loss: 0.026908338551794118 | Val loss: 0.09276305744598216\n",
      "Train acc: 0.9912772585669782 | Val acc: 0.9761682242990655\n",
      "Train f1: 0.9912581699346406 | Val f1: 0.9761039340929248\n",
      "Train precision: 0.9908496732026144 | Val precision: 0.9801783944499505\n",
      "Train recall: 0.9908496732026144 | Val recall: 0.9696078431372549\n",
      "Epoch: 4\n"
     ]
    },
    {
     "name": "stderr",
     "output_type": "stream",
     "text": [
      "100%|█████████████████████████████████████████| 201/201 [03:01<00:00,  1.11it/s]\n",
      "100%|███████████████████████████████████████████| 67/67 [00:22<00:00,  3.04it/s]\n"
     ]
    },
    {
     "name": "stdout",
     "output_type": "stream",
     "text": [
      "\n",
      "Train loss: 0.011611287608344237 | Val loss: 0.09439691284900781\n",
      "Train acc: 0.9970404984423676 | Val acc: 0.9775700934579439\n",
      "Train f1: 0.9970338037673221 | Val f1: 0.9775084868676889\n",
      "Train precision: 0.997708674304419 | Val precision: 0.9821428571428571\n",
      "Train recall: 0.996078431372549 | Val recall: 0.9705882352941176\n",
      "Epoch: 5\n"
     ]
    },
    {
     "name": "stderr",
     "output_type": "stream",
     "text": [
      "100%|█████████████████████████████████████████| 201/201 [03:01<00:00,  1.11it/s]\n",
      "100%|███████████████████████████████████████████| 67/67 [00:22<00:00,  3.04it/s]"
     ]
    },
    {
     "name": "stdout",
     "output_type": "stream",
     "text": [
      "\n",
      "Train loss: 0.0069783302898569705 | Val loss: 0.09651369735626365\n",
      "Train acc: 0.9989096573208722 | Val acc: 0.97803738317757\n",
      "Train f1: 0.9989072231745721 | Val f1: 0.9779802566664018\n",
      "Train precision: 0.9993457638207393 | Val precision: 0.9812067260138477\n",
      "Train recall: 0.9983660130718954 | Val recall: 0.9725490196078431\n",
      "Initial GPU Usage\n",
      "GPU memory occupied: 23951 MB.\n",
      "GPU Usage after emptying the cache\n",
      "GPU memory occupied: 3883 MB.\n"
     ]
    },
    {
     "name": "stderr",
     "output_type": "stream",
     "text": [
      "\n"
     ]
    }
   ],
   "source": [
    "history = training(base_model, tokenized_dataset['train'], tokenized_dataset['val'], config)"
   ]
  },
  {
   "cell_type": "code",
   "execution_count": 28,
   "metadata": {
    "id": "3Z1HxIVHI1Ox",
    "tags": []
   },
   "outputs": [],
   "source": [
    "def plot_results(history, do_val=True):\n",
    "    fig, ax = plt.subplots(figsize=(8, 8))\n",
    "\n",
    "    x = list(range(0, len(history['train_losses'])))\n",
    "\n",
    "    # loss\n",
    "\n",
    "    ax.plot(x, history['train_losses'], label='train_loss')\n",
    "\n",
    "    if do_val:\n",
    "        ax.plot(x, history['val_losses'], label='val_loss')\n",
    "\n",
    "    plt.title('Train / Validation Loss')\n",
    "    plt.legend(loc='upper right')\n",
    "\n",
    "    # accuracy\n",
    "\n",
    "    if 'train_acc' in history:\n",
    "        fig, ax = plt.subplots(figsize=(8, 8))\n",
    "\n",
    "        ax.plot(x, history['train_acc'], label='train_acc')\n",
    "\n",
    "        if do_val:\n",
    "            ax.plot(x, history['val_acc'], label='val_acc')\n",
    "\n",
    "    plt.title('Train / Validation Accuracy')\n",
    "    plt.legend(loc='upper right')\n",
    "\n",
    "    # f1-score\n",
    "\n",
    "    if 'train_f1' in history:\n",
    "        fig, ax = plt.subplots(figsize=(8, 8))\n",
    "\n",
    "        ax.plot(x, history['train_f1'], label='train_f1')\n",
    "\n",
    "        if do_val:\n",
    "            ax.plot(x, history['val_f1'], label='val_f1')\n",
    "\n",
    "        plt.title('Train / Validation F1')\n",
    "        plt.legend(loc='upper right')\n",
    "\n",
    "    # precision\n",
    "\n",
    "    if 'train_precision' in history:\n",
    "        fig, ax = plt.subplots(figsize=(8, 8))\n",
    "\n",
    "        ax.plot(x, history['train_precision'], label='train_precision')\n",
    "\n",
    "        if do_val:\n",
    "            ax.plot(x, history['val_precision'], label='val_precision')\n",
    "\n",
    "        plt.title('Train / Validation Precision')\n",
    "        plt.legend(loc='upper right')\n",
    "\n",
    "    # recall\n",
    "\n",
    "    if 'train_recall' in history:\n",
    "        fig, ax = plt.subplots(figsize=(8, 8))\n",
    "\n",
    "        ax.plot(x, history['train_recall'], label='train_recall')\n",
    "\n",
    "        if do_val:\n",
    "            ax.plot(x, history['val_recall'], label='val_recall')\n",
    "\n",
    "        plt.title('Train / Validation Recall')\n",
    "        plt.legend(loc='upper right')\n",
    "\n",
    "    fig.show()"
   ]
  },
  {
   "cell_type": "code",
   "execution_count": 29,
   "metadata": {
    "id": "bG7e7khvJQuz",
    "outputId": "222fe106-f46b-469d-db2b-c01222f8b1d0",
    "tags": []
   },
   "outputs": [
    {
     "data": {
      "image/png": "[encoded data removed]",
      "text/plain": [
       "<Figure size 576x576 with 1 Axes>"
      ]
     },
     "metadata": {
      "needs_background": "light"
     },
     "output_type": "display_data"
    },
    {
     "data": {
      "image/png": "[encoded data removed]",
      "text/plain": [
       "<Figure size 576x576 with 1 Axes>"
      ]
     },
     "metadata": {
      "needs_background": "light"
     },
     "output_type": "display_data"
    },
    {
     "data": {
      "image/png": "[encoded data removed]",
      "text/plain": [
       "<Figure size 576x576 with 1 Axes>"
      ]
     },
     "metadata": {
      "needs_background": "light"
     },
     "output_type": "display_data"
    },
    {
     "data": {
      "image/png": "[encoded data removed]",
      "text/plain": [
       "<Figure size 576x576 with 1 Axes>"
      ]
     },
     "metadata": {
      "needs_background": "light"
     },
     "output_type": "display_data"
    },
    {
     "data": {
      "image/png": "[encoded data removed]",
      "text/plain": [
       "<Figure size 576x576 with 1 Axes>"
      ]
     },
     "metadata": {
      "needs_background": "light"
     },
     "output_type": "display_data"
    }
   ],
   "source": [
    "plot_results(history)"
   ]
  },
  {
   "cell_type": "code",
   "execution_count": 36,
   "metadata": {
    "id": "tXbl4gEnJQuz",
    "tags": []
   },
   "outputs": [],
   "source": [
    "torch.save(base_model.state_dict(), f'{MODELS_PATH}/{DATASET_NAME}_{MODEL_NAME}_{NUM_EPOCHS}.bin')"
   ]
  },
  {
   "cell_type": "code",
   "execution_count": 30,
   "metadata": {
    "id": "FfReHdHLJQuz",
    "tags": []
   },
   "outputs": [],
   "source": [
    "val_dataset = tokenized_dataset['test']"
   ]
  },
  {
   "cell_type": "code",
   "execution_count": 31,
   "metadata": {
    "id": "dQXkQPscJQu0",
    "tags": []
   },
   "outputs": [],
   "source": [
    "val_dataloader = torch.utils.data.DataLoader(val_dataset, batch_size=config['batch_size'])"
   ]
  },
  {
   "cell_type": "code",
   "execution_count": 32,
   "metadata": {
    "tags": []
   },
   "outputs": [
    {
     "name": "stderr",
     "output_type": "stream",
     "text": [
      "100%|███████████████████████████████████████████| 67/67 [00:20<00:00,  3.24it/s]\n"
     ]
    }
   ],
   "source": [
    "val_loss, val_preds, val_labels = eval_epoch(base_model, val_dataloader)"
   ]
  },
  {
   "cell_type": "code",
   "execution_count": 33,
   "metadata": {
    "id": "KjpdE0mdJQu0",
    "outputId": "006991a9-afd7-421d-adb5-4ccd4d8eeb94",
    "tags": []
   },
   "outputs": [],
   "source": [
    "val_acc = accuracy_score(val_labels, val_preds)\n",
    "val_f1 = f1_score(val_labels, val_preds, average='macro')\n",
    "val_precision = precision_score(val_labels, val_preds)\n",
    "val_recall = recall_score(val_labels, val_preds)"
   ]
  },
  {
   "cell_type": "code",
   "execution_count": 34,
   "metadata": {
    "id": "y7RgOP_9JQu0",
    "outputId": "44e7cc2f-b1c3-4889-ae28-e77162a49b1e",
    "tags": []
   },
   "outputs": [
    {
     "name": "stdout",
     "output_type": "stream",
     "text": [
      "Val loss: 0.08461968362880454\n",
      "Val acc: 0.9752336448598131\n",
      "Val f1: 0.9751805276337099\n",
      "Val precision: 0.9735553379040157\n",
      "Val recall: 0.9745098039215686\n"
     ]
    }
   ],
   "source": [
    "print(f'Val loss: {val_loss / len(val_dataloader)}')\n",
    "print(f'Val acc: {val_acc}')\n",
    "print(f'Val f1: {val_f1}')\n",
    "print(f'Val precision: {val_precision}')\n",
    "print(f'Val recall: {val_recall}')"
   ]
  },
  {
   "cell_type": "code",
   "execution_count": 34,
   "metadata": {
    "tags": []
   },
   "outputs": [
    {
     "name": "stdout",
     "output_type": "stream",
     "text": [
      "Train steps: 125\n",
      "Steps per epoch: 25.078125\n",
      "Epoch: 1\n"
     ]
    },
    {
     "name": "stderr",
     "output_type": "stream",
     "text": [
      "100%|███████████████████████████████████████████| 26/26 [01:07<00:00,  2.58s/it]\n",
      "100%|█████████████████████████████████████████████| 9/9 [00:21<00:00,  2.38s/it]\n"
     ]
    },
    {
     "name": "stdout",
     "output_type": "stream",
     "text": [
      "\n",
      "Train loss: 0.7065824568271637 | Val loss: 0.6938533981641134\n",
      "Train acc: 0.4806853582554517 | Val acc: 0.5130841121495328\n",
      "Train f1: 0.472618661959095 | Val f1: 0.43071796709934423\n",
      "Train precision: 0.46701974000962926 | Val precision: 0.46405228758169936\n",
      "Train recall: 0.6339869281045751 | Val recall: 0.1392156862745098\n",
      "Epoch: 2\n"
     ]
    },
    {
     "name": "stderr",
     "output_type": "stream",
     "text": [
      "100%|███████████████████████████████████████████| 26/26 [01:08<00:00,  2.64s/it]\n",
      "100%|█████████████████████████████████████████████| 9/9 [00:21<00:00,  2.39s/it]\n"
     ]
    },
    {
     "name": "stdout",
     "output_type": "stream",
     "text": [
      "\n",
      "Train loss: 0.6976014008888831 | Val loss: 0.6917231745190091\n",
      "Train acc: 0.5042056074766356 | Val acc: 0.514018691588785\n",
      "Train f1: 0.4850894255995234 | Val f1: 0.3740324729092414\n",
      "Train precision: 0.47103155911446065 | Val precision: 0.4074074074074074\n",
      "Train recall: 0.32679738562091504 | Val recall: 0.043137254901960784\n",
      "Epoch: 3\n"
     ]
    },
    {
     "name": "stderr",
     "output_type": "stream",
     "text": [
      "100%|███████████████████████████████████████████| 26/26 [01:08<00:00,  2.64s/it]\n",
      "100%|█████████████████████████████████████████████| 9/9 [00:21<00:00,  2.39s/it]\n"
     ]
    },
    {
     "name": "stdout",
     "output_type": "stream",
     "text": [
      "\n",
      "Train loss: 0.6963237203084506 | Val loss: 0.6900688807169596\n",
      "Train acc: 0.5121495327102804 | Val acc: 0.5299065420560748\n",
      "Train f1: 0.49234630399234747 | Val f1: 0.4145277528487123\n",
      "Train precision: 0.48279158699808794 | Val precision: 0.5411764705882353\n",
      "Train recall: 0.3300653594771242 | Val recall: 0.09019607843137255\n",
      "Epoch: 4\n"
     ]
    },
    {
     "name": "stderr",
     "output_type": "stream",
     "text": [
      "100%|███████████████████████████████████████████| 26/26 [01:08<00:00,  2.64s/it]\n",
      "100%|█████████████████████████████████████████████| 9/9 [00:21<00:00,  2.39s/it]\n"
     ]
    },
    {
     "name": "stdout",
     "output_type": "stream",
     "text": [
      "\n",
      "Train loss: 0.6962072918048272 | Val loss: 0.6893396311336093\n",
      "Train acc: 0.5152647975077882 | Val acc: 0.5257009345794392\n",
      "Train f1: 0.4948703362383477 | Val f1: 0.39555609479314474\n",
      "Train precision: 0.48743961352657006 | Val precision: 0.5196850393700787\n",
      "Train recall: 0.32973856209150326 | Val recall: 0.06470588235294118\n",
      "Epoch: 5\n"
     ]
    },
    {
     "name": "stderr",
     "output_type": "stream",
     "text": [
      "100%|███████████████████████████████████████████| 26/26 [01:08<00:00,  2.63s/it]\n",
      "100%|█████████████████████████████████████████████| 9/9 [00:21<00:00,  2.39s/it]\n"
     ]
    },
    {
     "name": "stdout",
     "output_type": "stream",
     "text": [
      "\n",
      "Train loss: 0.69295734167099 | Val loss: 0.6891545653343201\n",
      "Train acc: 0.5297507788161994 | Val acc: 0.5257009345794392\n",
      "Train f1: 0.5085643937116766 | Val f1: 0.39080944291639635\n",
      "Train precision: 0.5101134681795757 | Val precision: 0.5221238938053098\n",
      "Train recall: 0.33790849673202616 | Val recall: 0.05784313725490196\n",
      "Initial GPU Usage\n",
      "GPU memory occupied: 13383 MB.\n",
      "GPU Usage after emptying the cache\n",
      "GPU memory occupied: 1063 MB.\n"
     ]
    },
    {
     "name": "stderr",
     "output_type": "stream",
     "text": [
      "100%|█████████████████████████████████████████████| 9/9 [00:21<00:00,  2.39s/it]\n"
     ]
    },
    {
     "name": "stdout",
     "output_type": "stream",
     "text": [
      "Val loss: 0.6887211932076348\n",
      "Val acc: 0.5280373831775701\n",
      "Val f1: 0.3988657045847963\n",
      "Val precision: 0.5390625\n",
      "Val recall: 0.06764705882352941\n",
      "Train steps: 125\n",
      "Steps per epoch: 25.078125\n",
      "Epoch: 1\n"
     ]
    },
    {
     "name": "stderr",
     "output_type": "stream",
     "text": [
      "100%|███████████████████████████████████████████| 26/26 [01:08<00:00,  2.63s/it]\n",
      "100%|█████████████████████████████████████████████| 9/9 [00:21<00:00,  2.38s/it]\n"
     ]
    },
    {
     "name": "stdout",
     "output_type": "stream",
     "text": [
      "\n",
      "Train loss: 0.6957221077038691 | Val loss: 0.6860824757152133\n",
      "Train acc: 0.5205607476635514 | Val acc: 0.555607476635514\n",
      "Train f1: 0.5007135277174188 | Val f1: 0.44217905231781274\n",
      "Train precision: 0.49567307692307694 | Val precision: 0.7225806451612903\n",
      "Train recall: 0.3369281045751634 | Val recall: 0.10980392156862745\n",
      "Epoch: 2\n"
     ]
    },
    {
     "name": "stderr",
     "output_type": "stream",
     "text": [
      "100%|███████████████████████████████████████████| 26/26 [01:08<00:00,  2.64s/it]\n",
      "100%|█████████████████████████████████████████████| 9/9 [00:21<00:00,  2.38s/it]\n"
     ]
    },
    {
     "name": "stdout",
     "output_type": "stream",
     "text": [
      "\n",
      "Train loss: 0.6892381516786722 | Val loss: 0.6839738090833029\n",
      "Train acc: 0.5338006230529595 | Val acc: 0.5738317757009346\n",
      "Train f1: 0.5226085215019656 | Val f1: 0.4761749347258486\n",
      "Train precision: 0.5140933950357593 | Val precision: 0.7755102040816326\n",
      "Train recall: 0.3993464052287582 | Val recall: 0.14901960784313725\n",
      "Epoch: 3\n"
     ]
    },
    {
     "name": "stderr",
     "output_type": "stream",
     "text": [
      "100%|███████████████████████████████████████████| 26/26 [01:08<00:00,  2.63s/it]\n",
      "100%|█████████████████████████████████████████████| 9/9 [00:21<00:00,  2.39s/it]\n"
     ]
    },
    {
     "name": "stdout",
     "output_type": "stream",
     "text": [
      "\n",
      "Train loss: 0.6921053826808929 | Val loss: 0.682586497730679\n",
      "Train acc: 0.5302180685358255 | Val acc: 0.594392523364486\n",
      "Train f1: 0.5215526085754985 | Val f1: 0.5136384011797186\n",
      "Train precision: 0.5088141025641025 | Val precision: 0.8064516129032258\n",
      "Train recall: 0.4150326797385621 | Val recall: 0.19607843137254902\n",
      "Epoch: 4\n"
     ]
    },
    {
     "name": "stderr",
     "output_type": "stream",
     "text": [
      "100%|███████████████████████████████████████████| 26/26 [01:08<00:00,  2.63s/it]\n",
      "100%|█████████████████████████████████████████████| 9/9 [00:21<00:00,  2.39s/it]\n"
     ]
    },
    {
     "name": "stdout",
     "output_type": "stream",
     "text": [
      "\n",
      "Train loss: 0.6893053650856018 | Val loss: 0.6818386316299438\n",
      "Train acc: 0.5481308411214953 | Val acc: 0.5855140186915888\n",
      "Train f1: 0.5352946414796919 | Val f1: 0.49278733424630083\n",
      "Train precision: 0.5346707370257305 | Val precision: 0.824390243902439\n",
      "Train recall: 0.40065359477124185 | Val recall: 0.16568627450980392\n",
      "Epoch: 5\n"
     ]
    },
    {
     "name": "stderr",
     "output_type": "stream",
     "text": [
      "100%|███████████████████████████████████████████| 26/26 [01:08<00:00,  2.63s/it]\n",
      "100%|█████████████████████████████████████████████| 9/9 [00:21<00:00,  2.39s/it]\n"
     ]
    },
    {
     "name": "stdout",
     "output_type": "stream",
     "text": [
      "\n",
      "Train loss: 0.6852585787956531 | Val loss: 0.6816665596432157\n",
      "Train acc: 0.5464174454828661 | Val acc: 0.5841121495327103\n",
      "Train f1: 0.5336564380118856 | Val f1: 0.4877926514946149\n",
      "Train precision: 0.5322019147084421 | Val precision: 0.8385416666666666\n",
      "Train recall: 0.3996732026143791 | Val recall: 0.15784313725490196\n",
      "Initial GPU Usage\n",
      "GPU memory occupied: 13743 MB.\n",
      "GPU Usage after emptying the cache\n",
      "GPU memory occupied: 1063 MB.\n"
     ]
    },
    {
     "name": "stderr",
     "output_type": "stream",
     "text": [
      "100%|█████████████████████████████████████████████| 9/9 [00:21<00:00,  2.39s/it]\n"
     ]
    },
    {
     "name": "stdout",
     "output_type": "stream",
     "text": [
      "Val loss: 0.681025226910909\n",
      "Val acc: 0.5850467289719626\n",
      "Val f1: 0.4929581072485176\n",
      "Val precision: 0.8173076923076923\n",
      "Val recall: 0.16666666666666666\n",
      "Train steps: 125\n",
      "Steps per epoch: 25.078125\n",
      "Epoch: 1\n"
     ]
    },
    {
     "name": "stderr",
     "output_type": "stream",
     "text": [
      "100%|███████████████████████████████████████████| 26/26 [01:08<00:00,  2.64s/it]\n",
      "100%|█████████████████████████████████████████████| 9/9 [00:21<00:00,  2.39s/it]\n"
     ]
    },
    {
     "name": "stdout",
     "output_type": "stream",
     "text": [
      "\n",
      "Train loss: 0.6869974113427676 | Val loss: 0.6788104441430833\n",
      "Train acc: 0.5537383177570093 | Val acc: 0.5785046728971963\n",
      "Train f1: 0.5414971468116748 | Val f1: 0.4777380952380952\n",
      "Train precision: 0.5421895283427088 | Val precision: 0.8277777777777777\n",
      "Train recall: 0.4094771241830065 | Val recall: 0.14607843137254903\n",
      "Epoch: 2\n"
     ]
    },
    {
     "name": "stderr",
     "output_type": "stream",
     "text": [
      "100%|███████████████████████████████████████████| 26/26 [01:08<00:00,  2.64s/it]\n",
      "100%|█████████████████████████████████████████████| 9/9 [00:21<00:00,  2.39s/it]\n"
     ]
    },
    {
     "name": "stdout",
     "output_type": "stream",
     "text": [
      "\n",
      "Train loss: 0.6809051174383897 | Val loss: 0.6768044829368591\n",
      "Train acc: 0.5623052959501558 | Val acc: 0.5813084112149532\n",
      "Train f1: 0.549264719991557 | Val f1: 0.48382372735348755\n",
      "Train precision: 0.5551146384479718 | Val precision: 0.8263157894736842\n",
      "Train recall: 0.411437908496732 | Val recall: 0.153921568627451\n",
      "Epoch: 3\n"
     ]
    },
    {
     "name": "stderr",
     "output_type": "stream",
     "text": [
      "100%|███████████████████████████████████████████| 26/26 [01:08<00:00,  2.64s/it]\n",
      "100%|█████████████████████████████████████████████| 9/9 [00:21<00:00,  2.39s/it]\n"
     ]
    },
    {
     "name": "stdout",
     "output_type": "stream",
     "text": [
      "\n",
      "Train loss: 0.6845259070396423 | Val loss: 0.675240503417121\n",
      "Train acc: 0.5657320872274143 | Val acc: 0.6065420560747663\n",
      "Train f1: 0.5455789934198048 | Val f1: 0.5303391896273637\n",
      "Train precision: 0.5677290836653387 | Val precision: 0.8449612403100775\n",
      "Train recall: 0.37254901960784315 | Val recall: 0.21372549019607842\n",
      "Epoch: 4\n"
     ]
    },
    {
     "name": "stderr",
     "output_type": "stream",
     "text": [
      "100%|███████████████████████████████████████████| 26/26 [01:08<00:00,  2.63s/it]\n",
      "100%|█████████████████████████████████████████████| 9/9 [00:21<00:00,  2.39s/it]\n"
     ]
    },
    {
     "name": "stdout",
     "output_type": "stream",
     "text": [
      "\n",
      "Train loss: 0.6836065283188453 | Val loss: 0.6744250257809957\n",
      "Train acc: 0.5566978193146418 | Val acc: 0.6121495327102804\n",
      "Train f1: 0.5424732445062693 | Val f1: 0.5415074858027878\n",
      "Train precision: 0.5480251346499102 | Val precision: 0.8392857142857143\n",
      "Train recall: 0.3990196078431373 | Val recall: 0.23039215686274508\n",
      "Epoch: 5\n"
     ]
    },
    {
     "name": "stderr",
     "output_type": "stream",
     "text": [
      "100%|███████████████████████████████████████████| 26/26 [01:08<00:00,  2.64s/it]\n",
      "100%|█████████████████████████████████████████████| 9/9 [00:21<00:00,  2.39s/it]\n"
     ]
    },
    {
     "name": "stdout",
     "output_type": "stream",
     "text": [
      "\n",
      "Train loss: 0.6826991003293258 | Val loss: 0.6741836998197768\n",
      "Train acc: 0.5601246105919003 | Val acc: 0.6200934579439252\n",
      "Train f1: 0.5473138576779026 | Val f1: 0.5589128968198134\n",
      "Train precision: 0.5517543859649123 | Val precision: 0.8204334365325078\n",
      "Train recall: 0.4111111111111111 | Val recall: 0.25980392156862747\n",
      "Initial GPU Usage\n",
      "GPU memory occupied: 13743 MB.\n",
      "GPU Usage after emptying the cache\n",
      "GPU memory occupied: 1063 MB.\n"
     ]
    },
    {
     "name": "stderr",
     "output_type": "stream",
     "text": [
      "100%|█████████████████████████████████████████████| 9/9 [00:21<00:00,  2.39s/it]\n"
     ]
    },
    {
     "name": "stdout",
     "output_type": "stream",
     "text": [
      "Val loss: 0.6733433736695184\n",
      "Val acc: 0.6224299065420561\n",
      "Val f1: 0.5621554334031202\n",
      "Val precision: 0.8251533742331288\n",
      "Val recall: 0.26372549019607844\n",
      "Train steps: 125\n",
      "Steps per epoch: 25.078125\n",
      "Epoch: 1\n"
     ]
    },
    {
     "name": "stderr",
     "output_type": "stream",
     "text": [
      "100%|███████████████████████████████████████████| 26/26 [01:08<00:00,  2.64s/it]\n",
      "100%|█████████████████████████████████████████████| 9/9 [00:21<00:00,  2.39s/it]\n"
     ]
    },
    {
     "name": "stdout",
     "output_type": "stream",
     "text": [
      "\n",
      "Train loss: 0.6822134279287778 | Val loss: 0.6717033916049533\n",
      "Train acc: 0.569158878504673 | Val acc: 0.6224299065420561\n",
      "Train f1: 0.5521822569785065 | Val f1: 0.5603765295495965\n",
      "Train precision: 0.5696682464454976 | Val precision: 0.8354430379746836\n",
      "Train recall: 0.39281045751633986 | Val recall: 0.25882352941176473\n",
      "Epoch: 2\n"
     ]
    },
    {
     "name": "stderr",
     "output_type": "stream",
     "text": [
      "100%|███████████████████████████████████████████| 26/26 [01:08<00:00,  2.64s/it]\n",
      "100%|█████████████████████████████████████████████| 9/9 [00:21<00:00,  2.39s/it]\n"
     ]
    },
    {
     "name": "stdout",
     "output_type": "stream",
     "text": [
      "\n",
      "Train loss: 0.6763122173456045 | Val loss: 0.6699066228336759\n",
      "Train acc: 0.5811526479750779 | Val acc: 0.6210280373831776\n",
      "Train f1: 0.5654873081065125 | Val f1: 0.5574723238529287\n",
      "Train precision: 0.5866417561886969 | Val precision: 0.8381877022653722\n",
      "Train recall: 0.41045751633986927 | Val recall: 0.25392156862745097\n",
      "Epoch: 3\n"
     ]
    },
    {
     "name": "stderr",
     "output_type": "stream",
     "text": [
      "100%|███████████████████████████████████████████| 26/26 [01:08<00:00,  2.63s/it]\n",
      "100%|█████████████████████████████████████████████| 9/9 [00:21<00:00,  2.39s/it]\n"
     ]
    },
    {
     "name": "stdout",
     "output_type": "stream",
     "text": [
      "\n",
      "Train loss: 0.6788259836343619 | Val loss: 0.6686017314592997\n",
      "Train acc: 0.5738317757009346 | Val acc: 0.624766355140187\n",
      "Train f1: 0.5581357556669677 | Val f1: 0.5664250796354118\n",
      "Train precision: 0.5753488372093023 | Val precision: 0.8238805970149253\n",
      "Train recall: 0.4042483660130719 | Val recall: 0.27058823529411763\n",
      "Epoch: 4\n"
     ]
    },
    {
     "name": "stderr",
     "output_type": "stream",
     "text": [
      "100%|███████████████████████████████████████████| 26/26 [01:08<00:00,  2.63s/it]\n",
      "100%|█████████████████████████████████████████████| 9/9 [00:21<00:00,  2.39s/it]\n"
     ]
    },
    {
     "name": "stdout",
     "output_type": "stream",
     "text": [
      "\n",
      "Train loss: 0.6752685010433197 | Val loss: 0.6678516533639696\n",
      "Train acc: 0.5876947040498443 | Val acc: 0.6294392523364486\n",
      "Train f1: 0.5753409612699485 | Val f1: 0.5761179102684413\n",
      "Train precision: 0.5911699779249449 | Val precision: 0.814404432132964\n",
      "Train recall: 0.43758169934640523 | Val recall: 0.28823529411764703\n",
      "Epoch: 5\n"
     ]
    },
    {
     "name": "stderr",
     "output_type": "stream",
     "text": [
      "100%|███████████████████████████████████████████| 26/26 [01:08<00:00,  2.63s/it]\n",
      "100%|█████████████████████████████████████████████| 9/9 [00:21<00:00,  2.39s/it]\n"
     ]
    },
    {
     "name": "stdout",
     "output_type": "stream",
     "text": [
      "\n",
      "Train loss: 0.6758297773507925 | Val loss: 0.6676612959967719\n",
      "Train acc: 0.5842679127725857 | Val acc: 0.6341121495327103\n",
      "Train f1: 0.5742457513043164 | Val f1: 0.5833440048975641\n",
      "Train precision: 0.5823157894736842 | Val precision: 0.8176943699731903\n",
      "Train recall: 0.4519607843137255 | Val recall: 0.29901960784313725\n",
      "Initial GPU Usage\n",
      "GPU memory occupied: 13743 MB.\n",
      "GPU Usage after emptying the cache\n",
      "GPU memory occupied: 1061 MB.\n"
     ]
    },
    {
     "name": "stderr",
     "output_type": "stream",
     "text": [
      "100%|█████████████████████████████████████████████| 9/9 [00:21<00:00,  2.40s/it]\n"
     ]
    },
    {
     "name": "stdout",
     "output_type": "stream",
     "text": [
      "Val loss: 0.6667103105121188\n",
      "Val acc: 0.6420560747663552\n",
      "Val f1: 0.5955014701948711\n",
      "Val precision: 0.8223350253807107\n",
      "Val recall: 0.3176470588235294\n",
      "Train steps: 125\n",
      "Steps per epoch: 25.078125\n",
      "Epoch: 1\n"
     ]
    },
    {
     "name": "stderr",
     "output_type": "stream",
     "text": [
      "100%|███████████████████████████████████████████| 26/26 [01:08<00:00,  2.63s/it]\n",
      "100%|█████████████████████████████████████████████| 9/9 [00:21<00:00,  2.39s/it]\n"
     ]
    },
    {
     "name": "stdout",
     "output_type": "stream",
     "text": [
      "\n",
      "Train loss: 0.6721883576649886 | Val loss: 0.6656128234333463\n",
      "Train acc: 0.5842679127725857 | Val acc: 0.6242990654205608\n",
      "Train f1: 0.570112025650305 | Val f1: 0.5643229807625108\n",
      "Train precision: 0.5890660592255126 | Val precision: 0.8312883435582822\n",
      "Train recall: 0.42254901960784313 | Val recall: 0.2656862745098039\n",
      "Epoch: 2\n"
     ]
    },
    {
     "name": "stderr",
     "output_type": "stream",
     "text": [
      "100%|███████████████████████████████████████████| 26/26 [01:08<00:00,  2.63s/it]\n",
      "100%|█████████████████████████████████████████████| 9/9 [00:21<00:00,  2.39s/it]\n"
     ]
    },
    {
     "name": "stdout",
     "output_type": "stream",
     "text": [
      "\n",
      "Train loss: 0.6740955572861892 | Val loss: 0.6636503868632846\n",
      "Train acc: 0.5950155763239875 | Val acc: 0.6532710280373831\n",
      "Train f1: 0.5793219553010676 | Val f1: 0.6135608531897268\n",
      "Train precision: 0.6084905660377359 | Val precision: 0.8202764976958525\n",
      "Train recall: 0.4215686274509804 | Val recall: 0.34901960784313724\n",
      "Epoch: 3\n"
     ]
    },
    {
     "name": "stderr",
     "output_type": "stream",
     "text": [
      "100%|███████████████████████████████████████████| 26/26 [01:08<00:00,  2.64s/it]\n",
      "100%|█████████████████████████████████████████████| 9/9 [00:21<00:00,  2.39s/it]\n"
     ]
    },
    {
     "name": "stdout",
     "output_type": "stream",
     "text": [
      "\n",
      "Train loss: 0.6729747653007507 | Val loss: 0.6626003450817533\n",
      "Train acc: 0.5926791277258567 | Val acc: 0.6560747663551402\n",
      "Train f1: 0.5853243300821593 | Val f1: 0.6182021097009592\n",
      "Train precision: 0.5888223552894212 | Val precision: 0.8183856502242153\n",
      "Train recall: 0.4820261437908497 | Val recall: 0.35784313725490197\n",
      "Epoch: 4\n"
     ]
    },
    {
     "name": "stderr",
     "output_type": "stream",
     "text": [
      "100%|███████████████████████████████████████████| 26/26 [01:08<00:00,  2.63s/it]\n",
      "100%|█████████████████████████████████████████████| 9/9 [00:21<00:00,  2.38s/it]\n"
     ]
    },
    {
     "name": "stdout",
     "output_type": "stream",
     "text": [
      "\n",
      "Train loss: 0.6712443782733037 | Val loss: 0.6621292763286166\n",
      "Train acc: 0.5984423676012461 | Val acc: 0.6439252336448598\n",
      "Train f1: 0.5850346965266164 | Val f1: 0.5970346208021351\n",
      "Train precision: 0.6092475067996374 | Val precision: 0.8307692307692308\n",
      "Train recall: 0.4392156862745098 | Val recall: 0.3176470588235294\n",
      "Epoch: 5\n"
     ]
    },
    {
     "name": "stderr",
     "output_type": "stream",
     "text": [
      "100%|███████████████████████████████████████████| 26/26 [01:08<00:00,  2.64s/it]\n",
      "100%|█████████████████████████████████████████████| 9/9 [00:21<00:00,  2.39s/it]\n"
     ]
    },
    {
     "name": "stdout",
     "output_type": "stream",
     "text": [
      "\n",
      "Train loss: 0.6715471744537354 | Val loss: 0.6619418064753214\n",
      "Train acc: 0.5990654205607476 | Val acc: 0.6490654205607477\n",
      "Train f1: 0.5871200673516968 | Val f1: 0.6052447036289516\n",
      "Train precision: 0.6071428571428571 | Val precision: 0.8304668304668305\n",
      "Train recall: 0.45 | Val recall: 0.33137254901960783\n",
      "Initial GPU Usage\n",
      "GPU memory occupied: 13743 MB.\n",
      "GPU Usage after emptying the cache\n",
      "GPU memory occupied: 1061 MB.\n"
     ]
    },
    {
     "name": "stderr",
     "output_type": "stream",
     "text": [
      "100%|█████████████████████████████████████████████| 9/9 [00:21<00:00,  2.41s/it]\n"
     ]
    },
    {
     "name": "stdout",
     "output_type": "stream",
     "text": [
      "Val loss: 0.6609462632073296\n",
      "Val acc: 0.6523364485981309\n",
      "Val f1: 0.6101453874452005\n",
      "Val precision: 0.8317307692307693\n",
      "Val recall: 0.3392156862745098\n",
      "Train steps: 125\n",
      "Steps per epoch: 25.078125\n",
      "Epoch: 1\n"
     ]
    },
    {
     "name": "stderr",
     "output_type": "stream",
     "text": [
      "100%|███████████████████████████████████████████| 26/26 [01:08<00:00,  2.64s/it]\n",
      "100%|█████████████████████████████████████████████| 9/9 [00:21<00:00,  2.39s/it]\n"
     ]
    },
    {
     "name": "stdout",
     "output_type": "stream",
     "text": [
      "\n",
      "Train loss: 0.6727730150406177 | Val loss: 0.6599923968315125\n",
      "Train acc: 0.6001557632398754 | Val acc: 0.652803738317757\n",
      "Train f1: 0.5867813789926002 | Val f1: 0.609994704334327\n",
      "Train precision: 0.6117913832199546 | Val precision: 0.8369829683698297\n",
      "Train recall: 0.44084967320261437 | Val recall: 0.33725490196078434\n",
      "Epoch: 2\n"
     ]
    },
    {
     "name": "stderr",
     "output_type": "stream",
     "text": [
      "100%|███████████████████████████████████████████| 26/26 [01:08<00:00,  2.64s/it]\n",
      "100%|█████████████████████████████████████████████| 9/9 [00:21<00:00,  2.39s/it]\n"
     ]
    },
    {
     "name": "stdout",
     "output_type": "stream",
     "text": [
      "\n",
      "Train loss: 0.6687820186981788 | Val loss: 0.6585677531030443\n",
      "Train acc: 0.606386292834891 | Val acc: 0.647196261682243\n",
      "Train f1: 0.5938709773435423 | Val f1: 0.6000123781525607\n",
      "Train precision: 0.619346171070309 | Val precision: 0.8441558441558441\n",
      "Train recall: 0.4519607843137255 | Val recall: 0.31862745098039214\n",
      "Epoch: 3\n"
     ]
    },
    {
     "name": "stderr",
     "output_type": "stream",
     "text": [
      "100%|███████████████████████████████████████████| 26/26 [01:08<00:00,  2.63s/it]\n",
      "100%|█████████████████████████████████████████████| 9/9 [00:21<00:00,  2.39s/it]\n"
     ]
    },
    {
     "name": "stdout",
     "output_type": "stream",
     "text": [
      "\n",
      "Train loss: 0.6678666105637183 | Val loss: 0.6575824154747857\n",
      "Train acc: 0.6021806853582554 | Val acc: 0.6457943925233645\n",
      "Train f1: 0.5856048805815162 | Val f1: 0.5976884920634921\n",
      "Train precision: 0.621868978805395 | Val precision: 0.8447368421052631\n",
      "Train recall: 0.4218954248366013 | Val recall: 0.31470588235294117\n",
      "Epoch: 4\n"
     ]
    },
    {
     "name": "stderr",
     "output_type": "stream",
     "text": [
      "100%|███████████████████████████████████████████| 26/26 [01:08<00:00,  2.64s/it]\n",
      "100%|█████████████████████████████████████████████| 9/9 [00:21<00:00,  2.39s/it]\n"
     ]
    },
    {
     "name": "stdout",
     "output_type": "stream",
     "text": [
      "\n",
      "Train loss: 0.6684189163721524 | Val loss: 0.6566537618637085\n",
      "Train acc: 0.6071651090342679 | Val acc: 0.6607476635514019\n",
      "Train f1: 0.5950150495789679 | Val f1: 0.624607123389351\n",
      "Train precision: 0.619661921708185 | Val precision: 0.8223684210526315\n",
      "Train recall: 0.45522875816993463 | Val recall: 0.36764705882352944\n",
      "Epoch: 5\n"
     ]
    },
    {
     "name": "stderr",
     "output_type": "stream",
     "text": [
      "100%|███████████████████████████████████████████| 26/26 [01:08<00:00,  2.64s/it]\n",
      "100%|█████████████████████████████████████████████| 9/9 [00:21<00:00,  2.39s/it]\n"
     ]
    },
    {
     "name": "stdout",
     "output_type": "stream",
     "text": [
      "\n",
      "Train loss: 0.6664898212139423 | Val loss: 0.656523585319519\n",
      "Train acc: 0.6126168224299066 | Val acc: 0.6593457943925234\n",
      "Train f1: 0.601399234595579 | Val f1: 0.6224479004191394\n",
      "Train precision: 0.6254927726675427 | Val precision: 0.8226164079822617\n",
      "Train recall: 0.4666666666666667 | Val recall: 0.3637254901960784\n",
      "Initial GPU Usage\n",
      "GPU memory occupied: 13743 MB.\n",
      "GPU Usage after emptying the cache\n",
      "GPU memory occupied: 1061 MB.\n"
     ]
    },
    {
     "name": "stderr",
     "output_type": "stream",
     "text": [
      "100%|█████████████████████████████████████████████| 9/9 [00:21<00:00,  2.40s/it]\n"
     ]
    },
    {
     "name": "stdout",
     "output_type": "stream",
     "text": [
      "Val loss: 0.6555050545268588\n",
      "Val acc: 0.6710280373831776\n",
      "Val f1: 0.6366789850857417\n",
      "Val precision: 0.841991341991342\n",
      "Val recall: 0.3813725490196078\n",
      "Train steps: 125\n",
      "Steps per epoch: 25.078125\n",
      "Epoch: 1\n"
     ]
    },
    {
     "name": "stderr",
     "output_type": "stream",
     "text": [
      "100%|███████████████████████████████████████████| 26/26 [01:08<00:00,  2.63s/it]\n",
      "100%|█████████████████████████████████████████████| 9/9 [00:21<00:00,  2.39s/it]\n"
     ]
    },
    {
     "name": "stdout",
     "output_type": "stream",
     "text": [
      "\n",
      "Train loss: 0.6649771539064554 | Val loss: 0.6543355782826742\n",
      "Train acc: 0.6169781931464174 | Val acc: 0.664018691588785\n",
      "Train f1: 0.6062231822015287 | Val f1: 0.6304473919648379\n",
      "Train precision: 0.6307090039147455 | Val precision: 0.8168421052631579\n",
      "Train recall: 0.4738562091503268 | Val recall: 0.3803921568627451\n",
      "Epoch: 2\n"
     ]
    },
    {
     "name": "stderr",
     "output_type": "stream",
     "text": [
      "100%|███████████████████████████████████████████| 26/26 [01:08<00:00,  2.64s/it]\n",
      "100%|█████████████████████████████████████████████| 9/9 [00:21<00:00,  2.39s/it]\n"
     ]
    },
    {
     "name": "stdout",
     "output_type": "stream",
     "text": [
      "\n",
      "Train loss: 0.6663038891095382 | Val loss: 0.6526625222629971\n",
      "Train acc: 0.6107476635514019 | Val acc: 0.6785046728971963\n",
      "Train f1: 0.6027845325239076 | Val f1: 0.652635433299737\n",
      "Train precision: 0.6144430844553244 | Val precision: 0.8097014925373134\n",
      "Train recall: 0.492156862745098 | Val recall: 0.42549019607843136\n",
      "Epoch: 3\n"
     ]
    },
    {
     "name": "stderr",
     "output_type": "stream",
     "text": [
      "100%|███████████████████████████████████████████| 26/26 [01:08<00:00,  2.63s/it]\n",
      "100%|█████████████████████████████████████████████| 9/9 [00:21<00:00,  2.39s/it]\n"
     ]
    },
    {
     "name": "stdout",
     "output_type": "stream",
     "text": [
      "\n",
      "Train loss: 0.6601694638912494 | Val loss: 0.6518465148078071\n",
      "Train acc: 0.6261682242990654 | Val acc: 0.6654205607476635\n",
      "Train f1: 0.6158937425680375 | Val f1: 0.6304860132406124\n",
      "Train precision: 0.6428571428571429 | Val precision: 0.829004329004329\n",
      "Train recall: 0.4852941176470588 | Val recall: 0.37549019607843137\n",
      "Epoch: 4\n"
     ]
    },
    {
     "name": "stderr",
     "output_type": "stream",
     "text": [
      "100%|███████████████████████████████████████████| 26/26 [01:08<00:00,  2.63s/it]\n",
      "100%|█████████████████████████████████████████████| 9/9 [00:21<00:00,  2.39s/it]\n"
     ]
    },
    {
     "name": "stdout",
     "output_type": "stream",
     "text": [
      "\n",
      "Train loss: 0.6634574945156391 | Val loss: 0.6511454714669122\n",
      "Train acc: 0.6185358255451714 | Val acc: 0.6728971962616822\n",
      "Train f1: 0.6071919938078433 | Val f1: 0.6427136968017867\n",
      "Train precision: 0.6346408109299251 | Val precision: 0.821285140562249\n",
      "Train recall: 0.47058823529411764 | Val recall: 0.40098039215686276\n",
      "Epoch: 5\n"
     ]
    },
    {
     "name": "stderr",
     "output_type": "stream",
     "text": [
      "100%|███████████████████████████████████████████| 26/26 [01:08<00:00,  2.64s/it]\n",
      "100%|█████████████████████████████████████████████| 9/9 [00:21<00:00,  2.39s/it]\n"
     ]
    },
    {
     "name": "stdout",
     "output_type": "stream",
     "text": [
      "\n",
      "Train loss: 0.6620534956455231 | Val loss: 0.6509751743740506\n",
      "Train acc: 0.6157320872274143 | Val acc: 0.6738317757009346\n",
      "Train f1: 0.6070367050723402 | Val f1: 0.6443645741669808\n",
      "Train precision: 0.6232848232848233 | Val precision: 0.8194444444444444\n",
      "Train recall: 0.4898692810457516 | Val recall: 0.40490196078431373\n",
      "Initial GPU Usage\n",
      "GPU memory occupied: 13743 MB.\n",
      "GPU Usage after emptying the cache\n",
      "GPU memory occupied: 1061 MB.\n"
     ]
    },
    {
     "name": "stderr",
     "output_type": "stream",
     "text": [
      "100%|█████████████████████████████████████████████| 9/9 [00:21<00:00,  2.39s/it]\n"
     ]
    },
    {
     "name": "stdout",
     "output_type": "stream",
     "text": [
      "Val loss: 0.6499696572621664\n",
      "Val acc: 0.6817757009345794\n",
      "Val f1: 0.6537331192697826\n",
      "Val precision: 0.8317025440313112\n",
      "Val recall: 0.4166666666666667\n",
      "Train steps: 125\n",
      "Steps per epoch: 25.078125\n",
      "Epoch: 1\n"
     ]
    },
    {
     "name": "stderr",
     "output_type": "stream",
     "text": [
      "100%|███████████████████████████████████████████| 26/26 [01:08<00:00,  2.64s/it]\n",
      "100%|█████████████████████████████████████████████| 9/9 [00:21<00:00,  2.39s/it]\n"
     ]
    },
    {
     "name": "stdout",
     "output_type": "stream",
     "text": [
      "\n",
      "Train loss: 0.6571406424045563 | Val loss: 0.6489315032958984\n",
      "Train acc: 0.625233644859813 | Val acc: 0.6728971962616822\n",
      "Train f1: 0.6171301022773028 | Val f1: 0.6416418830211934\n",
      "Train precision: 0.6347897774113768 | Val precision: 0.8278688524590164\n",
      "Train recall: 0.5032679738562091 | Val recall: 0.396078431372549\n",
      "Epoch: 2\n"
     ]
    },
    {
     "name": "stderr",
     "output_type": "stream",
     "text": [
      "100%|███████████████████████████████████████████| 26/26 [01:08<00:00,  2.64s/it]\n",
      "100%|█████████████████████████████████████████████| 9/9 [00:21<00:00,  2.39s/it]\n"
     ]
    },
    {
     "name": "stdout",
     "output_type": "stream",
     "text": [
      "\n",
      "Train loss: 0.6586975776232206 | Val loss: 0.6473081906636556\n",
      "Train acc: 0.6230529595015576 | Val acc: 0.6761682242990654\n",
      "Train f1: 0.6147229191109573 | Val f1: 0.6468084224695403\n",
      "Train precision: 0.6324503311258278 | Val precision: 0.8250497017892644\n",
      "Train recall: 0.4993464052287582 | Val recall: 0.4068627450980392\n",
      "Epoch: 3\n"
     ]
    },
    {
     "name": "stderr",
     "output_type": "stream",
     "text": [
      "100%|███████████████████████████████████████████| 26/26 [01:08<00:00,  2.64s/it]\n",
      "100%|█████████████████████████████████████████████| 9/9 [00:21<00:00,  2.39s/it]\n"
     ]
    },
    {
     "name": "stdout",
     "output_type": "stream",
     "text": [
      "\n",
      "Train loss: 0.6562935687028445 | Val loss: 0.6462447775734795\n",
      "Train acc: 0.6370716510903427 | Val acc: 0.680373831775701\n",
      "Train f1: 0.6294286553174682 | Val f1: 0.6525086625942107\n",
      "Train precision: 0.649712879409352 | Val precision: 0.8268482490272373\n",
      "Train recall: 0.5176470588235295 | Val recall: 0.4166666666666667\n",
      "Epoch: 4\n"
     ]
    },
    {
     "name": "stderr",
     "output_type": "stream",
     "text": [
      "100%|███████████████████████████████████████████| 26/26 [01:08<00:00,  2.64s/it]\n",
      "100%|█████████████████████████████████████████████| 9/9 [00:21<00:00,  2.39s/it]\n"
     ]
    },
    {
     "name": "stdout",
     "output_type": "stream",
     "text": [
      "\n",
      "Train loss: 0.6553343970042008 | Val loss: 0.6459351181983948\n",
      "Train acc: 0.6384735202492212 | Val acc: 0.6752336448598131\n",
      "Train f1: 0.6262506026377379 | Val f1: 0.64322373371772\n",
      "Train precision: 0.668030923146885 | Val precision: 0.8392484342379958\n",
      "Train recall: 0.4800653594771242 | Val recall: 0.3941176470588235\n",
      "Epoch: 5\n"
     ]
    },
    {
     "name": "stderr",
     "output_type": "stream",
     "text": [
      "100%|███████████████████████████████████████████| 26/26 [01:08<00:00,  2.64s/it]\n",
      "100%|█████████████████████████████████████████████| 9/9 [00:21<00:00,  2.39s/it]\n"
     ]
    },
    {
     "name": "stdout",
     "output_type": "stream",
     "text": [
      "\n",
      "Train loss: 0.6545815215660975 | Val loss: 0.6458463271458944\n",
      "Train acc: 0.6311526479750779 | Val acc: 0.6738317757009346\n",
      "Train f1: 0.6181656632812371 | Val f1: 0.640906450856024\n",
      "Train precision: 0.6590073529411765 | Val precision: 0.8411016949152542\n",
      "Train recall: 0.46862745098039216 | Val recall: 0.3892156862745098\n",
      "Initial GPU Usage\n",
      "GPU memory occupied: 13743 MB.\n",
      "GPU Usage after emptying the cache\n",
      "GPU memory occupied: 1061 MB.\n"
     ]
    },
    {
     "name": "stderr",
     "output_type": "stream",
     "text": [
      "100%|█████████████████████████████████████████████| 9/9 [00:21<00:00,  2.40s/it]\n"
     ]
    },
    {
     "name": "stdout",
     "output_type": "stream",
     "text": [
      "Val loss: 0.6447373098797269\n",
      "Val acc: 0.6827102803738317\n",
      "Val f1: 0.6516512081785946\n",
      "Val precision: 0.8544698544698545\n",
      "Val recall: 0.40294117647058825\n",
      "Train steps: 125\n",
      "Steps per epoch: 25.078125\n",
      "Epoch: 1\n"
     ]
    },
    {
     "name": "stderr",
     "output_type": "stream",
     "text": [
      "100%|███████████████████████████████████████████| 26/26 [01:08<00:00,  2.63s/it]\n",
      "100%|█████████████████████████████████████████████| 9/9 [00:21<00:00,  2.39s/it]\n"
     ]
    },
    {
     "name": "stdout",
     "output_type": "stream",
     "text": [
      "\n",
      "Train loss: 0.6529341064966642 | Val loss: 0.6434874998198615\n",
      "Train acc: 0.6373831775700934 | Val acc: 0.6883177570093458\n",
      "Train f1: 0.6258745379428787 | Val f1: 0.6642462924617132\n",
      "Train precision: 0.6638316920322291 | Val precision: 0.8226691042047533\n",
      "Train recall: 0.484640522875817 | Val recall: 0.4411764705882353\n",
      "Epoch: 2\n"
     ]
    },
    {
     "name": "stderr",
     "output_type": "stream",
     "text": [
      "100%|███████████████████████████████████████████| 26/26 [01:08<00:00,  2.64s/it]\n",
      "100%|█████████████████████████████████████████████| 9/9 [00:21<00:00,  2.39s/it]\n"
     ]
    },
    {
     "name": "stdout",
     "output_type": "stream",
     "text": [
      "\n",
      "Train loss: 0.6541325404093816 | Val loss: 0.6421052018801371\n",
      "Train acc: 0.6372274143302181 | Val acc: 0.6967289719626168\n",
      "Train f1: 0.6289832364823003 | Val f1: 0.6755296420350384\n",
      "Train precision: 0.6521015397419891 | Val precision: 0.8237347294938918\n",
      "Train recall: 0.5120915032679738 | Val recall: 0.4627450980392157\n",
      "Epoch: 3\n"
     ]
    },
    {
     "name": "stderr",
     "output_type": "stream",
     "text": [
      "100%|███████████████████████████████████████████| 26/26 [01:08<00:00,  2.63s/it]\n",
      "100%|█████████████████████████████████████████████| 9/9 [00:21<00:00,  2.39s/it]\n"
     ]
    },
    {
     "name": "stdout",
     "output_type": "stream",
     "text": [
      "\n",
      "Train loss: 0.651869542323626 | Val loss: 0.6411523620287577\n",
      "Train acc: 0.631619937694704 | Val acc: 0.7018691588785047\n",
      "Train f1: 0.6236021177918397 | Val f1: 0.6823876986065556\n",
      "Train precision: 0.6434172513413124 | Val precision: 0.823728813559322\n",
      "Train recall: 0.5094771241830065 | Val recall: 0.4764705882352941\n",
      "Epoch: 4\n"
     ]
    },
    {
     "name": "stderr",
     "output_type": "stream",
     "text": [
      "100%|███████████████████████████████████████████| 26/26 [01:08<00:00,  2.64s/it]\n",
      "100%|█████████████████████████████████████████████| 9/9 [00:21<00:00,  2.39s/it]\n"
     ]
    },
    {
     "name": "stdout",
     "output_type": "stream",
     "text": [
      "\n",
      "Train loss: 0.65157789679674 | Val loss: 0.6408524248335097\n",
      "Train acc: 0.643613707165109 | Val acc: 0.6869158878504673\n",
      "Train f1: 0.634788280055721 | Val f1: 0.6611603450313127\n",
      "Train precision: 0.6634208298052497 | Val precision: 0.8301886792452831\n",
      "Train recall: 0.5120915032679738 | Val recall: 0.43137254901960786\n",
      "Epoch: 5\n"
     ]
    },
    {
     "name": "stderr",
     "output_type": "stream",
     "text": [
      "100%|███████████████████████████████████████████| 26/26 [01:08<00:00,  2.64s/it]\n",
      "100%|█████████████████████████████████████████████| 9/9 [00:21<00:00,  2.39s/it]\n"
     ]
    },
    {
     "name": "stdout",
     "output_type": "stream",
     "text": [
      "\n",
      "Train loss: 0.6488039126762977 | Val loss: 0.6406996250152588\n",
      "Train acc: 0.6425233644859814 | Val acc: 0.6883177570093458\n",
      "Train f1: 0.6316099048952535 | Val f1: 0.6629587835366495\n",
      "Train precision: 0.6696230598669624 | Val precision: 0.8311444652908068\n",
      "Train recall: 0.4934640522875817 | Val recall: 0.4343137254901961\n",
      "Initial GPU Usage\n",
      "GPU memory occupied: 13743 MB.\n",
      "GPU Usage after emptying the cache\n",
      "GPU memory occupied: 1061 MB.\n"
     ]
    },
    {
     "name": "stderr",
     "output_type": "stream",
     "text": [
      "100%|█████████████████████████████████████████████| 9/9 [00:21<00:00,  2.39s/it]\n"
     ]
    },
    {
     "name": "stdout",
     "output_type": "stream",
     "text": [
      "Val loss: 0.6397858195834689\n",
      "Val acc: 0.7014018691588785\n",
      "Val f1: 0.6785139221061705\n",
      "Val precision: 0.8469945355191257\n",
      "Val recall: 0.45588235294117646\n",
      "Train steps: 125\n",
      "Steps per epoch: 25.078125\n",
      "Epoch: 1\n"
     ]
    },
    {
     "name": "stderr",
     "output_type": "stream",
     "text": [
      "100%|███████████████████████████████████████████| 26/26 [01:08<00:00,  2.64s/it]\n",
      "100%|█████████████████████████████████████████████| 9/9 [00:21<00:00,  2.39s/it]\n"
     ]
    },
    {
     "name": "stdout",
     "output_type": "stream",
     "text": [
      "\n",
      "Train loss: 0.6497198641300201 | Val loss: 0.6384384433428446\n",
      "Train acc: 0.6470404984423676 | Val acc: 0.7135514018691589\n",
      "Train f1: 0.6358793767400435 | Val f1: 0.6970811659079956\n",
      "Train precision: 0.6775491949910555 | Val precision: 0.8276972624798712\n",
      "Train recall: 0.4950980392156863 | Val recall: 0.503921568627451\n",
      "Epoch: 2\n"
     ]
    },
    {
     "name": "stderr",
     "output_type": "stream",
     "text": [
      "100%|███████████████████████████████████████████| 26/26 [01:08<00:00,  2.63s/it]\n",
      "100%|█████████████████████████████████████████████| 9/9 [00:21<00:00,  2.39s/it]\n"
     ]
    },
    {
     "name": "stdout",
     "output_type": "stream",
     "text": [
      "\n",
      "Train loss: 0.649905807696856 | Val loss: 0.6371019813749526\n",
      "Train acc: 0.6464174454828661 | Val acc: 0.702803738317757\n",
      "Train f1: 0.6383649312597082 | Val f1: 0.6822719989242854\n",
      "Train precision: 0.6644462947543713 | Val precision: 0.8333333333333334\n",
      "Train recall: 0.5215686274509804 | Val recall: 0.47058823529411764\n",
      "Epoch: 3\n"
     ]
    },
    {
     "name": "stderr",
     "output_type": "stream",
     "text": [
      "100%|███████████████████████████████████████████| 26/26 [01:08<00:00,  2.63s/it]\n",
      "100%|█████████████████████████████████████████████| 9/9 [00:21<00:00,  2.39s/it]\n"
     ]
    },
    {
     "name": "stdout",
     "output_type": "stream",
     "text": [
      "\n",
      "Train loss: 0.6473589998025161 | Val loss: 0.6360921925968595\n",
      "Train acc: 0.6514018691588785 | Val acc: 0.7098130841121495\n",
      "Train f1: 0.6435978657485384 | Val f1: 0.691078602775397\n",
      "Train precision: 0.6705394190871369 | Val precision: 0.836424957841484\n",
      "Train recall: 0.5281045751633987 | Val recall: 0.48627450980392156\n",
      "Epoch: 4\n"
     ]
    },
    {
     "name": "stderr",
     "output_type": "stream",
     "text": [
      "100%|███████████████████████████████████████████| 26/26 [01:08<00:00,  2.64s/it]\n",
      "100%|█████████████████████████████████████████████| 9/9 [00:21<00:00,  2.39s/it]\n"
     ]
    },
    {
     "name": "stdout",
     "output_type": "stream",
     "text": [
      "\n",
      "Train loss: 0.6477886713468112 | Val loss: 0.635493603017595\n",
      "Train acc: 0.6498442367601246 | Val acc: 0.7116822429906542\n",
      "Train f1: 0.64263258798094 | Val f1: 0.6936643188463563\n",
      "Train precision: 0.6658496732026143 | Val precision: 0.8352745424292846\n",
      "Train recall: 0.5326797385620915 | Val recall: 0.492156862745098\n",
      "Epoch: 5\n"
     ]
    },
    {
     "name": "stderr",
     "output_type": "stream",
     "text": [
      "100%|███████████████████████████████████████████| 26/26 [01:08<00:00,  2.64s/it]\n",
      "100%|█████████████████████████████████████████████| 9/9 [00:21<00:00,  2.39s/it]\n"
     ]
    },
    {
     "name": "stdout",
     "output_type": "stream",
     "text": [
      "\n",
      "Train loss: 0.6463902432184953 | Val loss: 0.6353752944204543\n",
      "Train acc: 0.6538940809968847 | Val acc: 0.711214953271028\n",
      "Train f1: 0.6463446209934234 | Val f1: 0.6929453490456259\n",
      "Train precision: 0.6729975227085053 | Val precision: 0.8361204013377926\n",
      "Train recall: 0.5326797385620915 | Val recall: 0.49019607843137253\n",
      "Initial GPU Usage\n",
      "GPU memory occupied: 13743 MB.\n",
      "GPU Usage after emptying the cache\n",
      "GPU memory occupied: 1061 MB.\n"
     ]
    },
    {
     "name": "stderr",
     "output_type": "stream",
     "text": [
      "100%|█████████████████████████████████████████████| 9/9 [00:21<00:00,  2.40s/it]\n"
     ]
    },
    {
     "name": "stdout",
     "output_type": "stream",
     "text": [
      "Val loss: 0.6346138848198785\n",
      "Val acc: 0.7158878504672898\n",
      "Val f1: 0.6990630877674067\n",
      "Val precision: 0.8355048859934854\n",
      "Val recall: 0.5029411764705882\n",
      "Train steps: 125\n",
      "Steps per epoch: 25.078125\n",
      "Epoch: 1\n"
     ]
    },
    {
     "name": "stderr",
     "output_type": "stream",
     "text": [
      "100%|███████████████████████████████████████████| 26/26 [01:08<00:00,  2.64s/it]\n",
      "100%|█████████████████████████████████████████████| 9/9 [00:21<00:00,  2.39s/it]\n"
     ]
    },
    {
     "name": "stdout",
     "output_type": "stream",
     "text": [
      "\n",
      "Train loss: 0.6447667089792398 | Val loss: 0.6333427826563517\n",
      "Train acc: 0.6534267912772586 | Val acc: 0.7224299065420561\n",
      "Train f1: 0.6432369048563062 | Val f1: 0.7078542608379093\n",
      "Train precision: 0.6835164835164835 | Val precision: 0.8317757009345794\n",
      "Train recall: 0.5081699346405228 | Val recall: 0.5235294117647059\n",
      "Epoch: 2\n"
     ]
    },
    {
     "name": "stderr",
     "output_type": "stream",
     "text": [
      "100%|███████████████████████████████████████████| 26/26 [01:08<00:00,  2.63s/it]\n",
      "100%|█████████████████████████████████████████████| 9/9 [00:21<00:00,  2.39s/it]\n"
     ]
    },
    {
     "name": "stdout",
     "output_type": "stream",
     "text": [
      "\n",
      "Train loss: 0.6460058872516339 | Val loss: 0.632096098528968\n",
      "Train acc: 0.6605919003115265 | Val acc: 0.7163551401869159\n",
      "Train f1: 0.6536484579310102 | Val f1: 0.6992042800254441\n",
      "Train precision: 0.6797225622195022 | Val precision: 0.8390804597701149\n",
      "Train recall: 0.5444444444444444 | Val recall: 0.5009803921568627\n",
      "Epoch: 3\n"
     ]
    },
    {
     "name": "stderr",
     "output_type": "stream",
     "text": [
      "100%|███████████████████████████████████████████| 26/26 [01:08<00:00,  2.63s/it]\n",
      "100%|█████████████████████████████████████████████| 9/9 [00:21<00:00,  2.39s/it]\n"
     ]
    },
    {
     "name": "stdout",
     "output_type": "stream",
     "text": [
      "\n",
      "Train loss: 0.6454261243343353 | Val loss: 0.6311466495196024\n",
      "Train acc: 0.6538940809968847 | Val acc: 0.7285046728971962\n",
      "Train f1: 0.648097027576296 | Val f1: 0.7148066617442408\n",
      "Train precision: 0.6652208201892744 | Val precision: 0.837173579109063\n",
      "Train recall: 0.5513071895424837 | Val recall: 0.5343137254901961\n",
      "Epoch: 4\n"
     ]
    },
    {
     "name": "stderr",
     "output_type": "stream",
     "text": [
      "100%|███████████████████████████████████████████| 26/26 [01:08<00:00,  2.64s/it]\n",
      "100%|█████████████████████████████████████████████| 9/9 [00:21<00:00,  2.39s/it]\n"
     ]
    },
    {
     "name": "stdout",
     "output_type": "stream",
     "text": [
      "\n",
      "Train loss: 0.6441925236812005 | Val loss: 0.6306290030479431\n",
      "Train acc: 0.6609034267912772 | Val acc: 0.7275700934579439\n",
      "Train f1: 0.6554594361056365 | Val f1: 0.7135773763731754\n",
      "Train precision: 0.672933803368586 | Val precision: 0.8377125193199382\n",
      "Train recall: 0.561437908496732 | Val recall: 0.5313725490196078\n",
      "Epoch: 5\n"
     ]
    },
    {
     "name": "stderr",
     "output_type": "stream",
     "text": [
      "100%|███████████████████████████████████████████| 26/26 [01:08<00:00,  2.64s/it]\n",
      "100%|█████████████████████████████████████████████| 9/9 [00:21<00:00,  2.39s/it]\n"
     ]
    },
    {
     "name": "stdout",
     "output_type": "stream",
     "text": [
      "\n",
      "Train loss: 0.6445041573964633 | Val loss: 0.63054535124037\n",
      "Train acc: 0.6532710280373831 | Val acc: 0.7261682242990655\n",
      "Train f1: 0.646414577727423 | Val f1: 0.7114060474843878\n",
      "Train precision: 0.6690997566909975 | Val precision: 0.8411949685534591\n",
      "Train recall: 0.5392156862745098 | Val recall: 0.5245098039215687\n",
      "Initial GPU Usage\n",
      "GPU memory occupied: 13743 MB.\n",
      "GPU Usage after emptying the cache\n",
      "GPU memory occupied: 1061 MB.\n"
     ]
    },
    {
     "name": "stderr",
     "output_type": "stream",
     "text": [
      "100%|█████████████████████████████████████████████| 9/9 [00:21<00:00,  2.39s/it]\n"
     ]
    },
    {
     "name": "stdout",
     "output_type": "stream",
     "text": [
      "Val loss: 0.6299502187305026\n",
      "Val acc: 0.72803738317757\n",
      "Val f1: 0.7146211629620668\n",
      "Val precision: 0.8338414634146342\n",
      "Val recall: 0.5362745098039216\n",
      "Train steps: 125\n",
      "Steps per epoch: 25.078125\n",
      "Epoch: 1\n"
     ]
    },
    {
     "name": "stderr",
     "output_type": "stream",
     "text": [
      "100%|███████████████████████████████████████████| 26/26 [01:08<00:00,  2.64s/it]\n",
      "100%|█████████████████████████████████████████████| 9/9 [00:21<00:00,  2.39s/it]\n"
     ]
    },
    {
     "name": "stdout",
     "output_type": "stream",
     "text": [
      "\n",
      "Train loss: 0.641619989505181 | Val loss: 0.6287671857410007\n",
      "Train acc: 0.6563862928348909 | Val acc: 0.7299065420560747\n",
      "Train f1: 0.6449953501663162 | Val f1: 0.7168223443223444\n",
      "Train precision: 0.6932126696832579 | Val precision: 0.8348484848484848\n",
      "Train recall: 0.5006535947712418 | Val recall: 0.5401960784313725\n",
      "Epoch: 2\n"
     ]
    },
    {
     "name": "stderr",
     "output_type": "stream",
     "text": [
      "100%|███████████████████████████████████████████| 26/26 [01:08<00:00,  2.63s/it]\n",
      "100%|█████████████████████████████████████████████| 9/9 [00:21<00:00,  2.39s/it]\n"
     ]
    },
    {
     "name": "stdout",
     "output_type": "stream",
     "text": [
      "\n",
      "Train loss: 0.6396386944330655 | Val loss: 0.6276730497678121\n",
      "Train acc: 0.6661993769470405 | Val acc: 0.7228971962616823\n",
      "Train f1: 0.6585159866465888 | Val f1: 0.7066928674330437\n",
      "Train precision: 0.6912807676261994 | Val precision: 0.8460291734197731\n",
      "Train recall: 0.5415032679738562 | Val recall: 0.5117647058823529\n",
      "Epoch: 3\n"
     ]
    },
    {
     "name": "stderr",
     "output_type": "stream",
     "text": [
      "100%|███████████████████████████████████████████| 26/26 [01:08<00:00,  2.63s/it]\n",
      "100%|█████████████████████████████████████████████| 9/9 [00:21<00:00,  2.39s/it]\n"
     ]
    },
    {
     "name": "stdout",
     "output_type": "stream",
     "text": [
      "\n",
      "Train loss: 0.6363800076337961 | Val loss: 0.6266611615816752\n",
      "Train acc: 0.6696261682242991 | Val acc: 0.7411214953271028\n",
      "Train f1: 0.664559772669175 | Val f1: 0.7315541402196911\n",
      "Train precision: 0.6826137689614936 | Val precision: 0.8254189944134078\n",
      "Train recall: 0.5735294117647058 | Val recall: 0.5794117647058824\n",
      "Epoch: 4\n"
     ]
    },
    {
     "name": "stderr",
     "output_type": "stream",
     "text": [
      "100%|███████████████████████████████████████████| 26/26 [01:08<00:00,  2.63s/it]\n",
      "100%|█████████████████████████████████████████████| 9/9 [00:21<00:00,  2.39s/it]\n"
     ]
    },
    {
     "name": "stdout",
     "output_type": "stream",
     "text": [
      "\n",
      "Train loss: 0.6366874529765203 | Val loss: 0.6262395646837022\n",
      "Train acc: 0.6691588785046729 | Val acc: 0.7341121495327103\n",
      "Train f1: 0.6644314923044621 | Val f1: 0.721982167642246\n",
      "Train precision: 0.6801385681293303 | Val precision: 0.8350668647845468\n",
      "Train recall: 0.5774509803921568 | Val recall: 0.5509803921568628\n",
      "Epoch: 5\n"
     ]
    },
    {
     "name": "stderr",
     "output_type": "stream",
     "text": [
      "100%|███████████████████████████████████████████| 26/26 [01:08<00:00,  2.64s/it]\n",
      "100%|█████████████████████████████████████████████| 9/9 [00:21<00:00,  2.39s/it]\n"
     ]
    },
    {
     "name": "stdout",
     "output_type": "stream",
     "text": [
      "\n",
      "Train loss: 0.6382294686941 | Val loss: 0.6261413428518507\n",
      "Train acc: 0.6750778816199376 | Val acc: 0.7322429906542056\n",
      "Train f1: 0.6694185254302556 | Val f1: 0.71968212260861\n",
      "Train precision: 0.6932539682539682 | Val precision: 0.8350824587706147\n",
      "Train recall: 0.5709150326797385 | Val recall: 0.546078431372549\n",
      "Initial GPU Usage\n",
      "GPU memory occupied: 13743 MB.\n",
      "GPU Usage after emptying the cache\n",
      "GPU memory occupied: 1061 MB.\n"
     ]
    },
    {
     "name": "stderr",
     "output_type": "stream",
     "text": [
      "100%|█████████████████████████████████████████████| 9/9 [00:21<00:00,  2.42s/it]\n"
     ]
    },
    {
     "name": "stdout",
     "output_type": "stream",
     "text": [
      "Val loss: 0.6256567173533969\n",
      "Val acc: 0.7341121495327103\n",
      "Val f1: 0.7228710473915863\n",
      "Val precision: 0.8272859216255443\n",
      "Val recall: 0.5588235294117647\n",
      "Train steps: 125\n",
      "Steps per epoch: 25.078125\n",
      "Epoch: 1\n"
     ]
    },
    {
     "name": "stderr",
     "output_type": "stream",
     "text": [
      "100%|███████████████████████████████████████████| 26/26 [01:08<00:00,  2.64s/it]\n",
      "100%|█████████████████████████████████████████████| 9/9 [00:21<00:00,  2.39s/it]\n"
     ]
    },
    {
     "name": "stdout",
     "output_type": "stream",
     "text": [
      "\n",
      "Train loss: 0.6365703413119683 | Val loss: 0.6246938109397888\n",
      "Train acc: 0.67601246105919 | Val acc: 0.7224299065420561\n",
      "Train f1: 0.6700362817762059 | Val f1: 0.7057159393448315\n",
      "Train precision: 0.6963141025641025 | Val precision: 0.8491803278688524\n",
      "Train recall: 0.5679738562091503 | Val recall: 0.5078431372549019\n",
      "Epoch: 2\n"
     ]
    },
    {
     "name": "stderr",
     "output_type": "stream",
     "text": [
      "100%|███████████████████████████████████████████| 26/26 [01:08<00:00,  2.64s/it]\n",
      "100%|█████████████████████████████████████████████| 9/9 [00:21<00:00,  2.39s/it]\n"
     ]
    },
    {
     "name": "stdout",
     "output_type": "stream",
     "text": [
      "\n",
      "Train loss: 0.636445192190317 | Val loss: 0.6233420504464043\n",
      "Train acc: 0.6763239875389409 | Val acc: 0.7322429906542056\n",
      "Train f1: 0.6674974934128874 | Val f1: 0.7181206480039005\n",
      "Train precision: 0.7121866897147796 | Val precision: 0.8486739469578783\n",
      "Train recall: 0.538562091503268 | Val recall: 0.5333333333333333\n",
      "Epoch: 3\n"
     ]
    },
    {
     "name": "stderr",
     "output_type": "stream",
     "text": [
      "100%|███████████████████████████████████████████| 26/26 [01:08<00:00,  2.63s/it]\n",
      "100%|█████████████████████████████████████████████| 9/9 [00:21<00:00,  2.39s/it]\n"
     ]
    },
    {
     "name": "stdout",
     "output_type": "stream",
     "text": [
      "\n",
      "Train loss: 0.6327253534243658 | Val loss: 0.6224372982978821\n",
      "Train acc: 0.6783489096573209 | Val acc: 0.733177570093458\n",
      "Train f1: 0.6718276868237107 | Val f1: 0.7194728677685818\n",
      "Train precision: 0.7026476578411406 | Val precision: 0.8469860896445132\n",
      "Train recall: 0.5637254901960784 | Val recall: 0.5372549019607843\n",
      "Epoch: 4\n"
     ]
    },
    {
     "name": "stderr",
     "output_type": "stream",
     "text": [
      "100%|███████████████████████████████████████████| 26/26 [01:08<00:00,  2.63s/it]\n",
      "100%|█████████████████████████████████████████████| 9/9 [00:21<00:00,  2.38s/it]\n"
     ]
    },
    {
     "name": "stdout",
     "output_type": "stream",
     "text": [
      "\n",
      "Train loss: 0.6315318850370554 | Val loss: 0.6220224897066752\n",
      "Train acc: 0.6833333333333333 | Val acc: 0.7308411214953271\n",
      "Train f1: 0.676106136581492 | Val f1: 0.7163308589607635\n",
      "Train precision: 0.7138692211578509 | Val precision: 0.8490566037735849\n",
      "Train recall: 0.5601307189542484 | Val recall: 0.5294117647058824\n",
      "Epoch: 5\n"
     ]
    },
    {
     "name": "stderr",
     "output_type": "stream",
     "text": [
      "100%|███████████████████████████████████████████| 26/26 [01:08<00:00,  2.63s/it]\n",
      "100%|█████████████████████████████████████████████| 9/9 [00:21<00:00,  2.39s/it]\n"
     ]
    },
    {
     "name": "stdout",
     "output_type": "stream",
     "text": [
      "\n",
      "Train loss: 0.6353817857228793 | Val loss: 0.6218383113543192\n",
      "Train acc: 0.6761682242990654 | Val acc: 0.7327102803738318\n",
      "Train f1: 0.6692424043311983 | Val f1: 0.7187977828746176\n",
      "Train precision: 0.7017688194158782 | Val precision: 0.8478260869565217\n",
      "Train recall: 0.5575163398692811 | Val recall: 0.5352941176470588\n",
      "Initial GPU Usage\n",
      "GPU memory occupied: 13743 MB.\n",
      "GPU Usage after emptying the cache\n",
      "GPU memory occupied: 1061 MB.\n"
     ]
    },
    {
     "name": "stderr",
     "output_type": "stream",
     "text": [
      "100%|█████████████████████████████████████████████| 9/9 [00:21<00:00,  2.39s/it]\n"
     ]
    },
    {
     "name": "stdout",
     "output_type": "stream",
     "text": [
      "Val loss: 0.6214079194598727\n",
      "Val acc: 0.7378504672897196\n",
      "Val f1: 0.7260026360384109\n",
      "Val precision: 0.84\n",
      "Val recall: 0.5558823529411765\n",
      "Train steps: 125\n",
      "Steps per epoch: 25.078125\n",
      "Epoch: 1\n"
     ]
    },
    {
     "name": "stderr",
     "output_type": "stream",
     "text": [
      "100%|███████████████████████████████████████████| 26/26 [01:08<00:00,  2.63s/it]\n",
      "100%|█████████████████████████████████████████████| 9/9 [00:21<00:00,  2.39s/it]\n"
     ]
    },
    {
     "name": "stdout",
     "output_type": "stream",
     "text": [
      "\n",
      "Train loss: 0.635602015715379 | Val loss: 0.6200835638576083\n",
      "Train acc: 0.6749221183800623 | Val acc: 0.7434579439252337\n",
      "Train f1: 0.6660399747349159 | Val f1: 0.7326119596098082\n",
      "Train precision: 0.7103329009943796 | Val precision: 0.841799709724238\n",
      "Train recall: 0.5369281045751634 | Val recall: 0.5686274509803921\n",
      "Epoch: 2\n"
     ]
    },
    {
     "name": "stderr",
     "output_type": "stream",
     "text": [
      "100%|███████████████████████████████████████████| 26/26 [01:08<00:00,  2.63s/it]\n",
      "100%|█████████████████████████████████████████████| 9/9 [00:21<00:00,  2.39s/it]\n"
     ]
    },
    {
     "name": "stdout",
     "output_type": "stream",
     "text": [
      "\n",
      "Train loss: 0.6316156960450686 | Val loss: 0.6189138624403212\n",
      "Train acc: 0.6816199376947041 | Val acc: 0.7429906542056075\n",
      "Train f1: 0.6773798280130077 | Val f1: 0.732177395499124\n",
      "Train precision: 0.6935975609756098 | Val precision: 0.8405797101449275\n",
      "Train recall: 0.5947712418300654 | Val recall: 0.5686274509803921\n",
      "Epoch: 3\n"
     ]
    },
    {
     "name": "stderr",
     "output_type": "stream",
     "text": [
      "100%|███████████████████████████████████████████| 26/26 [01:08<00:00,  2.64s/it]\n",
      "100%|█████████████████████████████████████████████| 9/9 [00:21<00:00,  2.39s/it]\n"
     ]
    },
    {
     "name": "stdout",
     "output_type": "stream",
     "text": [
      "\n",
      "Train loss: 0.629880999143307 | Val loss: 0.6185053918096755\n",
      "Train acc: 0.6806853582554517 | Val acc: 0.7313084112149533\n",
      "Train f1: 0.6731308978501396 | Val f1: 0.7155959507150087\n",
      "Train precision: 0.7118288590604027 | Val precision: 0.8606158833063209\n",
      "Train recall: 0.5545751633986928 | Val recall: 0.5205882352941177\n",
      "Epoch: 4\n"
     ]
    },
    {
     "name": "stderr",
     "output_type": "stream",
     "text": [
      "100%|███████████████████████████████████████████| 26/26 [01:08<00:00,  2.63s/it]\n",
      "100%|█████████████████████████████████████████████| 9/9 [00:21<00:00,  2.39s/it]\n"
     ]
    },
    {
     "name": "stdout",
     "output_type": "stream",
     "text": [
      "\n",
      "Train loss: 0.6333067554693955 | Val loss: 0.6177829768922594\n",
      "Train acc: 0.6777258566978193 | Val acc: 0.7369158878504672\n",
      "Train f1: 0.6688163096108166 | Val f1: 0.7238788781619732\n",
      "Train precision: 0.7147811009969658 | Val precision: 0.8488549618320611\n",
      "Train recall: 0.5388888888888889 | Val recall: 0.5450980392156862\n",
      "Epoch: 5\n"
     ]
    },
    {
     "name": "stderr",
     "output_type": "stream",
     "text": [
      "100%|███████████████████████████████████████████| 26/26 [01:08<00:00,  2.63s/it]\n",
      "100%|█████████████████████████████████████████████| 9/9 [00:21<00:00,  2.39s/it]\n"
     ]
    },
    {
     "name": "stdout",
     "output_type": "stream",
     "text": [
      "\n",
      "Train loss: 0.6349073671377622 | Val loss: 0.6175497902764214\n",
      "Train acc: 0.6827102803738317 | Val acc: 0.7429906542056075\n",
      "Train f1: 0.6765923915028599 | Val f1: 0.7317535432690424\n",
      "Train precision: 0.7064997981429149 | Val precision: 0.844574780058651\n",
      "Train recall: 0.5718954248366013 | Val recall: 0.5647058823529412\n",
      "Initial GPU Usage\n",
      "GPU memory occupied: 13743 MB.\n",
      "GPU Usage after emptying the cache\n",
      "GPU memory occupied: 1061 MB.\n"
     ]
    },
    {
     "name": "stderr",
     "output_type": "stream",
     "text": [
      "100%|█████████████████████████████████████████████| 9/9 [00:21<00:00,  2.40s/it]"
     ]
    },
    {
     "name": "stdout",
     "output_type": "stream",
     "text": [
      "Val loss: 0.6172457536061605\n",
      "Val acc: 0.7429906542056075\n",
      "Val f1: 0.7328972546285707\n",
      "Val precision: 0.8338068181818182\n",
      "Val recall: 0.5754901960784313\n"
     ]
    },
    {
     "name": "stderr",
     "output_type": "stream",
     "text": [
      "\n"
     ]
    }
   ],
   "source": [
    "iterations = 14\n",
    "for i in range(iterations):\n",
    "    print(f'Iteration: {i + 1}')\n",
    "    history = training(base_model, tokenized_dataset['train'], tokenized_dataset['val'], config)\n",
    "    \n",
    "    val_loss, val_preds, val_labels = eval_epoch(base_model, val_dataloader)\n",
    "    \n",
    "    val_acc = accuracy_score(val_labels, val_preds)\n",
    "    val_f1 = f1_score(val_labels, val_preds, average='macro')\n",
    "    val_precision = precision_score(val_labels, val_preds)\n",
    "    val_recall = recall_score(val_labels, val_preds)\n",
    "    \n",
    "    print(f'Val loss: {val_loss / len(val_dataloader)}')\n",
    "    print(f'Val acc: {val_acc}')\n",
    "    print(f'Val f1: {val_f1}')\n",
    "    print(f'Val precision: {val_precision}')\n",
    "    print(f'Val recall: {val_recall}')"
   ]
  },
  {
   "cell_type": "markdown",
   "metadata": {
    "id": "LamqccYFJQu0"
   },
   "source": [
    "## Space Model"
   ]
  },
  {
   "cell_type": "code",
   "execution_count": 36,
   "metadata": {
    "colab": {
     "base_uri": "https://localhost:8080/"
    },
    "id": "WS9YV-Hljbbf",
    "outputId": "355cc5ea-b749-4791-d8d9-b343eabf91d9",
    "tags": []
   },
   "outputs": [
    {
     "data": {
      "text/plain": [
       "BertModel(\n",
       "  (embeddings): BertEmbeddings(\n",
       "    (word_embeddings): Embedding(28996, 768, padding_idx=0)\n",
       "    (position_embeddings): Embedding(512, 768)\n",
       "    (token_type_embeddings): Embedding(2, 768)\n",
       "    (LayerNorm): LayerNorm((768,), eps=1e-12, elementwise_affine=True)\n",
       "    (dropout): Dropout(p=0.1, inplace=False)\n",
       "  )\n",
       "  (encoder): BertEncoder(\n",
       "    (layer): ModuleList(\n",
       "      (0-11): 12 x BertLayer(\n",
       "        (attention): BertAttention(\n",
       "          (self): BertSelfAttention(\n",
       "            (query): Linear(in_features=768, out_features=768, bias=True)\n",
       "            (key): Linear(in_features=768, out_features=768, bias=True)\n",
       "            (value): Linear(in_features=768, out_features=768, bias=True)\n",
       "            (dropout): Dropout(p=0.1, inplace=False)\n",
       "          )\n",
       "          (output): BertSelfOutput(\n",
       "            (dense): Linear(in_features=768, out_features=768, bias=True)\n",
       "            (LayerNorm): LayerNorm((768,), eps=1e-12, elementwise_affine=True)\n",
       "            (dropout): Dropout(p=0.1, inplace=False)\n",
       "          )\n",
       "        )\n",
       "        (intermediate): BertIntermediate(\n",
       "          (dense): Linear(in_features=768, out_features=3072, bias=True)\n",
       "          (intermediate_act_fn): GELUActivation()\n",
       "        )\n",
       "        (output): BertOutput(\n",
       "          (dense): Linear(in_features=3072, out_features=768, bias=True)\n",
       "          (LayerNorm): LayerNorm((768,), eps=1e-12, elementwise_affine=True)\n",
       "          (dropout): Dropout(p=0.1, inplace=False)\n",
       "        )\n",
       "      )\n",
       "    )\n",
       "  )\n",
       "  (pooler): BertPooler(\n",
       "    (dense): Linear(in_features=768, out_features=768, bias=True)\n",
       "    (activation): Tanh()\n",
       "  )\n",
       ")"
      ]
     },
     "execution_count": 36,
     "metadata": {},
     "output_type": "execute_result"
    }
   ],
   "source": [
    "base_model = AutoModel.from_pretrained(MODEL_NAME)\n",
    "base_model"
   ]
  },
  {
   "cell_type": "code",
   "execution_count": 43,
   "metadata": {
    "colab": {
     "base_uri": "https://localhost:8080/"
    },
    "id": "_gSGah9kbqmg",
    "outputId": "5a6297f5-1ea3-49c3-bf11-478ff5e1891c",
    "tags": []
   },
   "outputs": [
    {
     "data": {
      "text/plain": [
       "SpaceModelForSequenceClassification(\n",
       "  (base_model): BertModel(\n",
       "    (embeddings): BertEmbeddings(\n",
       "      (word_embeddings): Embedding(28996, 768, padding_idx=0)\n",
       "      (position_embeddings): Embedding(512, 768)\n",
       "      (token_type_embeddings): Embedding(2, 768)\n",
       "      (LayerNorm): LayerNorm((768,), eps=1e-12, elementwise_affine=True)\n",
       "      (dropout): Dropout(p=0.1, inplace=False)\n",
       "    )\n",
       "    (encoder): BertEncoder(\n",
       "      (layer): ModuleList(\n",
       "        (0-11): 12 x BertLayer(\n",
       "          (attention): BertAttention(\n",
       "            (self): BertSelfAttention(\n",
       "              (query): Linear(in_features=768, out_features=768, bias=True)\n",
       "              (key): Linear(in_features=768, out_features=768, bias=True)\n",
       "              (value): Linear(in_features=768, out_features=768, bias=True)\n",
       "              (dropout): Dropout(p=0.1, inplace=False)\n",
       "            )\n",
       "            (output): BertSelfOutput(\n",
       "              (dense): Linear(in_features=768, out_features=768, bias=True)\n",
       "              (LayerNorm): LayerNorm((768,), eps=1e-12, elementwise_affine=True)\n",
       "              (dropout): Dropout(p=0.1, inplace=False)\n",
       "            )\n",
       "          )\n",
       "          (intermediate): BertIntermediate(\n",
       "            (dense): Linear(in_features=768, out_features=3072, bias=True)\n",
       "            (intermediate_act_fn): GELUActivation()\n",
       "          )\n",
       "          (output): BertOutput(\n",
       "            (dense): Linear(in_features=3072, out_features=768, bias=True)\n",
       "            (LayerNorm): LayerNorm((768,), eps=1e-12, elementwise_affine=True)\n",
       "            (dropout): Dropout(p=0.1, inplace=False)\n",
       "          )\n",
       "        )\n",
       "      )\n",
       "    )\n",
       "    (pooler): BertPooler(\n",
       "      (dense): Linear(in_features=768, out_features=768, bias=True)\n",
       "      (activation): Tanh()\n",
       "    )\n",
       "  )\n",
       "  (space_model): SpaceModel(\n",
       "    (concept_spaces): ModuleList(\n",
       "      (0-1): 2 x Sequential(\n",
       "        (0): Linear(in_features=768, out_features=128, bias=False)\n",
       "        (1): Tanh()\n",
       "      )\n",
       "    )\n",
       "  )\n",
       "  (classifier): Linear(in_features=256, out_features=2, bias=True)\n",
       ")"
      ]
     },
     "execution_count": 43,
     "metadata": {},
     "output_type": "execute_result"
    }
   ],
   "source": [
    "space_model = SpaceModelForSequenceClassification(base_model, n_embed=768, n_latent=128, n_concept_spaces=2, l1=0.1, l2=1e-5, fine_tune=True).to(device)\n",
    "space_model"
   ]
  },
  {
   "cell_type": "code",
   "execution_count": 44,
   "metadata": {
    "tags": []
   },
   "outputs": [],
   "source": [
    "# for p in space_model.base_model.parameters():\n",
    "#     p.requires_grad = False"
   ]
  },
  {
   "cell_type": "code",
   "execution_count": 45,
   "metadata": {
    "colab": {
     "base_uri": "https://localhost:8080/"
    },
    "id": "zoqfK9Y-jphw",
    "outputId": "c0181f8c-4535-4b4c-e308-7f32d2ba209d",
    "tags": []
   },
   "outputs": [
    {
     "data": {
      "text/plain": [
       "197122"
      ]
     },
     "execution_count": 45,
     "metadata": {},
     "output_type": "execute_result"
    }
   ],
   "source": [
    "count_parameters(space_model)"
   ]
  },
  {
   "cell_type": "code",
   "execution_count": 46,
   "metadata": {
    "id": "iPB1GJojZ9gH",
    "tags": []
   },
   "outputs": [],
   "source": [
    "ids = val_dataset[0]['input_ids'].unsqueeze(0)\n",
    "mask = val_dataset[0]['attention_mask'].unsqueeze(0)\n",
    "targets = val_dataset[0]['label'].unsqueeze(0)\n",
    "\n",
    "ids = ids.to(device)\n",
    "mask = mask.to(device)\n",
    "targets = targets.to(device)\n",
    "\n",
    "base_embed = space_model.base_model(ids, mask).last_hidden_state\n",
    "\n",
    "concept_spaces = space_model.space_model(base_embed).concept_spaces"
   ]
  },
  {
   "cell_type": "code",
   "execution_count": 47,
   "metadata": {
    "colab": {
     "base_uri": "https://localhost:8080/"
    },
    "id": "pOR6VKYsZaon",
    "outputId": "e8516b9c-b642-4755-8758-a3bf054df6b0",
    "tags": []
   },
   "outputs": [
    {
     "name": "stdout",
     "output_type": "stream",
     "text": [
      "Inter-space loss: 1.6700680255889893\n"
     ]
    }
   ],
   "source": [
    "print(f'Inter-space loss: {space_model.l1 * inter_space_loss(concept_spaces) * BATCH_SIZE}')"
   ]
  },
  {
   "cell_type": "code",
   "execution_count": 48,
   "metadata": {
    "colab": {
     "base_uri": "https://localhost:8080/"
    },
    "id": "quk-ppIjZcK2",
    "outputId": "d564d759-a2a2-4fdd-9688-a296689f5448",
    "tags": []
   },
   "outputs": [
    {
     "name": "stdout",
     "output_type": "stream",
     "text": [
      "Intra-space loss: 4.909460067749023\n"
     ]
    }
   ],
   "source": [
    "print(f'Intra-space loss: {space_model.l2 * intra_space_loss(concept_spaces) * BATCH_SIZE}')"
   ]
  },
  {
   "cell_type": "code",
   "execution_count": 49,
   "metadata": {
    "tags": []
   },
   "outputs": [
    {
     "data": {
      "text/plain": [
       "{'epochs': 5,\n",
       " 'batch_size': 32,\n",
       " 'gradient_accumulation_steps': 1,\n",
       " 'fp16': False,\n",
       " 'lr': 2e-05,\n",
       " 'max_grad_norm': 1000,\n",
       " 'weight_decay': 0.01,\n",
       " 'num_warmup_steps': 0}"
      ]
     },
     "execution_count": 49,
     "metadata": {},
     "output_type": "execute_result"
    }
   ],
   "source": [
    "config"
   ]
  },
  {
   "cell_type": "code",
   "execution_count": 50,
   "metadata": {
    "tags": []
   },
   "outputs": [],
   "source": [
    "# config['epochs'] = 1\n",
    "# config['lr'] = 2e-5\n",
    "\n",
    "# space_model.l1 = 0\n",
    "# space_model.l2 = 0"
   ]
  },
  {
   "cell_type": "code",
   "execution_count": 105,
   "metadata": {
    "colab": {
     "base_uri": "https://localhost:8080/"
    },
    "id": "z_lJuPF4mAGF",
    "outputId": "cd6a060b-bc55-4539-f1f6-f32f75ac0905",
    "tags": []
   },
   "outputs": [
    {
     "name": "stdout",
     "output_type": "stream",
     "text": [
      "Train steps: 125\n",
      "Steps per epoch: 25.078125\n",
      "Epoch: 1\n"
     ]
    },
    {
     "name": "stderr",
     "output_type": "stream",
     "text": [
      "100%|███████████████████████████████████████████| 26/26 [01:07<00:00,  2.60s/it]\n",
      "100%|█████████████████████████████████████████████| 9/9 [00:21<00:00,  2.39s/it]\n"
     ]
    },
    {
     "name": "stdout",
     "output_type": "stream",
     "text": [
      "\n",
      "Train loss: 0.2545279688560046 | Val loss: 0.24624150494734445\n",
      "Train acc: 0.9062305295950156 | Val acc: 0.902803738317757\n",
      "Train f1: 0.9055919621699515 | Val f1: 0.9021568918810795\n",
      "Train precision: 0.9339689265536724 | Val precision: 0.9291754756871036\n",
      "Train recall: 0.8643790849673203 | Val recall: 0.861764705882353\n",
      "Epoch: 2\n"
     ]
    },
    {
     "name": "stderr",
     "output_type": "stream",
     "text": [
      "100%|███████████████████████████████████████████| 26/26 [01:08<00:00,  2.65s/it]\n",
      "100%|█████████████████████████████████████████████| 9/9 [00:21<00:00,  2.40s/it]\n"
     ]
    },
    {
     "name": "stdout",
     "output_type": "stream",
     "text": [
      "\n",
      "Train loss: 0.2408633564527218 | Val loss: 0.24416124820709229\n",
      "Train acc: 0.9074766355140187 | Val acc: 0.9037383177570093\n",
      "Train f1: 0.9069608711016193 | Val f1: 0.9030976909976076\n",
      "Train precision: 0.9278278972935462 | Val precision: 0.9302325581395349\n",
      "Train recall: 0.8738562091503268 | Val recall: 0.8627450980392157\n",
      "Epoch: 3\n"
     ]
    },
    {
     "name": "stderr",
     "output_type": "stream",
     "text": [
      "100%|███████████████████████████████████████████| 26/26 [01:08<00:00,  2.65s/it]\n",
      "100%|█████████████████████████████████████████████| 9/9 [00:21<00:00,  2.39s/it]\n"
     ]
    },
    {
     "name": "stdout",
     "output_type": "stream",
     "text": [
      "\n",
      "Train loss: 0.23639787275057572 | Val loss: 0.242919170194202\n",
      "Train acc: 0.9049844236760125 | Val acc: 0.9037383177570093\n",
      "Train f1: 0.9044185002359151 | Val f1: 0.9030676907840867\n",
      "Train precision: 0.9274249825540823 | Val precision: 0.9320594479830149\n",
      "Train recall: 0.8686274509803922 | Val recall: 0.8607843137254902\n",
      "Epoch: 4\n"
     ]
    },
    {
     "name": "stderr",
     "output_type": "stream",
     "text": [
      "100%|███████████████████████████████████████████| 26/26 [01:08<00:00,  2.65s/it]\n",
      "100%|█████████████████████████████████████████████| 9/9 [00:21<00:00,  2.39s/it]\n"
     ]
    },
    {
     "name": "stdout",
     "output_type": "stream",
     "text": [
      "\n",
      "Train loss: 0.23797796953182954 | Val loss: 0.24216219617260826\n",
      "Train acc: 0.9074766355140187 | Val acc: 0.9037383177570093\n",
      "Train f1: 0.9069255559674321 | Val f1: 0.9030524278676988\n",
      "Train precision: 0.9302163293789253 | Val precision: 0.9329787234042554\n",
      "Train recall: 0.8712418300653595 | Val recall: 0.8598039215686275\n",
      "Epoch: 5\n"
     ]
    },
    {
     "name": "stderr",
     "output_type": "stream",
     "text": [
      "100%|███████████████████████████████████████████| 26/26 [01:08<00:00,  2.64s/it]\n",
      "100%|█████████████████████████████████████████████| 9/9 [00:21<00:00,  2.39s/it]"
     ]
    },
    {
     "name": "stdout",
     "output_type": "stream",
     "text": [
      "\n",
      "Train loss: 0.2365839137480809 | Val loss: 0.24180645081732008\n",
      "Train acc: 0.9063862928348909 | Val acc: 0.9046728971962616\n",
      "Train f1: 0.9058127079392051 | Val f1: 0.9040237223388875\n",
      "Train precision: 0.9300454704442113 | Val precision: 0.9322033898305084\n",
      "Train recall: 0.8689542483660131 | Val recall: 0.8627450980392157\n",
      "Initial GPU Usage\n",
      "GPU memory occupied: 14589 MB.\n",
      "GPU Usage after emptying the cache\n",
      "GPU memory occupied: 1523 MB.\n"
     ]
    },
    {
     "name": "stderr",
     "output_type": "stream",
     "text": [
      "\n"
     ]
    }
   ],
   "source": [
    "space_history = training(space_model, tokenized_dataset['train'], tokenized_dataset['val'], config)"
   ]
  },
  {
   "cell_type": "code",
   "execution_count": 107,
   "metadata": {
    "colab": {
     "base_uri": "https://localhost:8080/"
    },
    "id": "PCVDqQz9I1O2",
    "outputId": "6c46cf9f-f159-48f0-9524-1ee61897caf7",
    "tags": []
   },
   "outputs": [
    {
     "name": "stderr",
     "output_type": "stream",
     "text": [
      "100%|█████████████████████████████████████████████| 9/9 [00:21<00:00,  2.38s/it]\n"
     ]
    }
   ],
   "source": [
    "val_loss, val_preds, val_labels = eval_epoch(space_model, val_dataloader)"
   ]
  },
  {
   "cell_type": "code",
   "execution_count": 108,
   "metadata": {
    "id": "BlILC2j3L30y",
    "tags": []
   },
   "outputs": [],
   "source": [
    "val_acc = accuracy_score(val_labels, val_preds)\n",
    "val_f1 = f1_score(val_labels, val_preds, average='macro')\n",
    "val_precision = precision_score(val_labels, val_preds)\n",
    "val_recall = recall_score(val_labels, val_preds)"
   ]
  },
  {
   "cell_type": "code",
   "execution_count": 110,
   "metadata": {
    "colab": {
     "base_uri": "https://localhost:8080/"
    },
    "id": "KeVaz9nAJQu3",
    "outputId": "ba68374f-2ca2-48a0-8ecc-5620891d3871",
    "tags": []
   },
   "outputs": [
    {
     "name": "stdout",
     "output_type": "stream",
     "text": [
      "Val loss: 0.24983344309859806\n",
      "Val acc: 0.8957943925233645\n",
      "Val f1: 0.8950928505872202\n",
      "Val precision: 0.9216931216931217\n",
      "Val recall: 0.8539215686274509\n"
     ]
    }
   ],
   "source": [
    "print(f'Val loss: {val_loss / len(val_dataloader)}')\n",
    "print(f'Val acc: {val_acc}')\n",
    "print(f'Val f1: {val_f1}')\n",
    "print(f'Val precision: {val_precision}')\n",
    "print(f'Val recall: {val_recall}')"
   ]
  },
  {
   "cell_type": "markdown",
   "metadata": {},
   "source": [
    "Val loss: 0.24983344309859806\n",
    "Val acc: 0.8957943925233645\n",
    "Val f1: 0.8950928505872202\n",
    "Val precision: 0.9216931216931217\n",
    "Val recall: 0.8539215686274509"
   ]
  },
  {
   "cell_type": "code",
   "execution_count": null,
   "metadata": {},
   "outputs": [],
   "source": [
    "iterations = 14\n",
    "for i in range(iterations):\n",
    "    print('*' * 30, end=' ')\n",
    "    print(f'Iteration: {i + 1} ')\n",
    "    print('*' * 30)\n",
    "    \n",
    "    space_history = training(space_model, tokenized_dataset['train'], tokenized_dataset['val'], config)\n",
    "    \n",
    "    val_loss, val_preds, val_labels = eval_epoch(space_model, val_dataloader)\n",
    "    \n",
    "    val_acc = accuracy_score(val_labels, val_preds)\n",
    "    val_f1 = f1_score(val_labels, val_preds, average='macro')\n",
    "    val_precision = precision_score(val_labels, val_preds)\n",
    "    val_recall = recall_score(val_labels, val_preds)\n",
    "    \n",
    "    print(f'Val loss: {val_loss / len(val_dataloader)}')\n",
    "    print(f'Val acc: {val_acc}')\n",
    "    print(f'Val f1: {val_f1}')\n",
    "    print(f'Val precision: {val_precision}')\n",
    "    print(f'Val recall: {val_recall}')"
   ]
  },
  {
   "cell_type": "code",
   "execution_count": 112,
   "metadata": {
    "id": "U0hz4xrnbtX8",
    "tags": []
   },
   "outputs": [],
   "source": [
    "torch.save(space_model.state_dict(), f'{MODELS_PATH}/{DATASET_NAME}_space-{MODEL_NAME}_{NUM_EPOCHS}.bin')"
   ]
  },
  {
   "cell_type": "code",
   "execution_count": 47,
   "metadata": {
    "id": "gTfxyoGEJQu2",
    "tags": []
   },
   "outputs": [],
   "source": [
    "test_dataset = tokenized_dataset['unsupervised']"
   ]
  },
  {
   "cell_type": "code",
   "execution_count": 49,
   "metadata": {
    "colab": {
     "base_uri": "https://localhost:8080/"
    },
    "id": "T_m4HYdjJbj3",
    "outputId": "add06483-722e-4ed1-d0f0-b45223bfd36a",
    "tags": []
   },
   "outputs": [
    {
     "name": "stdout",
     "output_type": "stream",
     "text": [
      "[7773, 8132, 46980]\n"
     ]
    }
   ],
   "source": [
    "# examples with less than 16 words are easier to visualize, so focus on them\n",
    "examples_ids = []\n",
    "for i, v in enumerate(list(test_dataset['input_ids'])):\n",
    "    s = [t for t in v.cpu() if t != tokenizer.pad_token_id]\n",
    "    if len(s) <= 16:\n",
    "        examples_ids.append(i)\n",
    "print(examples_ids)"
   ]
  },
  {
   "cell_type": "code",
   "execution_count": 50,
   "metadata": {
    "colab": {
     "base_uri": "https://localhost:8080/"
    },
    "id": "6Q943tIFJmgr",
    "outputId": "bdbcec92-523f-498c-da76-fada8c01f632",
    "tags": []
   },
   "outputs": [
    {
     "name": "stdout",
     "output_type": "stream",
     "text": [
      "\n",
      "\n",
      "\n"
     ]
    }
   ],
   "source": [
    "scatters = []\n",
    "colors = ['blue', 'red']\n",
    "for sample_index in examples_ids:\n",
    "    # extract example, decode to tokens and get the sequence length (ingoring padding)\n",
    "    test_tokenized_batch = test_dataset[sample_index]\n",
    "    tokens = [tokenizer.decode(t) for t in test_tokenized_batch['input_ids'] if t != tokenizer.pad_token_id]\n",
    "    seq_len = len(tokens)\n",
    "\n",
    "    input_ids = test_tokenized_batch['input_ids'].to(device).unsqueeze(0)\n",
    "    attention_mask = test_tokenized_batch['attention_mask'].to(device).unsqueeze(0)\n",
    "\n",
    "    base_embed = space_model.base_model(input_ids, attention_mask).last_hidden_state\n",
    "\n",
    "    concept_spaces = space_model.space_model(base_embed).concept_spaces\n",
    "\n",
    "    print()\n",
    "\n",
    "    for c, embed in enumerate(concept_spaces):\n",
    "        x, y, z = embed[0, :seq_len, 0].detach().cpu().numpy(), embed[0, :seq_len, 1].detach().cpu().numpy(), embed[0, :seq_len, 2].detach().cpu().numpy()\n",
    "\n",
    "        scatters.append(go.Scatter3d(\n",
    "            x=x, y=y, z=z, mode='markers+text',\n",
    "            name=f'Example: {sample_index} ({c})',\n",
    "            text=tokens,\n",
    "            marker=dict(color=colors[c]),\n",
    "            # hovertext=[]\n",
    "        ))"
   ]
  },
  {
   "cell_type": "code",
   "execution_count": null,
   "metadata": {
    "colab": {
     "base_uri": "https://localhost:8080/",
     "height": 542
    },
    "id": "yqojVYN0JogZ",
    "outputId": "d9e92fdf-def5-4a6f-9911-04acd0445867",
    "tags": []
   },
   "outputs": [],
   "source": [
    "fig = go.Figure(\n",
    "    data=scatters,\n",
    "    layout=go.Layout(\n",
    "        title=go.layout.Title(text='Space Embeddings')\n",
    "    ))\n",
    "fig.show()"
   ]
  },
  {
   "cell_type": "code",
   "execution_count": 197,
   "metadata": {
    "id": "_WCjolXJJQu3",
    "tags": []
   },
   "outputs": [],
   "source": [
    "fig.write_html(f'plots/{DATASET_NAME}_space-{MODEL_NAME}_{NUM_EPOCHS}.html')"
   ]
  },
  {
   "cell_type": "code",
   "execution_count": 192,
   "metadata": {
    "id": "fLRRQIDtJQu3",
    "outputId": "423dbbd1-42c3-48f6-c4a4-f2ba6f0ce8d7",
    "tags": []
   },
   "outputs": [],
   "source": [
    "# space_bert = SpaceBertForSequenceClassification(bert, n_embed=768, n_latent=3, n_concept_spaces=2, l1=0, l2=0).to(device)\n",
    "# space_bert.load_state_dict(torch.load(f'{MODELS_PATH}/ce_loss_2_epochs.bin'))\n",
    "# space_bert"
   ]
  },
  {
   "cell_type": "code",
   "execution_count": 47,
   "metadata": {
    "id": "fwNKTiMmJQu3",
    "tags": []
   },
   "outputs": [],
   "source": [
    "def inter_space_loss(concept_spaces: List[torch.Tensor], embed, labels):\n",
    "    \"\"\"\n",
    "    :param concept_spaces: pytorch tensors of shape: (n_concept_spaces, B, seq_len, n_latent)\n",
    "    :param embed: LM embeddings of shape: (B, seq_len, n_embed)\n",
    "    :param labels: labels of shape (B)\n",
    "    :return: loss (scalar)\n",
    "    \"\"\"\n",
    "\n",
    "    loss = 0.0\n",
    "\n",
    "    for k in range(len(concept_spaces)):\n",
    "        latent_embed = concept_spaces[k].permute(0, 2, 1)  # (B, seq_len, n_latent).T -> (B, n_latent, seq_len)\n",
    "        \n",
    "        # match loss\n",
    "        loss += torch.nan_to_num((1 - F.tanh(latent_embed[labels == k] @ embed[labels == k])).mean()).item()  # (B', seq_len, n_latent) * (B', seq_len, n_embed)\n",
    "            \n",
    "        # mismatch loss\n",
    "        loss += torch.nan_to_num((1 + F.tanh(latent_embed[labels != k] @ embed[labels != k])).mean()).item()\n",
    "    return loss"
   ]
  },
  {
   "cell_type": "code",
   "execution_count": 73,
   "metadata": {
    "tags": []
   },
   "outputs": [],
   "source": [
    "concept_spaces = [ # (n=2, B=2, seq_len=3, n_latent=4)\n",
    "    torch.tensor([\n",
    "        [\n",
    "            [-1.0, -1.0, -1.0, -1.0],\n",
    "            [-1.0, -1.0, -1.0, -1.0],\n",
    "            [-1.0, -1.0, -1.0, -1.0]\n",
    "        ],\n",
    "        [\n",
    "            [1.0, 1.0, 1.0, 1.0],\n",
    "            [1.0, 1.0, 1.0, 1.0],\n",
    "            [1.0, 1.0, 1.0, 1.0]\n",
    "        ],\n",
    "    ]),\n",
    "    torch.tensor([\n",
    "        [\n",
    "            [1.0, 1.0, 1.0, 1.0],\n",
    "            [1.0, 1.0, 1.0, 1.0],\n",
    "            [1.0, 1.0, 1.0, 1.0]\n",
    "        ],\n",
    "        [\n",
    "            [-1.0, -1.0, -1.0, -1.0],\n",
    "            [-1.0, -1.0, -1.0, -1.0],\n",
    "            [-1.0, -1.0, -1.0, -1.0]\n",
    "        ],\n",
    "    ])\n",
    "]\n",
    "\n",
    "embed = torch.tensor( # (B=2, seq_len=3, n_embed=6)\n",
    "    [\n",
    "        [\n",
    "            [0.5, 0.5, 0.5, 0.5, 0.5, 0.5],\n",
    "            [0.5, 0.5, 0.5, 0.5, 0.5, 0.5],\n",
    "            [0.5, 0.5, 0.5, 0.5, 0.5, 0.5]\n",
    "        ],\n",
    "        [\n",
    "            [0.5, 0.5, 0.5, 0.5, 0.5, 0.5],\n",
    "            [0.5, 0.5, 0.5, 0.5, 0.5, 0.5],\n",
    "            [0.5, 0.5, 0.5, 0.5, 0.5, 0.5]\n",
    "        ]\n",
    "    ]\n",
    ")"
   ]
  },
  {
   "cell_type": "code",
   "execution_count": 74,
   "metadata": {
    "tags": []
   },
   "outputs": [],
   "source": [
    "labels = torch.tensor([\n",
    "    1, \n",
    "    0\n",
    "])"
   ]
  },
  {
   "cell_type": "code",
   "execution_count": 75,
   "metadata": {
    "tags": []
   },
   "outputs": [
    {
     "data": {
      "text/plain": [
       "0.3794069290161133"
      ]
     },
     "execution_count": 75,
     "metadata": {},
     "output_type": "execute_result"
    }
   ],
   "source": [
    "inter_space_loss(concept_spaces, embed, labels)"
   ]
  },
  {
   "cell_type": "code",
   "execution_count": null,
   "metadata": {},
   "outputs": [],
   "source": []
  }
 ],
 "metadata": {
  "accelerator": "GPU",
  "colab": {
   "gpuType": "T4",
   "provenance": []
  },
  "environment": {
   "kernel": "python3",
   "name": ".m114",
   "type": "gcloud",
   "uri": "gcr.io/deeplearning-platform-release/:m114"
  },
  "kernelspec": {
   "display_name": "Python 3 (ipykernel)",
   "language": "python",
   "name": "python3"
  },
  "language_info": {
   "codemirror_mode": {
    "name": "ipython",
    "version": 3
   },
   "file_extension": ".py",
   "mimetype": "text/x-python",
   "name": "python",
   "nbconvert_exporter": "python",
   "pygments_lexer": "ipython3",
   "version": "3.8.10"
  },
  "widgets": {
   "application/vnd.jupyter.widget-state+json": {
    "0058c683a52c4bdabf7590c22c3ca669": {
     "model_module": "@jupyter-widgets/controls",
     "model_module_version": "1.5.0",
     "model_name": "ProgressStyleModel",
     "state": {
      "_model_module": "@jupyter-widgets/controls",
      "_model_module_version": "1.5.0",
      "_model_name": "ProgressStyleModel",
      "_view_count": null,
      "_view_module": "@jupyter-widgets/base",
      "_view_module_version": "1.2.0",
      "_view_name": "StyleView",
      "bar_color": null,
      "description_width": ""
     }
    },
    "018df813a9b7468681cb5caccb7717d3": {
     "model_module": "@jupyter-widgets/controls",
     "model_module_version": "1.5.0",
     "model_name": "ProgressStyleModel",
     "state": {
      "_model_module": "@jupyter-widgets/controls",
      "_model_module_version": "1.5.0",
      "_model_name": "ProgressStyleModel",
      "_view_count": null,
      "_view_module": "@jupyter-widgets/base",
      "_view_module_version": "1.2.0",
      "_view_name": "StyleView",
      "bar_color": null,
      "description_width": ""
     }
    },
    "01b9525b8cc141d397e822aa75cb15cb": {
     "model_module": "@jupyter-widgets/controls",
     "model_module_version": "1.5.0",
     "model_name": "HTMLModel",
     "state": {
      "_dom_classes": [],
      "_model_module": "@jupyter-widgets/controls",
      "_model_module_version": "1.5.0",
      "_model_name": "HTMLModel",
      "_view_count": null,
      "_view_module": "@jupyter-widgets/controls",
      "_view_module_version": "1.5.0",
      "_view_name": "HTMLView",
      "description": "",
      "description_tooltip": null,
      "layout": "IPY_MODEL_8683e16c9870492cac2948aeb11a12e3",
      "placeholder": "​",
      "style": "IPY_MODEL_d69b280e4e8246e491ad9eb02d7f17dc",
      "value": "Generating train split: 100%"
     }
    },
    "0209668a2eba405b8665c3c4050d6d3e": {
     "model_module": "@jupyter-widgets/base",
     "model_module_version": "1.2.0",
     "model_name": "LayoutModel",
     "state": {
      "_model_module": "@jupyter-widgets/base",
      "_model_module_version": "1.2.0",
      "_model_name": "LayoutModel",
      "_view_count": null,
      "_view_module": "@jupyter-widgets/base",
      "_view_module_version": "1.2.0",
      "_view_name": "LayoutView",
      "align_content": null,
      "align_items": null,
      "align_self": null,
      "border": null,
      "bottom": null,
      "display": null,
      "flex": null,
      "flex_flow": null,
      "grid_area": null,
      "grid_auto_columns": null,
      "grid_auto_flow": null,
      "grid_auto_rows": null,
      "grid_column": null,
      "grid_gap": null,
      "grid_row": null,
      "grid_template_areas": null,
      "grid_template_columns": null,
      "grid_template_rows": null,
      "height": null,
      "justify_content": null,
      "justify_items": null,
      "left": null,
      "margin": null,
      "max_height": null,
      "max_width": null,
      "min_height": null,
      "min_width": null,
      "object_fit": null,
      "object_position": null,
      "order": null,
      "overflow": null,
      "overflow_x": null,
      "overflow_y": null,
      "padding": null,
      "right": null,
      "top": null,
      "visibility": null,
      "width": null
     }
    },
    "050c0212a75e49e48e8971e887844fa8": {
     "model_module": "@jupyter-widgets/base",
     "model_module_version": "1.2.0",
     "model_name": "LayoutModel",
     "state": {
      "_model_module": "@jupyter-widgets/base",
      "_model_module_version": "1.2.0",
      "_model_name": "LayoutModel",
      "_view_count": null,
      "_view_module": "@jupyter-widgets/base",
      "_view_module_version": "1.2.0",
      "_view_name": "LayoutView",
      "align_content": null,
      "align_items": null,
      "align_self": null,
      "border": null,
      "bottom": null,
      "display": null,
      "flex": null,
      "flex_flow": null,
      "grid_area": null,
      "grid_auto_columns": null,
      "grid_auto_flow": null,
      "grid_auto_rows": null,
      "grid_column": null,
      "grid_gap": null,
      "grid_row": null,
      "grid_template_areas": null,
      "grid_template_columns": null,
      "grid_template_rows": null,
      "height": null,
      "justify_content": null,
      "justify_items": null,
      "left": null,
      "margin": null,
      "max_height": null,
      "max_width": null,
      "min_height": null,
      "min_width": null,
      "object_fit": null,
      "object_position": null,
      "order": null,
      "overflow": null,
      "overflow_x": null,
      "overflow_y": null,
      "padding": null,
      "right": null,
      "top": null,
      "visibility": null,
      "width": null
     }
    },
    "0687195b68c6466384788c1fde2b9207": {
     "model_module": "@jupyter-widgets/controls",
     "model_module_version": "1.5.0",
     "model_name": "ProgressStyleModel",
     "state": {
      "_model_module": "@jupyter-widgets/controls",
      "_model_module_version": "1.5.0",
      "_model_name": "ProgressStyleModel",
      "_view_count": null,
      "_view_module": "@jupyter-widgets/base",
      "_view_module_version": "1.2.0",
      "_view_name": "StyleView",
      "bar_color": null,
      "description_width": ""
     }
    },
    "076ab3056cca4a7dabd337b1be820c75": {
     "model_module": "@jupyter-widgets/controls",
     "model_module_version": "1.5.0",
     "model_name": "DescriptionStyleModel",
     "state": {
      "_model_module": "@jupyter-widgets/controls",
      "_model_module_version": "1.5.0",
      "_model_name": "DescriptionStyleModel",
      "_view_count": null,
      "_view_module": "@jupyter-widgets/base",
      "_view_module_version": "1.2.0",
      "_view_name": "StyleView",
      "description_width": ""
     }
    },
    "084f557430b747b28c1c04eb0d854d9c": {
     "model_module": "@jupyter-widgets/controls",
     "model_module_version": "1.5.0",
     "model_name": "DescriptionStyleModel",
     "state": {
      "_model_module": "@jupyter-widgets/controls",
      "_model_module_version": "1.5.0",
      "_model_name": "DescriptionStyleModel",
      "_view_count": null,
      "_view_module": "@jupyter-widgets/base",
      "_view_module_version": "1.2.0",
      "_view_name": "StyleView",
      "description_width": ""
     }
    },
    "08e5f11449a34acf8d72a90d34a167b4": {
     "model_module": "@jupyter-widgets/controls",
     "model_module_version": "1.5.0",
     "model_name": "HTMLModel",
     "state": {
      "_dom_classes": [],
      "_model_module": "@jupyter-widgets/controls",
      "_model_module_version": "1.5.0",
      "_model_name": "HTMLModel",
      "_view_count": null,
      "_view_module": "@jupyter-widgets/controls",
      "_view_module_version": "1.5.0",
      "_view_name": "HTMLView",
      "description": "",
      "description_tooltip": null,
      "layout": "IPY_MODEL_7478752deb544484af78915d8a5af4a8",
      "placeholder": "​",
      "style": "IPY_MODEL_084f557430b747b28c1c04eb0d854d9c",
      "value": "Downloading (…)okenizer_config.json: 100%"
     }
    },
    "096a52066d094a61a59a2fe5aef1e6b7": {
     "model_module": "@jupyter-widgets/controls",
     "model_module_version": "1.5.0",
     "model_name": "DescriptionStyleModel",
     "state": {
      "_model_module": "@jupyter-widgets/controls",
      "_model_module_version": "1.5.0",
      "_model_name": "DescriptionStyleModel",
      "_view_count": null,
      "_view_module": "@jupyter-widgets/base",
      "_view_module_version": "1.2.0",
      "_view_name": "StyleView",
      "description_width": ""
     }
    },
    "100329b2a06a46028a876819b2988632": {
     "model_module": "@jupyter-widgets/base",
     "model_module_version": "1.2.0",
     "model_name": "LayoutModel",
     "state": {
      "_model_module": "@jupyter-widgets/base",
      "_model_module_version": "1.2.0",
      "_model_name": "LayoutModel",
      "_view_count": null,
      "_view_module": "@jupyter-widgets/base",
      "_view_module_version": "1.2.0",
      "_view_name": "LayoutView",
      "align_content": null,
      "align_items": null,
      "align_self": null,
      "border": null,
      "bottom": null,
      "display": null,
      "flex": null,
      "flex_flow": null,
      "grid_area": null,
      "grid_auto_columns": null,
      "grid_auto_flow": null,
      "grid_auto_rows": null,
      "grid_column": null,
      "grid_gap": null,
      "grid_row": null,
      "grid_template_areas": null,
      "grid_template_columns": null,
      "grid_template_rows": null,
      "height": null,
      "justify_content": null,
      "justify_items": null,
      "left": null,
      "margin": null,
      "max_height": null,
      "max_width": null,
      "min_height": null,
      "min_width": null,
      "object_fit": null,
      "object_position": null,
      "order": null,
      "overflow": null,
      "overflow_x": null,
      "overflow_y": null,
      "padding": null,
      "right": null,
      "top": null,
      "visibility": null,
      "width": null
     }
    },
    "1103b2b6642d4a13910abac466c5f465": {
     "model_module": "@jupyter-widgets/controls",
     "model_module_version": "1.5.0",
     "model_name": "HBoxModel",
     "state": {
      "_dom_classes": [],
      "_model_module": "@jupyter-widgets/controls",
      "_model_module_version": "1.5.0",
      "_model_name": "HBoxModel",
      "_view_count": null,
      "_view_module": "@jupyter-widgets/controls",
      "_view_module_version": "1.5.0",
      "_view_name": "HBoxView",
      "box_style": "",
      "children": [
       "IPY_MODEL_7f06b5f1574a4228877a9a90f4d17b4d",
       "IPY_MODEL_6ed5a78df66242bfa02157b86f72d2e2",
       "IPY_MODEL_c0ebcb764da64bd096b1ccd9c3234b2e"
      ],
      "layout": "IPY_MODEL_48cb2ab421f443caaf4d981f7cc97b19"
     }
    },
    "11f46e2b7cea4ed2b5df4d7347679df0": {
     "model_module": "@jupyter-widgets/base",
     "model_module_version": "1.2.0",
     "model_name": "LayoutModel",
     "state": {
      "_model_module": "@jupyter-widgets/base",
      "_model_module_version": "1.2.0",
      "_model_name": "LayoutModel",
      "_view_count": null,
      "_view_module": "@jupyter-widgets/base",
      "_view_module_version": "1.2.0",
      "_view_name": "LayoutView",
      "align_content": null,
      "align_items": null,
      "align_self": null,
      "border": null,
      "bottom": null,
      "display": null,
      "flex": null,
      "flex_flow": null,
      "grid_area": null,
      "grid_auto_columns": null,
      "grid_auto_flow": null,
      "grid_auto_rows": null,
      "grid_column": null,
      "grid_gap": null,
      "grid_row": null,
      "grid_template_areas": null,
      "grid_template_columns": null,
      "grid_template_rows": null,
      "height": null,
      "justify_content": null,
      "justify_items": null,
      "left": null,
      "margin": null,
      "max_height": null,
      "max_width": null,
      "min_height": null,
      "min_width": null,
      "object_fit": null,
      "object_position": null,
      "order": null,
      "overflow": null,
      "overflow_x": null,
      "overflow_y": null,
      "padding": null,
      "right": null,
      "top": null,
      "visibility": null,
      "width": null
     }
    },
    "154f39d6bf4a4f86be960183d9bf3bb9": {
     "model_module": "@jupyter-widgets/base",
     "model_module_version": "1.2.0",
     "model_name": "LayoutModel",
     "state": {
      "_model_module": "@jupyter-widgets/base",
      "_model_module_version": "1.2.0",
      "_model_name": "LayoutModel",
      "_view_count": null,
      "_view_module": "@jupyter-widgets/base",
      "_view_module_version": "1.2.0",
      "_view_name": "LayoutView",
      "align_content": null,
      "align_items": null,
      "align_self": null,
      "border": null,
      "bottom": null,
      "display": null,
      "flex": null,
      "flex_flow": null,
      "grid_area": null,
      "grid_auto_columns": null,
      "grid_auto_flow": null,
      "grid_auto_rows": null,
      "grid_column": null,
      "grid_gap": null,
      "grid_row": null,
      "grid_template_areas": null,
      "grid_template_columns": null,
      "grid_template_rows": null,
      "height": null,
      "justify_content": null,
      "justify_items": null,
      "left": null,
      "margin": null,
      "max_height": null,
      "max_width": null,
      "min_height": null,
      "min_width": null,
      "object_fit": null,
      "object_position": null,
      "order": null,
      "overflow": null,
      "overflow_x": null,
      "overflow_y": null,
      "padding": null,
      "right": null,
      "top": null,
      "visibility": null,
      "width": null
     }
    },
    "18ee383a0bb144b680cd116e534d875b": {
     "model_module": "@jupyter-widgets/base",
     "model_module_version": "1.2.0",
     "model_name": "LayoutModel",
     "state": {
      "_model_module": "@jupyter-widgets/base",
      "_model_module_version": "1.2.0",
      "_model_name": "LayoutModel",
      "_view_count": null,
      "_view_module": "@jupyter-widgets/base",
      "_view_module_version": "1.2.0",
      "_view_name": "LayoutView",
      "align_content": null,
      "align_items": null,
      "align_self": null,
      "border": null,
      "bottom": null,
      "display": null,
      "flex": null,
      "flex_flow": null,
      "grid_area": null,
      "grid_auto_columns": null,
      "grid_auto_flow": null,
      "grid_auto_rows": null,
      "grid_column": null,
      "grid_gap": null,
      "grid_row": null,
      "grid_template_areas": null,
      "grid_template_columns": null,
      "grid_template_rows": null,
      "height": null,
      "justify_content": null,
      "justify_items": null,
      "left": null,
      "margin": null,
      "max_height": null,
      "max_width": null,
      "min_height": null,
      "min_width": null,
      "object_fit": null,
      "object_position": null,
      "order": null,
      "overflow": null,
      "overflow_x": null,
      "overflow_y": null,
      "padding": null,
      "right": null,
      "top": null,
      "visibility": null,
      "width": null
     }
    },
    "1c1e3d66764347ebacaf49ae85b504c9": {
     "model_module": "@jupyter-widgets/controls",
     "model_module_version": "1.5.0",
     "model_name": "DescriptionStyleModel",
     "state": {
      "_model_module": "@jupyter-widgets/controls",
      "_model_module_version": "1.5.0",
      "_model_name": "DescriptionStyleModel",
      "_view_count": null,
      "_view_module": "@jupyter-widgets/base",
      "_view_module_version": "1.2.0",
      "_view_name": "StyleView",
      "description_width": ""
     }
    },
    "1c93e6f9a8264e388a6ab233e41cab55": {
     "model_module": "@jupyter-widgets/controls",
     "model_module_version": "1.5.0",
     "model_name": "DescriptionStyleModel",
     "state": {
      "_model_module": "@jupyter-widgets/controls",
      "_model_module_version": "1.5.0",
      "_model_name": "DescriptionStyleModel",
      "_view_count": null,
      "_view_module": "@jupyter-widgets/base",
      "_view_module_version": "1.2.0",
      "_view_name": "StyleView",
      "description_width": ""
     }
    },
    "1f5d79d168934323b710eb6eccc8cfc2": {
     "model_module": "@jupyter-widgets/controls",
     "model_module_version": "1.5.0",
     "model_name": "HBoxModel",
     "state": {
      "_dom_classes": [],
      "_model_module": "@jupyter-widgets/controls",
      "_model_module_version": "1.5.0",
      "_model_name": "HBoxModel",
      "_view_count": null,
      "_view_module": "@jupyter-widgets/controls",
      "_view_module_version": "1.5.0",
      "_view_name": "HBoxView",
      "box_style": "",
      "children": [
       "IPY_MODEL_d8fc11801d0a47169a9d346388fb959c",
       "IPY_MODEL_a05bc210c5b4416ea5c6296fcbbb56d1",
       "IPY_MODEL_83ae6670a78a4f70a82c1ee0b6b6fcbc"
      ],
      "layout": "IPY_MODEL_98e6d29a919d40be9eec2b57a3580993"
     }
    },
    "1fda06a502c648718a4711b35c456c45": {
     "model_module": "@jupyter-widgets/controls",
     "model_module_version": "1.5.0",
     "model_name": "FloatProgressModel",
     "state": {
      "_dom_classes": [],
      "_model_module": "@jupyter-widgets/controls",
      "_model_module_version": "1.5.0",
      "_model_name": "FloatProgressModel",
      "_view_count": null,
      "_view_module": "@jupyter-widgets/controls",
      "_view_module_version": "1.5.0",
      "_view_name": "ProgressView",
      "bar_style": "success",
      "description": "",
      "description_tooltip": null,
      "layout": "IPY_MODEL_2610862ce2cd4b18b7f13831e57a23b2",
      "max": 435797,
      "min": 0,
      "orientation": "horizontal",
      "style": "IPY_MODEL_ac4de9b1d709439f9492358ffc7bbc0d",
      "value": 435797
     }
    },
    "209b03449a6c4ea59fc2b3ec6bdffdf3": {
     "model_module": "@jupyter-widgets/controls",
     "model_module_version": "1.5.0",
     "model_name": "HTMLModel",
     "state": {
      "_dom_classes": [],
      "_model_module": "@jupyter-widgets/controls",
      "_model_module_version": "1.5.0",
      "_model_name": "HTMLModel",
      "_view_count": null,
      "_view_module": "@jupyter-widgets/controls",
      "_view_module_version": "1.5.0",
      "_view_name": "HTMLView",
      "description": "",
      "description_tooltip": null,
      "layout": "IPY_MODEL_fa014eb1139b49c58eed87efd8227824",
      "placeholder": "​",
      "style": "IPY_MODEL_a597a266870a418aaf7037a10d9366c1",
      "value": " 25000/25000 [00:25&lt;00:00, 4013.27 examples/s]"
     }
    },
    "21cc7a51927d47d6aa3f69ec616ac897": {
     "model_module": "@jupyter-widgets/base",
     "model_module_version": "1.2.0",
     "model_name": "LayoutModel",
     "state": {
      "_model_module": "@jupyter-widgets/base",
      "_model_module_version": "1.2.0",
      "_model_name": "LayoutModel",
      "_view_count": null,
      "_view_module": "@jupyter-widgets/base",
      "_view_module_version": "1.2.0",
      "_view_name": "LayoutView",
      "align_content": null,
      "align_items": null,
      "align_self": null,
      "border": null,
      "bottom": null,
      "display": null,
      "flex": null,
      "flex_flow": null,
      "grid_area": null,
      "grid_auto_columns": null,
      "grid_auto_flow": null,
      "grid_auto_rows": null,
      "grid_column": null,
      "grid_gap": null,
      "grid_row": null,
      "grid_template_areas": null,
      "grid_template_columns": null,
      "grid_template_rows": null,
      "height": null,
      "justify_content": null,
      "justify_items": null,
      "left": null,
      "margin": null,
      "max_height": null,
      "max_width": null,
      "min_height": null,
      "min_width": null,
      "object_fit": null,
      "object_position": null,
      "order": null,
      "overflow": null,
      "overflow_x": null,
      "overflow_y": null,
      "padding": null,
      "right": null,
      "top": null,
      "visibility": null,
      "width": null
     }
    },
    "224956793e2840e4b8e7c55558ea720c": {
     "model_module": "@jupyter-widgets/controls",
     "model_module_version": "1.5.0",
     "model_name": "HTMLModel",
     "state": {
      "_dom_classes": [],
      "_model_module": "@jupyter-widgets/controls",
      "_model_module_version": "1.5.0",
      "_model_name": "HTMLModel",
      "_view_count": null,
      "_view_module": "@jupyter-widgets/controls",
      "_view_module_version": "1.5.0",
      "_view_name": "HTMLView",
      "description": "",
      "description_tooltip": null,
      "layout": "IPY_MODEL_706f123bcf084a17ba44834cacfb65ae",
      "placeholder": "​",
      "style": "IPY_MODEL_773a20bf297f4cd4beeddedce01e2356",
      "value": " 4.31k/4.31k [00:00&lt;00:00, 195kB/s]"
     }
    },
    "25ae171dcc3f4451a0a66c1675a9f295": {
     "model_module": "@jupyter-widgets/base",
     "model_module_version": "1.2.0",
     "model_name": "LayoutModel",
     "state": {
      "_model_module": "@jupyter-widgets/base",
      "_model_module_version": "1.2.0",
      "_model_name": "LayoutModel",
      "_view_count": null,
      "_view_module": "@jupyter-widgets/base",
      "_view_module_version": "1.2.0",
      "_view_name": "LayoutView",
      "align_content": null,
      "align_items": null,
      "align_self": null,
      "border": null,
      "bottom": null,
      "display": null,
      "flex": null,
      "flex_flow": null,
      "grid_area": null,
      "grid_auto_columns": null,
      "grid_auto_flow": null,
      "grid_auto_rows": null,
      "grid_column": null,
      "grid_gap": null,
      "grid_row": null,
      "grid_template_areas": null,
      "grid_template_columns": null,
      "grid_template_rows": null,
      "height": null,
      "justify_content": null,
      "justify_items": null,
      "left": null,
      "margin": null,
      "max_height": null,
      "max_width": null,
      "min_height": null,
      "min_width": null,
      "object_fit": null,
      "object_position": null,
      "order": null,
      "overflow": null,
      "overflow_x": null,
      "overflow_y": null,
      "padding": null,
      "right": null,
      "top": null,
      "visibility": null,
      "width": null
     }
    },
    "25c1551d8e44451e8f50e9da5fbd6d01": {
     "model_module": "@jupyter-widgets/controls",
     "model_module_version": "1.5.0",
     "model_name": "HTMLModel",
     "state": {
      "_dom_classes": [],
      "_model_module": "@jupyter-widgets/controls",
      "_model_module_version": "1.5.0",
      "_model_name": "HTMLModel",
      "_view_count": null,
      "_view_module": "@jupyter-widgets/controls",
      "_view_module_version": "1.5.0",
      "_view_name": "HTMLView",
      "description": "",
      "description_tooltip": null,
      "layout": "IPY_MODEL_ab729159af2c4241a5b73140dbd4763f",
      "placeholder": "​",
      "style": "IPY_MODEL_54bcfba037dd4b84bc0a5411e12fd263",
      "value": " 25000/25000 [00:30&lt;00:00, 850.19 examples/s]"
     }
    },
    "2610862ce2cd4b18b7f13831e57a23b2": {
     "model_module": "@jupyter-widgets/base",
     "model_module_version": "1.2.0",
     "model_name": "LayoutModel",
     "state": {
      "_model_module": "@jupyter-widgets/base",
      "_model_module_version": "1.2.0",
      "_model_name": "LayoutModel",
      "_view_count": null,
      "_view_module": "@jupyter-widgets/base",
      "_view_module_version": "1.2.0",
      "_view_name": "LayoutView",
      "align_content": null,
      "align_items": null,
      "align_self": null,
      "border": null,
      "bottom": null,
      "display": null,
      "flex": null,
      "flex_flow": null,
      "grid_area": null,
      "grid_auto_columns": null,
      "grid_auto_flow": null,
      "grid_auto_rows": null,
      "grid_column": null,
      "grid_gap": null,
      "grid_row": null,
      "grid_template_areas": null,
      "grid_template_columns": null,
      "grid_template_rows": null,
      "height": null,
      "justify_content": null,
      "justify_items": null,
      "left": null,
      "margin": null,
      "max_height": null,
      "max_width": null,
      "min_height": null,
      "min_width": null,
      "object_fit": null,
      "object_position": null,
      "order": null,
      "overflow": null,
      "overflow_x": null,
      "overflow_y": null,
      "padding": null,
      "right": null,
      "top": null,
      "visibility": null,
      "width": null
     }
    },
    "29a471804db84fb7ae36d2ea77d0fd8a": {
     "model_module": "@jupyter-widgets/controls",
     "model_module_version": "1.5.0",
     "model_name": "DescriptionStyleModel",
     "state": {
      "_model_module": "@jupyter-widgets/controls",
      "_model_module_version": "1.5.0",
      "_model_name": "DescriptionStyleModel",
      "_view_count": null,
      "_view_module": "@jupyter-widgets/base",
      "_view_module_version": "1.2.0",
      "_view_name": "StyleView",
      "description_width": ""
     }
    },
    "2ce7d5141853464ebfe240231ded90a3": {
     "model_module": "@jupyter-widgets/base",
     "model_module_version": "1.2.0",
     "model_name": "LayoutModel",
     "state": {
      "_model_module": "@jupyter-widgets/base",
      "_model_module_version": "1.2.0",
      "_model_name": "LayoutModel",
      "_view_count": null,
      "_view_module": "@jupyter-widgets/base",
      "_view_module_version": "1.2.0",
      "_view_name": "LayoutView",
      "align_content": null,
      "align_items": null,
      "align_self": null,
      "border": null,
      "bottom": null,
      "display": null,
      "flex": null,
      "flex_flow": null,
      "grid_area": null,
      "grid_auto_columns": null,
      "grid_auto_flow": null,
      "grid_auto_rows": null,
      "grid_column": null,
      "grid_gap": null,
      "grid_row": null,
      "grid_template_areas": null,
      "grid_template_columns": null,
      "grid_template_rows": null,
      "height": null,
      "justify_content": null,
      "justify_items": null,
      "left": null,
      "margin": null,
      "max_height": null,
      "max_width": null,
      "min_height": null,
      "min_width": null,
      "object_fit": null,
      "object_position": null,
      "order": null,
      "overflow": null,
      "overflow_x": null,
      "overflow_y": null,
      "padding": null,
      "right": null,
      "top": null,
      "visibility": null,
      "width": null
     }
    },
    "2dc52e8da53742e3be26571cbae54f3b": {
     "model_module": "@jupyter-widgets/controls",
     "model_module_version": "1.5.0",
     "model_name": "FloatProgressModel",
     "state": {
      "_dom_classes": [],
      "_model_module": "@jupyter-widgets/controls",
      "_model_module_version": "1.5.0",
      "_model_name": "FloatProgressModel",
      "_view_count": null,
      "_view_module": "@jupyter-widgets/controls",
      "_view_module_version": "1.5.0",
      "_view_name": "ProgressView",
      "bar_style": "success",
      "description": "",
      "description_tooltip": null,
      "layout": "IPY_MODEL_61bb37d3773e4db0b7de2f25819b0109",
      "max": 2166,
      "min": 0,
      "orientation": "horizontal",
      "style": "IPY_MODEL_3a2f6da974464ff1a753f6065834809b",
      "value": 2166
     }
    },
    "2e650a0648a24e65817bd1a2b21f5684": {
     "model_module": "@jupyter-widgets/base",
     "model_module_version": "1.2.0",
     "model_name": "LayoutModel",
     "state": {
      "_model_module": "@jupyter-widgets/base",
      "_model_module_version": "1.2.0",
      "_model_name": "LayoutModel",
      "_view_count": null,
      "_view_module": "@jupyter-widgets/base",
      "_view_module_version": "1.2.0",
      "_view_name": "LayoutView",
      "align_content": null,
      "align_items": null,
      "align_self": null,
      "border": null,
      "bottom": null,
      "display": null,
      "flex": null,
      "flex_flow": null,
      "grid_area": null,
      "grid_auto_columns": null,
      "grid_auto_flow": null,
      "grid_auto_rows": null,
      "grid_column": null,
      "grid_gap": null,
      "grid_row": null,
      "grid_template_areas": null,
      "grid_template_columns": null,
      "grid_template_rows": null,
      "height": null,
      "justify_content": null,
      "justify_items": null,
      "left": null,
      "margin": null,
      "max_height": null,
      "max_width": null,
      "min_height": null,
      "min_width": null,
      "object_fit": null,
      "object_position": null,
      "order": null,
      "overflow": null,
      "overflow_x": null,
      "overflow_y": null,
      "padding": null,
      "right": null,
      "top": null,
      "visibility": null,
      "width": null
     }
    },
    "317f01961adf4331b59b42b2dc7f8b70": {
     "model_module": "@jupyter-widgets/base",
     "model_module_version": "1.2.0",
     "model_name": "LayoutModel",
     "state": {
      "_model_module": "@jupyter-widgets/base",
      "_model_module_version": "1.2.0",
      "_model_name": "LayoutModel",
      "_view_count": null,
      "_view_module": "@jupyter-widgets/base",
      "_view_module_version": "1.2.0",
      "_view_name": "LayoutView",
      "align_content": null,
      "align_items": null,
      "align_self": null,
      "border": null,
      "bottom": null,
      "display": null,
      "flex": null,
      "flex_flow": null,
      "grid_area": null,
      "grid_auto_columns": null,
      "grid_auto_flow": null,
      "grid_auto_rows": null,
      "grid_column": null,
      "grid_gap": null,
      "grid_row": null,
      "grid_template_areas": null,
      "grid_template_columns": null,
      "grid_template_rows": null,
      "height": null,
      "justify_content": null,
      "justify_items": null,
      "left": null,
      "margin": null,
      "max_height": null,
      "max_width": null,
      "min_height": null,
      "min_width": null,
      "object_fit": null,
      "object_position": null,
      "order": null,
      "overflow": null,
      "overflow_x": null,
      "overflow_y": null,
      "padding": null,
      "right": null,
      "top": null,
      "visibility": null,
      "width": null
     }
    },
    "31c22c16076444a4ba3f851a808888ab": {
     "model_module": "@jupyter-widgets/base",
     "model_module_version": "1.2.0",
     "model_name": "LayoutModel",
     "state": {
      "_model_module": "@jupyter-widgets/base",
      "_model_module_version": "1.2.0",
      "_model_name": "LayoutModel",
      "_view_count": null,
      "_view_module": "@jupyter-widgets/base",
      "_view_module_version": "1.2.0",
      "_view_name": "LayoutView",
      "align_content": null,
      "align_items": null,
      "align_self": null,
      "border": null,
      "bottom": null,
      "display": null,
      "flex": null,
      "flex_flow": null,
      "grid_area": null,
      "grid_auto_columns": null,
      "grid_auto_flow": null,
      "grid_auto_rows": null,
      "grid_column": null,
      "grid_gap": null,
      "grid_row": null,
      "grid_template_areas": null,
      "grid_template_columns": null,
      "grid_template_rows": null,
      "height": null,
      "justify_content": null,
      "justify_items": null,
      "left": null,
      "margin": null,
      "max_height": null,
      "max_width": null,
      "min_height": null,
      "min_width": null,
      "object_fit": null,
      "object_position": null,
      "order": null,
      "overflow": null,
      "overflow_x": null,
      "overflow_y": null,
      "padding": null,
      "right": null,
      "top": null,
      "visibility": null,
      "width": null
     }
    },
    "31c4ecc58a594b5cbc887a81b715dac6": {
     "model_module": "@jupyter-widgets/controls",
     "model_module_version": "1.5.0",
     "model_name": "DescriptionStyleModel",
     "state": {
      "_model_module": "@jupyter-widgets/controls",
      "_model_module_version": "1.5.0",
      "_model_name": "DescriptionStyleModel",
      "_view_count": null,
      "_view_module": "@jupyter-widgets/base",
      "_view_module_version": "1.2.0",
      "_view_name": "StyleView",
      "description_width": ""
     }
    },
    "31e5bfb3897144efbc2611f7c115e796": {
     "model_module": "@jupyter-widgets/controls",
     "model_module_version": "1.5.0",
     "model_name": "HBoxModel",
     "state": {
      "_dom_classes": [],
      "_model_module": "@jupyter-widgets/controls",
      "_model_module_version": "1.5.0",
      "_model_name": "HBoxModel",
      "_view_count": null,
      "_view_module": "@jupyter-widgets/controls",
      "_view_module_version": "1.5.0",
      "_view_name": "HBoxView",
      "box_style": "",
      "children": [
       "IPY_MODEL_fa7cadb44033477ba644c335361c6b8c",
       "IPY_MODEL_94450ee0f4664fd39785fe7af984544f",
       "IPY_MODEL_25c1551d8e44451e8f50e9da5fbd6d01"
      ],
      "layout": "IPY_MODEL_0209668a2eba405b8665c3c4050d6d3e"
     }
    },
    "350a2e0caf4d48dc925d374a863bb2b5": {
     "model_module": "@jupyter-widgets/base",
     "model_module_version": "1.2.0",
     "model_name": "LayoutModel",
     "state": {
      "_model_module": "@jupyter-widgets/base",
      "_model_module_version": "1.2.0",
      "_model_name": "LayoutModel",
      "_view_count": null,
      "_view_module": "@jupyter-widgets/base",
      "_view_module_version": "1.2.0",
      "_view_name": "LayoutView",
      "align_content": null,
      "align_items": null,
      "align_self": null,
      "border": null,
      "bottom": null,
      "display": null,
      "flex": null,
      "flex_flow": null,
      "grid_area": null,
      "grid_auto_columns": null,
      "grid_auto_flow": null,
      "grid_auto_rows": null,
      "grid_column": null,
      "grid_gap": null,
      "grid_row": null,
      "grid_template_areas": null,
      "grid_template_columns": null,
      "grid_template_rows": null,
      "height": null,
      "justify_content": null,
      "justify_items": null,
      "left": null,
      "margin": null,
      "max_height": null,
      "max_width": null,
      "min_height": null,
      "min_width": null,
      "object_fit": null,
      "object_position": null,
      "order": null,
      "overflow": null,
      "overflow_x": null,
      "overflow_y": null,
      "padding": null,
      "right": null,
      "top": null,
      "visibility": null,
      "width": null
     }
    },
    "36813cead717471695cb654fd4e55386": {
     "model_module": "@jupyter-widgets/base",
     "model_module_version": "1.2.0",
     "model_name": "LayoutModel",
     "state": {
      "_model_module": "@jupyter-widgets/base",
      "_model_module_version": "1.2.0",
      "_model_name": "LayoutModel",
      "_view_count": null,
      "_view_module": "@jupyter-widgets/base",
      "_view_module_version": "1.2.0",
      "_view_name": "LayoutView",
      "align_content": null,
      "align_items": null,
      "align_self": null,
      "border": null,
      "bottom": null,
      "display": null,
      "flex": null,
      "flex_flow": null,
      "grid_area": null,
      "grid_auto_columns": null,
      "grid_auto_flow": null,
      "grid_auto_rows": null,
      "grid_column": null,
      "grid_gap": null,
      "grid_row": null,
      "grid_template_areas": null,
      "grid_template_columns": null,
      "grid_template_rows": null,
      "height": null,
      "justify_content": null,
      "justify_items": null,
      "left": null,
      "margin": null,
      "max_height": null,
      "max_width": null,
      "min_height": null,
      "min_width": null,
      "object_fit": null,
      "object_position": null,
      "order": null,
      "overflow": null,
      "overflow_x": null,
      "overflow_y": null,
      "padding": null,
      "right": null,
      "top": null,
      "visibility": null,
      "width": null
     }
    },
    "36835a1102aa4908acf46b53ac55e55d": {
     "model_module": "@jupyter-widgets/controls",
     "model_module_version": "1.5.0",
     "model_name": "HTMLModel",
     "state": {
      "_dom_classes": [],
      "_model_module": "@jupyter-widgets/controls",
      "_model_module_version": "1.5.0",
      "_model_name": "HTMLModel",
      "_view_count": null,
      "_view_module": "@jupyter-widgets/controls",
      "_view_module_version": "1.5.0",
      "_view_name": "HTMLView",
      "description": "",
      "description_tooltip": null,
      "layout": "IPY_MODEL_9ec5f07613534d2fb6e51868696e38fb",
      "placeholder": "​",
      "style": "IPY_MODEL_1c93e6f9a8264e388a6ab233e41cab55",
      "value": "Downloading (…)/main/tokenizer.json: 100%"
     }
    },
    "36e63d03fe1d4c578a4ada6ccca5cb0f": {
     "model_module": "@jupyter-widgets/controls",
     "model_module_version": "1.5.0",
     "model_name": "DescriptionStyleModel",
     "state": {
      "_model_module": "@jupyter-widgets/controls",
      "_model_module_version": "1.5.0",
      "_model_name": "DescriptionStyleModel",
      "_view_count": null,
      "_view_module": "@jupyter-widgets/base",
      "_view_module_version": "1.2.0",
      "_view_name": "StyleView",
      "description_width": ""
     }
    },
    "372f9b4d9cec41dda7ea2086e7eb58c5": {
     "model_module": "@jupyter-widgets/controls",
     "model_module_version": "1.5.0",
     "model_name": "FloatProgressModel",
     "state": {
      "_dom_classes": [],
      "_model_module": "@jupyter-widgets/controls",
      "_model_module_version": "1.5.0",
      "_model_name": "FloatProgressModel",
      "_view_count": null,
      "_view_module": "@jupyter-widgets/controls",
      "_view_module_version": "1.5.0",
      "_view_name": "ProgressView",
      "bar_style": "success",
      "description": "",
      "description_tooltip": null,
      "layout": "IPY_MODEL_853aed3602de4193a95b07e548381957",
      "max": 5000,
      "min": 0,
      "orientation": "horizontal",
      "style": "IPY_MODEL_0058c683a52c4bdabf7590c22c3ca669",
      "value": 5000
     }
    },
    "376d38cc16774e6fb45908b805bd124e": {
     "model_module": "@jupyter-widgets/base",
     "model_module_version": "1.2.0",
     "model_name": "LayoutModel",
     "state": {
      "_model_module": "@jupyter-widgets/base",
      "_model_module_version": "1.2.0",
      "_model_name": "LayoutModel",
      "_view_count": null,
      "_view_module": "@jupyter-widgets/base",
      "_view_module_version": "1.2.0",
      "_view_name": "LayoutView",
      "align_content": null,
      "align_items": null,
      "align_self": null,
      "border": null,
      "bottom": null,
      "display": null,
      "flex": null,
      "flex_flow": null,
      "grid_area": null,
      "grid_auto_columns": null,
      "grid_auto_flow": null,
      "grid_auto_rows": null,
      "grid_column": null,
      "grid_gap": null,
      "grid_row": null,
      "grid_template_areas": null,
      "grid_template_columns": null,
      "grid_template_rows": null,
      "height": null,
      "justify_content": null,
      "justify_items": null,
      "left": null,
      "margin": null,
      "max_height": null,
      "max_width": null,
      "min_height": null,
      "min_width": null,
      "object_fit": null,
      "object_position": null,
      "order": null,
      "overflow": null,
      "overflow_x": null,
      "overflow_y": null,
      "padding": null,
      "right": null,
      "top": null,
      "visibility": null,
      "width": null
     }
    },
    "3797a4d490294bb1a67eb6a0da120d69": {
     "model_module": "@jupyter-widgets/controls",
     "model_module_version": "1.5.0",
     "model_name": "DescriptionStyleModel",
     "state": {
      "_model_module": "@jupyter-widgets/controls",
      "_model_module_version": "1.5.0",
      "_model_name": "DescriptionStyleModel",
      "_view_count": null,
      "_view_module": "@jupyter-widgets/base",
      "_view_module_version": "1.2.0",
      "_view_name": "StyleView",
      "description_width": ""
     }
    },
    "38b30cfc522444b3b9ddb80ae5d9f90e": {
     "model_module": "@jupyter-widgets/controls",
     "model_module_version": "1.5.0",
     "model_name": "DescriptionStyleModel",
     "state": {
      "_model_module": "@jupyter-widgets/controls",
      "_model_module_version": "1.5.0",
      "_model_name": "DescriptionStyleModel",
      "_view_count": null,
      "_view_module": "@jupyter-widgets/base",
      "_view_module_version": "1.2.0",
      "_view_name": "StyleView",
      "description_width": ""
     }
    },
    "39a15396d17c4f56ac915583bd465520": {
     "model_module": "@jupyter-widgets/controls",
     "model_module_version": "1.5.0",
     "model_name": "HTMLModel",
     "state": {
      "_dom_classes": [],
      "_model_module": "@jupyter-widgets/controls",
      "_model_module_version": "1.5.0",
      "_model_name": "HTMLModel",
      "_view_count": null,
      "_view_module": "@jupyter-widgets/controls",
      "_view_module_version": "1.5.0",
      "_view_name": "HTMLView",
      "description": "",
      "description_tooltip": null,
      "layout": "IPY_MODEL_8691cf4c546f465eba86d01648bb9617",
      "placeholder": "​",
      "style": "IPY_MODEL_076ab3056cca4a7dabd337b1be820c75",
      "value": "Downloading (…)lve/main/config.json: 100%"
     }
    },
    "3a2f6da974464ff1a753f6065834809b": {
     "model_module": "@jupyter-widgets/controls",
     "model_module_version": "1.5.0",
     "model_name": "ProgressStyleModel",
     "state": {
      "_model_module": "@jupyter-widgets/controls",
      "_model_module_version": "1.5.0",
      "_model_name": "ProgressStyleModel",
      "_view_count": null,
      "_view_module": "@jupyter-widgets/base",
      "_view_module_version": "1.2.0",
      "_view_name": "StyleView",
      "bar_color": null,
      "description_width": ""
     }
    },
    "3a76192fc9f240569147997180c8440a": {
     "model_module": "@jupyter-widgets/controls",
     "model_module_version": "1.5.0",
     "model_name": "DescriptionStyleModel",
     "state": {
      "_model_module": "@jupyter-widgets/controls",
      "_model_module_version": "1.5.0",
      "_model_name": "DescriptionStyleModel",
      "_view_count": null,
      "_view_module": "@jupyter-widgets/base",
      "_view_module_version": "1.2.0",
      "_view_name": "StyleView",
      "description_width": ""
     }
    },
    "3bfb5b7a31c844f1807d21704b45e197": {
     "model_module": "@jupyter-widgets/base",
     "model_module_version": "1.2.0",
     "model_name": "LayoutModel",
     "state": {
      "_model_module": "@jupyter-widgets/base",
      "_model_module_version": "1.2.0",
      "_model_name": "LayoutModel",
      "_view_count": null,
      "_view_module": "@jupyter-widgets/base",
      "_view_module_version": "1.2.0",
      "_view_name": "LayoutView",
      "align_content": null,
      "align_items": null,
      "align_self": null,
      "border": null,
      "bottom": null,
      "display": null,
      "flex": null,
      "flex_flow": null,
      "grid_area": null,
      "grid_auto_columns": null,
      "grid_auto_flow": null,
      "grid_auto_rows": null,
      "grid_column": null,
      "grid_gap": null,
      "grid_row": null,
      "grid_template_areas": null,
      "grid_template_columns": null,
      "grid_template_rows": null,
      "height": null,
      "justify_content": null,
      "justify_items": null,
      "left": null,
      "margin": null,
      "max_height": null,
      "max_width": null,
      "min_height": null,
      "min_width": null,
      "object_fit": null,
      "object_position": null,
      "order": null,
      "overflow": null,
      "overflow_x": null,
      "overflow_y": null,
      "padding": null,
      "right": null,
      "top": null,
      "visibility": null,
      "width": null
     }
    },
    "3ee9382bd248430b852a09ad80db96e3": {
     "model_module": "@jupyter-widgets/controls",
     "model_module_version": "1.5.0",
     "model_name": "ProgressStyleModel",
     "state": {
      "_model_module": "@jupyter-widgets/controls",
      "_model_module_version": "1.5.0",
      "_model_name": "ProgressStyleModel",
      "_view_count": null,
      "_view_module": "@jupyter-widgets/base",
      "_view_module_version": "1.2.0",
      "_view_name": "StyleView",
      "bar_color": null,
      "description_width": ""
     }
    },
    "4012517a560a4e639622e9e477df0ff3": {
     "model_module": "@jupyter-widgets/controls",
     "model_module_version": "1.5.0",
     "model_name": "ProgressStyleModel",
     "state": {
      "_model_module": "@jupyter-widgets/controls",
      "_model_module_version": "1.5.0",
      "_model_name": "ProgressStyleModel",
      "_view_count": null,
      "_view_module": "@jupyter-widgets/base",
      "_view_module_version": "1.2.0",
      "_view_name": "StyleView",
      "bar_color": null,
      "description_width": ""
     }
    },
    "40f11badb33b44dc8406e2a9b903681e": {
     "model_module": "@jupyter-widgets/base",
     "model_module_version": "1.2.0",
     "model_name": "LayoutModel",
     "state": {
      "_model_module": "@jupyter-widgets/base",
      "_model_module_version": "1.2.0",
      "_model_name": "LayoutModel",
      "_view_count": null,
      "_view_module": "@jupyter-widgets/base",
      "_view_module_version": "1.2.0",
      "_view_name": "LayoutView",
      "align_content": null,
      "align_items": null,
      "align_self": null,
      "border": null,
      "bottom": null,
      "display": null,
      "flex": null,
      "flex_flow": null,
      "grid_area": null,
      "grid_auto_columns": null,
      "grid_auto_flow": null,
      "grid_auto_rows": null,
      "grid_column": null,
      "grid_gap": null,
      "grid_row": null,
      "grid_template_areas": null,
      "grid_template_columns": null,
      "grid_template_rows": null,
      "height": null,
      "justify_content": null,
      "justify_items": null,
      "left": null,
      "margin": null,
      "max_height": null,
      "max_width": null,
      "min_height": null,
      "min_width": null,
      "object_fit": null,
      "object_position": null,
      "order": null,
      "overflow": null,
      "overflow_x": null,
      "overflow_y": null,
      "padding": null,
      "right": null,
      "top": null,
      "visibility": null,
      "width": null
     }
    },
    "4174e279310741c687ce2d0c3f3ea39f": {
     "model_module": "@jupyter-widgets/base",
     "model_module_version": "1.2.0",
     "model_name": "LayoutModel",
     "state": {
      "_model_module": "@jupyter-widgets/base",
      "_model_module_version": "1.2.0",
      "_model_name": "LayoutModel",
      "_view_count": null,
      "_view_module": "@jupyter-widgets/base",
      "_view_module_version": "1.2.0",
      "_view_name": "LayoutView",
      "align_content": null,
      "align_items": null,
      "align_self": null,
      "border": null,
      "bottom": null,
      "display": null,
      "flex": null,
      "flex_flow": null,
      "grid_area": null,
      "grid_auto_columns": null,
      "grid_auto_flow": null,
      "grid_auto_rows": null,
      "grid_column": null,
      "grid_gap": null,
      "grid_row": null,
      "grid_template_areas": null,
      "grid_template_columns": null,
      "grid_template_rows": null,
      "height": null,
      "justify_content": null,
      "justify_items": null,
      "left": null,
      "margin": null,
      "max_height": null,
      "max_width": null,
      "min_height": null,
      "min_width": null,
      "object_fit": null,
      "object_position": null,
      "order": null,
      "overflow": null,
      "overflow_x": null,
      "overflow_y": null,
      "padding": null,
      "right": null,
      "top": null,
      "visibility": null,
      "width": null
     }
    },
    "43abd27c8a6945f1b89b38cbec51cf9e": {
     "model_module": "@jupyter-widgets/controls",
     "model_module_version": "1.5.0",
     "model_name": "HTMLModel",
     "state": {
      "_dom_classes": [],
      "_model_module": "@jupyter-widgets/controls",
      "_model_module_version": "1.5.0",
      "_model_name": "HTMLModel",
      "_view_count": null,
      "_view_module": "@jupyter-widgets/controls",
      "_view_module_version": "1.5.0",
      "_view_name": "HTMLView",
      "description": "",
      "description_tooltip": null,
      "layout": "IPY_MODEL_dcdd96cf090e40f396786789b8c1f810",
      "placeholder": "​",
      "style": "IPY_MODEL_f8c007ee74f2474e8e6b5740b446de9e",
      "value": " 20000/20000 [00:17&lt;00:00, 1130.38 examples/s]"
     }
    },
    "448b8cbdd4374a8eaaf469c1e2fa08e5": {
     "model_module": "@jupyter-widgets/controls",
     "model_module_version": "1.5.0",
     "model_name": "ProgressStyleModel",
     "state": {
      "_model_module": "@jupyter-widgets/controls",
      "_model_module_version": "1.5.0",
      "_model_name": "ProgressStyleModel",
      "_view_count": null,
      "_view_module": "@jupyter-widgets/base",
      "_view_module_version": "1.2.0",
      "_view_name": "StyleView",
      "bar_color": null,
      "description_width": ""
     }
    },
    "4690fe908431459b8ebadcc3319a4779": {
     "model_module": "@jupyter-widgets/controls",
     "model_module_version": "1.5.0",
     "model_name": "HBoxModel",
     "state": {
      "_dom_classes": [],
      "_model_module": "@jupyter-widgets/controls",
      "_model_module_version": "1.5.0",
      "_model_name": "HBoxModel",
      "_view_count": null,
      "_view_module": "@jupyter-widgets/controls",
      "_view_module_version": "1.5.0",
      "_view_name": "HBoxView",
      "box_style": "",
      "children": [
       "IPY_MODEL_d8990f8004d646d0a5cdf61e8899ce1b",
       "IPY_MODEL_f34e31a97e6148c897eaffba3cb91785",
       "IPY_MODEL_43abd27c8a6945f1b89b38cbec51cf9e"
      ],
      "layout": "IPY_MODEL_18ee383a0bb144b680cd116e534d875b"
     }
    },
    "475da8cb10c44154aac9ba2406c65655": {
     "model_module": "@jupyter-widgets/controls",
     "model_module_version": "1.5.0",
     "model_name": "FloatProgressModel",
     "state": {
      "_dom_classes": [],
      "_model_module": "@jupyter-widgets/controls",
      "_model_module_version": "1.5.0",
      "_model_name": "FloatProgressModel",
      "_view_count": null,
      "_view_module": "@jupyter-widgets/controls",
      "_view_module_version": "1.5.0",
      "_view_name": "ProgressView",
      "bar_style": "success",
      "description": "",
      "description_tooltip": null,
      "layout": "IPY_MODEL_9a9324b9e69e413eab848b05c9ba6705",
      "max": 570,
      "min": 0,
      "orientation": "horizontal",
      "style": "IPY_MODEL_8d4d0fb6024248668faabae6302644fc",
      "value": 570
     }
    },
    "48716d410bed4984bdc1211d3ebc6506": {
     "model_module": "@jupyter-widgets/controls",
     "model_module_version": "1.5.0",
     "model_name": "ProgressStyleModel",
     "state": {
      "_model_module": "@jupyter-widgets/controls",
      "_model_module_version": "1.5.0",
      "_model_name": "ProgressStyleModel",
      "_view_count": null,
      "_view_module": "@jupyter-widgets/base",
      "_view_module_version": "1.2.0",
      "_view_name": "StyleView",
      "bar_color": null,
      "description_width": ""
     }
    },
    "48cb2ab421f443caaf4d981f7cc97b19": {
     "model_module": "@jupyter-widgets/base",
     "model_module_version": "1.2.0",
     "model_name": "LayoutModel",
     "state": {
      "_model_module": "@jupyter-widgets/base",
      "_model_module_version": "1.2.0",
      "_model_name": "LayoutModel",
      "_view_count": null,
      "_view_module": "@jupyter-widgets/base",
      "_view_module_version": "1.2.0",
      "_view_name": "LayoutView",
      "align_content": null,
      "align_items": null,
      "align_self": null,
      "border": null,
      "bottom": null,
      "display": null,
      "flex": null,
      "flex_flow": null,
      "grid_area": null,
      "grid_auto_columns": null,
      "grid_auto_flow": null,
      "grid_auto_rows": null,
      "grid_column": null,
      "grid_gap": null,
      "grid_row": null,
      "grid_template_areas": null,
      "grid_template_columns": null,
      "grid_template_rows": null,
      "height": null,
      "justify_content": null,
      "justify_items": null,
      "left": null,
      "margin": null,
      "max_height": null,
      "max_width": null,
      "min_height": null,
      "min_width": null,
      "object_fit": null,
      "object_position": null,
      "order": null,
      "overflow": null,
      "overflow_x": null,
      "overflow_y": null,
      "padding": null,
      "right": null,
      "top": null,
      "visibility": null,
      "width": null
     }
    },
    "4adb4d6a4c8a49cc892d4299ca09cf97": {
     "model_module": "@jupyter-widgets/controls",
     "model_module_version": "1.5.0",
     "model_name": "HTMLModel",
     "state": {
      "_dom_classes": [],
      "_model_module": "@jupyter-widgets/controls",
      "_model_module_version": "1.5.0",
      "_model_name": "HTMLModel",
      "_view_count": null,
      "_view_module": "@jupyter-widgets/controls",
      "_view_module_version": "1.5.0",
      "_view_name": "HTMLView",
      "description": "",
      "description_tooltip": null,
      "layout": "IPY_MODEL_2e650a0648a24e65817bd1a2b21f5684",
      "placeholder": "​",
      "style": "IPY_MODEL_64a04d8e59314ecab67bcf3e187646e0",
      "value": " 84.1M/84.1M [00:10&lt;00:00, 17.7MB/s]"
     }
    },
    "4d5aced82ae04fcabc8c003e96227631": {
     "model_module": "@jupyter-widgets/controls",
     "model_module_version": "1.5.0",
     "model_name": "HTMLModel",
     "state": {
      "_dom_classes": [],
      "_model_module": "@jupyter-widgets/controls",
      "_model_module_version": "1.5.0",
      "_model_name": "HTMLModel",
      "_view_count": null,
      "_view_module": "@jupyter-widgets/controls",
      "_view_module_version": "1.5.0",
      "_view_name": "HTMLView",
      "description": "",
      "description_tooltip": null,
      "layout": "IPY_MODEL_932ced69dabd4daea128e764fc9de592",
      "placeholder": "​",
      "style": "IPY_MODEL_36e63d03fe1d4c578a4ada6ccca5cb0f",
      "value": "Downloading metadata: 100%"
     }
    },
    "520de8fa407c4d37b6718a265ae095bc": {
     "model_module": "@jupyter-widgets/controls",
     "model_module_version": "1.5.0",
     "model_name": "DescriptionStyleModel",
     "state": {
      "_model_module": "@jupyter-widgets/controls",
      "_model_module_version": "1.5.0",
      "_model_name": "DescriptionStyleModel",
      "_view_count": null,
      "_view_module": "@jupyter-widgets/base",
      "_view_module_version": "1.2.0",
      "_view_name": "StyleView",
      "description_width": ""
     }
    },
    "5237a47686c643b98be95017c36939d0": {
     "model_module": "@jupyter-widgets/controls",
     "model_module_version": "1.5.0",
     "model_name": "ProgressStyleModel",
     "state": {
      "_model_module": "@jupyter-widgets/controls",
      "_model_module_version": "1.5.0",
      "_model_name": "ProgressStyleModel",
      "_view_count": null,
      "_view_module": "@jupyter-widgets/base",
      "_view_module_version": "1.2.0",
      "_view_name": "StyleView",
      "bar_color": null,
      "description_width": ""
     }
    },
    "524bde8ce7fd4a15b0302e75ed1eb0a1": {
     "model_module": "@jupyter-widgets/controls",
     "model_module_version": "1.5.0",
     "model_name": "HBoxModel",
     "state": {
      "_dom_classes": [],
      "_model_module": "@jupyter-widgets/controls",
      "_model_module_version": "1.5.0",
      "_model_name": "HBoxModel",
      "_view_count": null,
      "_view_module": "@jupyter-widgets/controls",
      "_view_module_version": "1.5.0",
      "_view_name": "HBoxView",
      "box_style": "",
      "children": [
       "IPY_MODEL_39a15396d17c4f56ac915583bd465520",
       "IPY_MODEL_475da8cb10c44154aac9ba2406c65655",
       "IPY_MODEL_5d7b6ca01c2a4ea995717ac49d5a75fe"
      ],
      "layout": "IPY_MODEL_7944ccb970454143b349facea4b99c3c"
     }
    },
    "54bcfba037dd4b84bc0a5411e12fd263": {
     "model_module": "@jupyter-widgets/controls",
     "model_module_version": "1.5.0",
     "model_name": "DescriptionStyleModel",
     "state": {
      "_model_module": "@jupyter-widgets/controls",
      "_model_module_version": "1.5.0",
      "_model_name": "DescriptionStyleModel",
      "_view_count": null,
      "_view_module": "@jupyter-widgets/base",
      "_view_module_version": "1.2.0",
      "_view_name": "StyleView",
      "description_width": ""
     }
    },
    "566909d9e830460e8d1a967323d2e2f8": {
     "model_module": "@jupyter-widgets/controls",
     "model_module_version": "1.5.0",
     "model_name": "HBoxModel",
     "state": {
      "_dom_classes": [],
      "_model_module": "@jupyter-widgets/controls",
      "_model_module_version": "1.5.0",
      "_model_name": "HBoxModel",
      "_view_count": null,
      "_view_module": "@jupyter-widgets/controls",
      "_view_module_version": "1.5.0",
      "_view_name": "HBoxView",
      "box_style": "",
      "children": [
       "IPY_MODEL_7110d36121104b20ae1bfa862439847c",
       "IPY_MODEL_372f9b4d9cec41dda7ea2086e7eb58c5",
       "IPY_MODEL_c2a65e921e5e4bd98aa8064d24929f26"
      ],
      "layout": "IPY_MODEL_e5d97be7d2544166a4a366c4e4a177eb"
     }
    },
    "579b3281a0c14b53936d1e87ff8b3514": {
     "model_module": "@jupyter-widgets/base",
     "model_module_version": "1.2.0",
     "model_name": "LayoutModel",
     "state": {
      "_model_module": "@jupyter-widgets/base",
      "_model_module_version": "1.2.0",
      "_model_name": "LayoutModel",
      "_view_count": null,
      "_view_module": "@jupyter-widgets/base",
      "_view_module_version": "1.2.0",
      "_view_name": "LayoutView",
      "align_content": null,
      "align_items": null,
      "align_self": null,
      "border": null,
      "bottom": null,
      "display": null,
      "flex": null,
      "flex_flow": null,
      "grid_area": null,
      "grid_auto_columns": null,
      "grid_auto_flow": null,
      "grid_auto_rows": null,
      "grid_column": null,
      "grid_gap": null,
      "grid_row": null,
      "grid_template_areas": null,
      "grid_template_columns": null,
      "grid_template_rows": null,
      "height": null,
      "justify_content": null,
      "justify_items": null,
      "left": null,
      "margin": null,
      "max_height": null,
      "max_width": null,
      "min_height": null,
      "min_width": null,
      "object_fit": null,
      "object_position": null,
      "order": null,
      "overflow": null,
      "overflow_x": null,
      "overflow_y": null,
      "padding": null,
      "right": null,
      "top": null,
      "visibility": null,
      "width": null
     }
    },
    "599000ff350e455e9df99cd1701b819b": {
     "model_module": "@jupyter-widgets/base",
     "model_module_version": "1.2.0",
     "model_name": "LayoutModel",
     "state": {
      "_model_module": "@jupyter-widgets/base",
      "_model_module_version": "1.2.0",
      "_model_name": "LayoutModel",
      "_view_count": null,
      "_view_module": "@jupyter-widgets/base",
      "_view_module_version": "1.2.0",
      "_view_name": "LayoutView",
      "align_content": null,
      "align_items": null,
      "align_self": null,
      "border": null,
      "bottom": null,
      "display": null,
      "flex": null,
      "flex_flow": null,
      "grid_area": null,
      "grid_auto_columns": null,
      "grid_auto_flow": null,
      "grid_auto_rows": null,
      "grid_column": null,
      "grid_gap": null,
      "grid_row": null,
      "grid_template_areas": null,
      "grid_template_columns": null,
      "grid_template_rows": null,
      "height": null,
      "justify_content": null,
      "justify_items": null,
      "left": null,
      "margin": null,
      "max_height": null,
      "max_width": null,
      "min_height": null,
      "min_width": null,
      "object_fit": null,
      "object_position": null,
      "order": null,
      "overflow": null,
      "overflow_x": null,
      "overflow_y": null,
      "padding": null,
      "right": null,
      "top": null,
      "visibility": null,
      "width": null
     }
    },
    "5d7b6ca01c2a4ea995717ac49d5a75fe": {
     "model_module": "@jupyter-widgets/controls",
     "model_module_version": "1.5.0",
     "model_name": "HTMLModel",
     "state": {
      "_dom_classes": [],
      "_model_module": "@jupyter-widgets/controls",
      "_model_module_version": "1.5.0",
      "_model_name": "HTMLModel",
      "_view_count": null,
      "_view_module": "@jupyter-widgets/controls",
      "_view_module_version": "1.5.0",
      "_view_name": "HTMLView",
      "description": "",
      "description_tooltip": null,
      "layout": "IPY_MODEL_050c0212a75e49e48e8971e887844fa8",
      "placeholder": "​",
      "style": "IPY_MODEL_29a471804db84fb7ae36d2ea77d0fd8a",
      "value": " 570/570 [00:00&lt;00:00, 35.8kB/s]"
     }
    },
    "60f769a2e6e94e22aa8e60d71fa11bd3": {
     "model_module": "@jupyter-widgets/controls",
     "model_module_version": "1.5.0",
     "model_name": "HBoxModel",
     "state": {
      "_dom_classes": [],
      "_model_module": "@jupyter-widgets/controls",
      "_model_module_version": "1.5.0",
      "_model_name": "HBoxModel",
      "_view_count": null,
      "_view_module": "@jupyter-widgets/controls",
      "_view_module_version": "1.5.0",
      "_view_name": "HBoxView",
      "box_style": "",
      "children": [
       "IPY_MODEL_08e5f11449a34acf8d72a90d34a167b4",
       "IPY_MODEL_da3c9c66856143c1b927adb48a31b023",
       "IPY_MODEL_e0d7377bbf494cd99f63724ade0c2441"
      ],
      "layout": "IPY_MODEL_95b7151a74684592b4b255b806029dfe"
     }
    },
    "61bb37d3773e4db0b7de2f25819b0109": {
     "model_module": "@jupyter-widgets/base",
     "model_module_version": "1.2.0",
     "model_name": "LayoutModel",
     "state": {
      "_model_module": "@jupyter-widgets/base",
      "_model_module_version": "1.2.0",
      "_model_name": "LayoutModel",
      "_view_count": null,
      "_view_module": "@jupyter-widgets/base",
      "_view_module_version": "1.2.0",
      "_view_name": "LayoutView",
      "align_content": null,
      "align_items": null,
      "align_self": null,
      "border": null,
      "bottom": null,
      "display": null,
      "flex": null,
      "flex_flow": null,
      "grid_area": null,
      "grid_auto_columns": null,
      "grid_auto_flow": null,
      "grid_auto_rows": null,
      "grid_column": null,
      "grid_gap": null,
      "grid_row": null,
      "grid_template_areas": null,
      "grid_template_columns": null,
      "grid_template_rows": null,
      "height": null,
      "justify_content": null,
      "justify_items": null,
      "left": null,
      "margin": null,
      "max_height": null,
      "max_width": null,
      "min_height": null,
      "min_width": null,
      "object_fit": null,
      "object_position": null,
      "order": null,
      "overflow": null,
      "overflow_x": null,
      "overflow_y": null,
      "padding": null,
      "right": null,
      "top": null,
      "visibility": null,
      "width": null
     }
    },
    "64a04d8e59314ecab67bcf3e187646e0": {
     "model_module": "@jupyter-widgets/controls",
     "model_module_version": "1.5.0",
     "model_name": "DescriptionStyleModel",
     "state": {
      "_model_module": "@jupyter-widgets/controls",
      "_model_module_version": "1.5.0",
      "_model_name": "DescriptionStyleModel",
      "_view_count": null,
      "_view_module": "@jupyter-widgets/base",
      "_view_module_version": "1.2.0",
      "_view_name": "StyleView",
      "description_width": ""
     }
    },
    "69fad7b76711474e8f269ed035ac09ae": {
     "model_module": "@jupyter-widgets/base",
     "model_module_version": "1.2.0",
     "model_name": "LayoutModel",
     "state": {
      "_model_module": "@jupyter-widgets/base",
      "_model_module_version": "1.2.0",
      "_model_name": "LayoutModel",
      "_view_count": null,
      "_view_module": "@jupyter-widgets/base",
      "_view_module_version": "1.2.0",
      "_view_name": "LayoutView",
      "align_content": null,
      "align_items": null,
      "align_self": null,
      "border": null,
      "bottom": null,
      "display": null,
      "flex": null,
      "flex_flow": null,
      "grid_area": null,
      "grid_auto_columns": null,
      "grid_auto_flow": null,
      "grid_auto_rows": null,
      "grid_column": null,
      "grid_gap": null,
      "grid_row": null,
      "grid_template_areas": null,
      "grid_template_columns": null,
      "grid_template_rows": null,
      "height": null,
      "justify_content": null,
      "justify_items": null,
      "left": null,
      "margin": null,
      "max_height": null,
      "max_width": null,
      "min_height": null,
      "min_width": null,
      "object_fit": null,
      "object_position": null,
      "order": null,
      "overflow": null,
      "overflow_x": null,
      "overflow_y": null,
      "padding": null,
      "right": null,
      "top": null,
      "visibility": null,
      "width": null
     }
    },
    "6b3b2c4aeb884db39c907346ba53bf43": {
     "model_module": "@jupyter-widgets/controls",
     "model_module_version": "1.5.0",
     "model_name": "HTMLModel",
     "state": {
      "_dom_classes": [],
      "_model_module": "@jupyter-widgets/controls",
      "_model_module_version": "1.5.0",
      "_model_name": "HTMLModel",
      "_view_count": null,
      "_view_module": "@jupyter-widgets/controls",
      "_view_module_version": "1.5.0",
      "_view_name": "HTMLView",
      "description": "",
      "description_tooltip": null,
      "layout": "IPY_MODEL_9e74c46442074f4882afe188af6cc8b7",
      "placeholder": "​",
      "style": "IPY_MODEL_d3507c5b8c6948c79c21e0b92409b9e1",
      "value": "Downloading data: 100%"
     }
    },
    "6ed5a78df66242bfa02157b86f72d2e2": {
     "model_module": "@jupyter-widgets/controls",
     "model_module_version": "1.5.0",
     "model_name": "FloatProgressModel",
     "state": {
      "_dom_classes": [],
      "_model_module": "@jupyter-widgets/controls",
      "_model_module_version": "1.5.0",
      "_model_name": "FloatProgressModel",
      "_view_count": null,
      "_view_module": "@jupyter-widgets/controls",
      "_view_module_version": "1.5.0",
      "_view_name": "ProgressView",
      "bar_style": "success",
      "description": "",
      "description_tooltip": null,
      "layout": "IPY_MODEL_4174e279310741c687ce2d0c3f3ea39f",
      "max": 50000,
      "min": 0,
      "orientation": "horizontal",
      "style": "IPY_MODEL_018df813a9b7468681cb5caccb7717d3",
      "value": 50000
     }
    },
    "706f123bcf084a17ba44834cacfb65ae": {
     "model_module": "@jupyter-widgets/base",
     "model_module_version": "1.2.0",
     "model_name": "LayoutModel",
     "state": {
      "_model_module": "@jupyter-widgets/base",
      "_model_module_version": "1.2.0",
      "_model_name": "LayoutModel",
      "_view_count": null,
      "_view_module": "@jupyter-widgets/base",
      "_view_module_version": "1.2.0",
      "_view_name": "LayoutView",
      "align_content": null,
      "align_items": null,
      "align_self": null,
      "border": null,
      "bottom": null,
      "display": null,
      "flex": null,
      "flex_flow": null,
      "grid_area": null,
      "grid_auto_columns": null,
      "grid_auto_flow": null,
      "grid_auto_rows": null,
      "grid_column": null,
      "grid_gap": null,
      "grid_row": null,
      "grid_template_areas": null,
      "grid_template_columns": null,
      "grid_template_rows": null,
      "height": null,
      "justify_content": null,
      "justify_items": null,
      "left": null,
      "margin": null,
      "max_height": null,
      "max_width": null,
      "min_height": null,
      "min_width": null,
      "object_fit": null,
      "object_position": null,
      "order": null,
      "overflow": null,
      "overflow_x": null,
      "overflow_y": null,
      "padding": null,
      "right": null,
      "top": null,
      "visibility": null,
      "width": null
     }
    },
    "7110d36121104b20ae1bfa862439847c": {
     "model_module": "@jupyter-widgets/controls",
     "model_module_version": "1.5.0",
     "model_name": "HTMLModel",
     "state": {
      "_dom_classes": [],
      "_model_module": "@jupyter-widgets/controls",
      "_model_module_version": "1.5.0",
      "_model_name": "HTMLModel",
      "_view_count": null,
      "_view_module": "@jupyter-widgets/controls",
      "_view_module_version": "1.5.0",
      "_view_name": "HTMLView",
      "description": "",
      "description_tooltip": null,
      "layout": "IPY_MODEL_100329b2a06a46028a876819b2988632",
      "placeholder": "​",
      "style": "IPY_MODEL_31c4ecc58a594b5cbc887a81b715dac6",
      "value": "Map: 100%"
     }
    },
    "736fb1fea0c344348e01ff74613b54d3": {
     "model_module": "@jupyter-widgets/controls",
     "model_module_version": "1.5.0",
     "model_name": "FloatProgressModel",
     "state": {
      "_dom_classes": [],
      "_model_module": "@jupyter-widgets/controls",
      "_model_module_version": "1.5.0",
      "_model_name": "FloatProgressModel",
      "_view_count": null,
      "_view_module": "@jupyter-widgets/controls",
      "_view_module_version": "1.5.0",
      "_view_name": "ProgressView",
      "bar_style": "success",
      "description": "",
      "description_tooltip": null,
      "layout": "IPY_MODEL_d7fae3bb3a7641fbac16ed9aaf2abb03",
      "max": 84125825,
      "min": 0,
      "orientation": "horizontal",
      "style": "IPY_MODEL_3ee9382bd248430b852a09ad80db96e3",
      "value": 84125825
     }
    },
    "739aa979dd3149bb95993129aed38693": {
     "model_module": "@jupyter-widgets/controls",
     "model_module_version": "1.5.0",
     "model_name": "HTMLModel",
     "state": {
      "_dom_classes": [],
      "_model_module": "@jupyter-widgets/controls",
      "_model_module_version": "1.5.0",
      "_model_name": "HTMLModel",
      "_view_count": null,
      "_view_module": "@jupyter-widgets/controls",
      "_view_module_version": "1.5.0",
      "_view_name": "HTMLView",
      "description": "",
      "description_tooltip": null,
      "layout": "IPY_MODEL_b9ea3c9e7beb40808328e9025a6bb676",
      "placeholder": "​",
      "style": "IPY_MODEL_f60675b387864afb869ce3795ae8cd32",
      "value": "Downloading readme: 100%"
     }
    },
    "7478752deb544484af78915d8a5af4a8": {
     "model_module": "@jupyter-widgets/base",
     "model_module_version": "1.2.0",
     "model_name": "LayoutModel",
     "state": {
      "_model_module": "@jupyter-widgets/base",
      "_model_module_version": "1.2.0",
      "_model_name": "LayoutModel",
      "_view_count": null,
      "_view_module": "@jupyter-widgets/base",
      "_view_module_version": "1.2.0",
      "_view_name": "LayoutView",
      "align_content": null,
      "align_items": null,
      "align_self": null,
      "border": null,
      "bottom": null,
      "display": null,
      "flex": null,
      "flex_flow": null,
      "grid_area": null,
      "grid_auto_columns": null,
      "grid_auto_flow": null,
      "grid_auto_rows": null,
      "grid_column": null,
      "grid_gap": null,
      "grid_row": null,
      "grid_template_areas": null,
      "grid_template_columns": null,
      "grid_template_rows": null,
      "height": null,
      "justify_content": null,
      "justify_items": null,
      "left": null,
      "margin": null,
      "max_height": null,
      "max_width": null,
      "min_height": null,
      "min_width": null,
      "object_fit": null,
      "object_position": null,
      "order": null,
      "overflow": null,
      "overflow_x": null,
      "overflow_y": null,
      "padding": null,
      "right": null,
      "top": null,
      "visibility": null,
      "width": null
     }
    },
    "74b986a9ddb347df82cf6e47634c6760": {
     "model_module": "@jupyter-widgets/controls",
     "model_module_version": "1.5.0",
     "model_name": "FloatProgressModel",
     "state": {
      "_dom_classes": [],
      "_model_module": "@jupyter-widgets/controls",
      "_model_module_version": "1.5.0",
      "_model_name": "FloatProgressModel",
      "_view_count": null,
      "_view_module": "@jupyter-widgets/controls",
      "_view_module_version": "1.5.0",
      "_view_name": "ProgressView",
      "bar_style": "success",
      "description": "",
      "description_tooltip": null,
      "layout": "IPY_MODEL_11f46e2b7cea4ed2b5df4d7347679df0",
      "max": 7590,
      "min": 0,
      "orientation": "horizontal",
      "style": "IPY_MODEL_bbde7eda964d4b37853666432bcc4538",
      "value": 7590
     }
    },
    "7694ff8f4aa64b79be0a85ca2a82a017": {
     "model_module": "@jupyter-widgets/controls",
     "model_module_version": "1.5.0",
     "model_name": "DescriptionStyleModel",
     "state": {
      "_model_module": "@jupyter-widgets/controls",
      "_model_module_version": "1.5.0",
      "_model_name": "DescriptionStyleModel",
      "_view_count": null,
      "_view_module": "@jupyter-widgets/base",
      "_view_module_version": "1.2.0",
      "_view_name": "StyleView",
      "description_width": ""
     }
    },
    "773a20bf297f4cd4beeddedce01e2356": {
     "model_module": "@jupyter-widgets/controls",
     "model_module_version": "1.5.0",
     "model_name": "DescriptionStyleModel",
     "state": {
      "_model_module": "@jupyter-widgets/controls",
      "_model_module_version": "1.5.0",
      "_model_name": "DescriptionStyleModel",
      "_view_count": null,
      "_view_module": "@jupyter-widgets/base",
      "_view_module_version": "1.2.0",
      "_view_name": "StyleView",
      "description_width": ""
     }
    },
    "77b0fa80a6f04a7a80ebc2a5a11f7943": {
     "model_module": "@jupyter-widgets/controls",
     "model_module_version": "1.5.0",
     "model_name": "ProgressStyleModel",
     "state": {
      "_model_module": "@jupyter-widgets/controls",
      "_model_module_version": "1.5.0",
      "_model_name": "ProgressStyleModel",
      "_view_count": null,
      "_view_module": "@jupyter-widgets/base",
      "_view_module_version": "1.2.0",
      "_view_name": "StyleView",
      "bar_color": null,
      "description_width": ""
     }
    },
    "77d57498063f47588eeb636f48e598fe": {
     "model_module": "@jupyter-widgets/controls",
     "model_module_version": "1.5.0",
     "model_name": "DescriptionStyleModel",
     "state": {
      "_model_module": "@jupyter-widgets/controls",
      "_model_module_version": "1.5.0",
      "_model_name": "DescriptionStyleModel",
      "_view_count": null,
      "_view_module": "@jupyter-widgets/base",
      "_view_module_version": "1.2.0",
      "_view_name": "StyleView",
      "description_width": ""
     }
    },
    "7944ccb970454143b349facea4b99c3c": {
     "model_module": "@jupyter-widgets/base",
     "model_module_version": "1.2.0",
     "model_name": "LayoutModel",
     "state": {
      "_model_module": "@jupyter-widgets/base",
      "_model_module_version": "1.2.0",
      "_model_name": "LayoutModel",
      "_view_count": null,
      "_view_module": "@jupyter-widgets/base",
      "_view_module_version": "1.2.0",
      "_view_name": "LayoutView",
      "align_content": null,
      "align_items": null,
      "align_self": null,
      "border": null,
      "bottom": null,
      "display": null,
      "flex": null,
      "flex_flow": null,
      "grid_area": null,
      "grid_auto_columns": null,
      "grid_auto_flow": null,
      "grid_auto_rows": null,
      "grid_column": null,
      "grid_gap": null,
      "grid_row": null,
      "grid_template_areas": null,
      "grid_template_columns": null,
      "grid_template_rows": null,
      "height": null,
      "justify_content": null,
      "justify_items": null,
      "left": null,
      "margin": null,
      "max_height": null,
      "max_width": null,
      "min_height": null,
      "min_width": null,
      "object_fit": null,
      "object_position": null,
      "order": null,
      "overflow": null,
      "overflow_x": null,
      "overflow_y": null,
      "padding": null,
      "right": null,
      "top": null,
      "visibility": null,
      "width": null
     }
    },
    "7db106772068439ca08582d24bc40b4b": {
     "model_module": "@jupyter-widgets/base",
     "model_module_version": "1.2.0",
     "model_name": "LayoutModel",
     "state": {
      "_model_module": "@jupyter-widgets/base",
      "_model_module_version": "1.2.0",
      "_model_name": "LayoutModel",
      "_view_count": null,
      "_view_module": "@jupyter-widgets/base",
      "_view_module_version": "1.2.0",
      "_view_name": "LayoutView",
      "align_content": null,
      "align_items": null,
      "align_self": null,
      "border": null,
      "bottom": null,
      "display": null,
      "flex": null,
      "flex_flow": null,
      "grid_area": null,
      "grid_auto_columns": null,
      "grid_auto_flow": null,
      "grid_auto_rows": null,
      "grid_column": null,
      "grid_gap": null,
      "grid_row": null,
      "grid_template_areas": null,
      "grid_template_columns": null,
      "grid_template_rows": null,
      "height": null,
      "justify_content": null,
      "justify_items": null,
      "left": null,
      "margin": null,
      "max_height": null,
      "max_width": null,
      "min_height": null,
      "min_width": null,
      "object_fit": null,
      "object_position": null,
      "order": null,
      "overflow": null,
      "overflow_x": null,
      "overflow_y": null,
      "padding": null,
      "right": null,
      "top": null,
      "visibility": null,
      "width": null
     }
    },
    "7f06b5f1574a4228877a9a90f4d17b4d": {
     "model_module": "@jupyter-widgets/controls",
     "model_module_version": "1.5.0",
     "model_name": "HTMLModel",
     "state": {
      "_dom_classes": [],
      "_model_module": "@jupyter-widgets/controls",
      "_model_module_version": "1.5.0",
      "_model_name": "HTMLModel",
      "_view_count": null,
      "_view_module": "@jupyter-widgets/controls",
      "_view_module_version": "1.5.0",
      "_view_name": "HTMLView",
      "description": "",
      "description_tooltip": null,
      "layout": "IPY_MODEL_40f11badb33b44dc8406e2a9b903681e",
      "placeholder": "​",
      "style": "IPY_MODEL_b6e058143347400fb74392e7944b5ed3",
      "value": "Generating unsupervised split: 100%"
     }
    },
    "80482003351d493490ab33f9a6c207d6": {
     "model_module": "@jupyter-widgets/base",
     "model_module_version": "1.2.0",
     "model_name": "LayoutModel",
     "state": {
      "_model_module": "@jupyter-widgets/base",
      "_model_module_version": "1.2.0",
      "_model_name": "LayoutModel",
      "_view_count": null,
      "_view_module": "@jupyter-widgets/base",
      "_view_module_version": "1.2.0",
      "_view_name": "LayoutView",
      "align_content": null,
      "align_items": null,
      "align_self": null,
      "border": null,
      "bottom": null,
      "display": null,
      "flex": null,
      "flex_flow": null,
      "grid_area": null,
      "grid_auto_columns": null,
      "grid_auto_flow": null,
      "grid_auto_rows": null,
      "grid_column": null,
      "grid_gap": null,
      "grid_row": null,
      "grid_template_areas": null,
      "grid_template_columns": null,
      "grid_template_rows": null,
      "height": null,
      "justify_content": null,
      "justify_items": null,
      "left": null,
      "margin": null,
      "max_height": null,
      "max_width": null,
      "min_height": null,
      "min_width": null,
      "object_fit": null,
      "object_position": null,
      "order": null,
      "overflow": null,
      "overflow_x": null,
      "overflow_y": null,
      "padding": null,
      "right": null,
      "top": null,
      "visibility": null,
      "width": null
     }
    },
    "809ca49c5f13482fa6d6f2d09534463f": {
     "model_module": "@jupyter-widgets/controls",
     "model_module_version": "1.5.0",
     "model_name": "DescriptionStyleModel",
     "state": {
      "_model_module": "@jupyter-widgets/controls",
      "_model_module_version": "1.5.0",
      "_model_name": "DescriptionStyleModel",
      "_view_count": null,
      "_view_module": "@jupyter-widgets/base",
      "_view_module_version": "1.2.0",
      "_view_name": "StyleView",
      "description_width": ""
     }
    },
    "83ae6670a78a4f70a82c1ee0b6b6fcbc": {
     "model_module": "@jupyter-widgets/controls",
     "model_module_version": "1.5.0",
     "model_name": "HTMLModel",
     "state": {
      "_dom_classes": [],
      "_model_module": "@jupyter-widgets/controls",
      "_model_module_version": "1.5.0",
      "_model_name": "HTMLModel",
      "_view_count": null,
      "_view_module": "@jupyter-widgets/controls",
      "_view_module_version": "1.5.0",
      "_view_name": "HTMLView",
      "description": "",
      "description_tooltip": null,
      "layout": "IPY_MODEL_154f39d6bf4a4f86be960183d9bf3bb9",
      "placeholder": "​",
      "style": "IPY_MODEL_3797a4d490294bb1a67eb6a0da120d69",
      "value": " 213k/213k [00:00&lt;00:00, 11.3MB/s]"
     }
    },
    "853aed3602de4193a95b07e548381957": {
     "model_module": "@jupyter-widgets/base",
     "model_module_version": "1.2.0",
     "model_name": "LayoutModel",
     "state": {
      "_model_module": "@jupyter-widgets/base",
      "_model_module_version": "1.2.0",
      "_model_name": "LayoutModel",
      "_view_count": null,
      "_view_module": "@jupyter-widgets/base",
      "_view_module_version": "1.2.0",
      "_view_name": "LayoutView",
      "align_content": null,
      "align_items": null,
      "align_self": null,
      "border": null,
      "bottom": null,
      "display": null,
      "flex": null,
      "flex_flow": null,
      "grid_area": null,
      "grid_auto_columns": null,
      "grid_auto_flow": null,
      "grid_auto_rows": null,
      "grid_column": null,
      "grid_gap": null,
      "grid_row": null,
      "grid_template_areas": null,
      "grid_template_columns": null,
      "grid_template_rows": null,
      "height": null,
      "justify_content": null,
      "justify_items": null,
      "left": null,
      "margin": null,
      "max_height": null,
      "max_width": null,
      "min_height": null,
      "min_width": null,
      "object_fit": null,
      "object_position": null,
      "order": null,
      "overflow": null,
      "overflow_x": null,
      "overflow_y": null,
      "padding": null,
      "right": null,
      "top": null,
      "visibility": null,
      "width": null
     }
    },
    "8683e16c9870492cac2948aeb11a12e3": {
     "model_module": "@jupyter-widgets/base",
     "model_module_version": "1.2.0",
     "model_name": "LayoutModel",
     "state": {
      "_model_module": "@jupyter-widgets/base",
      "_model_module_version": "1.2.0",
      "_model_name": "LayoutModel",
      "_view_count": null,
      "_view_module": "@jupyter-widgets/base",
      "_view_module_version": "1.2.0",
      "_view_name": "LayoutView",
      "align_content": null,
      "align_items": null,
      "align_self": null,
      "border": null,
      "bottom": null,
      "display": null,
      "flex": null,
      "flex_flow": null,
      "grid_area": null,
      "grid_auto_columns": null,
      "grid_auto_flow": null,
      "grid_auto_rows": null,
      "grid_column": null,
      "grid_gap": null,
      "grid_row": null,
      "grid_template_areas": null,
      "grid_template_columns": null,
      "grid_template_rows": null,
      "height": null,
      "justify_content": null,
      "justify_items": null,
      "left": null,
      "margin": null,
      "max_height": null,
      "max_width": null,
      "min_height": null,
      "min_width": null,
      "object_fit": null,
      "object_position": null,
      "order": null,
      "overflow": null,
      "overflow_x": null,
      "overflow_y": null,
      "padding": null,
      "right": null,
      "top": null,
      "visibility": null,
      "width": null
     }
    },
    "8691cf4c546f465eba86d01648bb9617": {
     "model_module": "@jupyter-widgets/base",
     "model_module_version": "1.2.0",
     "model_name": "LayoutModel",
     "state": {
      "_model_module": "@jupyter-widgets/base",
      "_model_module_version": "1.2.0",
      "_model_name": "LayoutModel",
      "_view_count": null,
      "_view_module": "@jupyter-widgets/base",
      "_view_module_version": "1.2.0",
      "_view_name": "LayoutView",
      "align_content": null,
      "align_items": null,
      "align_self": null,
      "border": null,
      "bottom": null,
      "display": null,
      "flex": null,
      "flex_flow": null,
      "grid_area": null,
      "grid_auto_columns": null,
      "grid_auto_flow": null,
      "grid_auto_rows": null,
      "grid_column": null,
      "grid_gap": null,
      "grid_row": null,
      "grid_template_areas": null,
      "grid_template_columns": null,
      "grid_template_rows": null,
      "height": null,
      "justify_content": null,
      "justify_items": null,
      "left": null,
      "margin": null,
      "max_height": null,
      "max_width": null,
      "min_height": null,
      "min_width": null,
      "object_fit": null,
      "object_position": null,
      "order": null,
      "overflow": null,
      "overflow_x": null,
      "overflow_y": null,
      "padding": null,
      "right": null,
      "top": null,
      "visibility": null,
      "width": null
     }
    },
    "8d4d0fb6024248668faabae6302644fc": {
     "model_module": "@jupyter-widgets/controls",
     "model_module_version": "1.5.0",
     "model_name": "ProgressStyleModel",
     "state": {
      "_model_module": "@jupyter-widgets/controls",
      "_model_module_version": "1.5.0",
      "_model_name": "ProgressStyleModel",
      "_view_count": null,
      "_view_module": "@jupyter-widgets/base",
      "_view_module_version": "1.2.0",
      "_view_name": "StyleView",
      "bar_color": null,
      "description_width": ""
     }
    },
    "8e079663fc70447f9dabf8d7c3325ded": {
     "model_module": "@jupyter-widgets/controls",
     "model_module_version": "1.5.0",
     "model_name": "DescriptionStyleModel",
     "state": {
      "_model_module": "@jupyter-widgets/controls",
      "_model_module_version": "1.5.0",
      "_model_name": "DescriptionStyleModel",
      "_view_count": null,
      "_view_module": "@jupyter-widgets/base",
      "_view_module_version": "1.2.0",
      "_view_name": "StyleView",
      "description_width": ""
     }
    },
    "8e24cf6f96d6426abd3ea50ae249e069": {
     "model_module": "@jupyter-widgets/controls",
     "model_module_version": "1.5.0",
     "model_name": "HBoxModel",
     "state": {
      "_dom_classes": [],
      "_model_module": "@jupyter-widgets/controls",
      "_model_module_version": "1.5.0",
      "_model_name": "HBoxModel",
      "_view_count": null,
      "_view_module": "@jupyter-widgets/controls",
      "_view_module_version": "1.5.0",
      "_view_name": "HBoxView",
      "box_style": "",
      "children": [
       "IPY_MODEL_4d5aced82ae04fcabc8c003e96227631",
       "IPY_MODEL_2dc52e8da53742e3be26571cbae54f3b",
       "IPY_MODEL_8f6e821b3c77400ca238ef735fc69fb7"
      ],
      "layout": "IPY_MODEL_579b3281a0c14b53936d1e87ff8b3514"
     }
    },
    "8f6e821b3c77400ca238ef735fc69fb7": {
     "model_module": "@jupyter-widgets/controls",
     "model_module_version": "1.5.0",
     "model_name": "HTMLModel",
     "state": {
      "_dom_classes": [],
      "_model_module": "@jupyter-widgets/controls",
      "_model_module_version": "1.5.0",
      "_model_name": "HTMLModel",
      "_view_count": null,
      "_view_module": "@jupyter-widgets/controls",
      "_view_module_version": "1.5.0",
      "_view_name": "HTMLView",
      "description": "",
      "description_tooltip": null,
      "layout": "IPY_MODEL_cc59efcb0eb24576b401c6932db825fe",
      "placeholder": "​",
      "style": "IPY_MODEL_38b30cfc522444b3b9ddb80ae5d9f90e",
      "value": " 2.17k/2.17k [00:00&lt;00:00, 37.8kB/s]"
     }
    },
    "932ced69dabd4daea128e764fc9de592": {
     "model_module": "@jupyter-widgets/base",
     "model_module_version": "1.2.0",
     "model_name": "LayoutModel",
     "state": {
      "_model_module": "@jupyter-widgets/base",
      "_model_module_version": "1.2.0",
      "_model_name": "LayoutModel",
      "_view_count": null,
      "_view_module": "@jupyter-widgets/base",
      "_view_module_version": "1.2.0",
      "_view_name": "LayoutView",
      "align_content": null,
      "align_items": null,
      "align_self": null,
      "border": null,
      "bottom": null,
      "display": null,
      "flex": null,
      "flex_flow": null,
      "grid_area": null,
      "grid_auto_columns": null,
      "grid_auto_flow": null,
      "grid_auto_rows": null,
      "grid_column": null,
      "grid_gap": null,
      "grid_row": null,
      "grid_template_areas": null,
      "grid_template_columns": null,
      "grid_template_rows": null,
      "height": null,
      "justify_content": null,
      "justify_items": null,
      "left": null,
      "margin": null,
      "max_height": null,
      "max_width": null,
      "min_height": null,
      "min_width": null,
      "object_fit": null,
      "object_position": null,
      "order": null,
      "overflow": null,
      "overflow_x": null,
      "overflow_y": null,
      "padding": null,
      "right": null,
      "top": null,
      "visibility": null,
      "width": null
     }
    },
    "940db2379bac42ceaa3739b1c631ec0b": {
     "model_module": "@jupyter-widgets/controls",
     "model_module_version": "1.5.0",
     "model_name": "HTMLModel",
     "state": {
      "_dom_classes": [],
      "_model_module": "@jupyter-widgets/controls",
      "_model_module_version": "1.5.0",
      "_model_name": "HTMLModel",
      "_view_count": null,
      "_view_module": "@jupyter-widgets/controls",
      "_view_module_version": "1.5.0",
      "_view_name": "HTMLView",
      "description": "",
      "description_tooltip": null,
      "layout": "IPY_MODEL_e09478c82d2b43dba4fc488ca80102ae",
      "placeholder": "​",
      "style": "IPY_MODEL_809ca49c5f13482fa6d6f2d09534463f",
      "value": "Map: 100%"
     }
    },
    "94450ee0f4664fd39785fe7af984544f": {
     "model_module": "@jupyter-widgets/controls",
     "model_module_version": "1.5.0",
     "model_name": "FloatProgressModel",
     "state": {
      "_dom_classes": [],
      "_model_module": "@jupyter-widgets/controls",
      "_model_module_version": "1.5.0",
      "_model_name": "FloatProgressModel",
      "_view_count": null,
      "_view_module": "@jupyter-widgets/controls",
      "_view_module_version": "1.5.0",
      "_view_name": "ProgressView",
      "bar_style": "success",
      "description": "",
      "description_tooltip": null,
      "layout": "IPY_MODEL_bae10d0cbbcc44809fa15faf5eda3283",
      "max": 25000,
      "min": 0,
      "orientation": "horizontal",
      "style": "IPY_MODEL_4012517a560a4e639622e9e477df0ff3",
      "value": 25000
     }
    },
    "95b7151a74684592b4b255b806029dfe": {
     "model_module": "@jupyter-widgets/base",
     "model_module_version": "1.2.0",
     "model_name": "LayoutModel",
     "state": {
      "_model_module": "@jupyter-widgets/base",
      "_model_module_version": "1.2.0",
      "_model_name": "LayoutModel",
      "_view_count": null,
      "_view_module": "@jupyter-widgets/base",
      "_view_module_version": "1.2.0",
      "_view_name": "LayoutView",
      "align_content": null,
      "align_items": null,
      "align_self": null,
      "border": null,
      "bottom": null,
      "display": null,
      "flex": null,
      "flex_flow": null,
      "grid_area": null,
      "grid_auto_columns": null,
      "grid_auto_flow": null,
      "grid_auto_rows": null,
      "grid_column": null,
      "grid_gap": null,
      "grid_row": null,
      "grid_template_areas": null,
      "grid_template_columns": null,
      "grid_template_rows": null,
      "height": null,
      "justify_content": null,
      "justify_items": null,
      "left": null,
      "margin": null,
      "max_height": null,
      "max_width": null,
      "min_height": null,
      "min_width": null,
      "object_fit": null,
      "object_position": null,
      "order": null,
      "overflow": null,
      "overflow_x": null,
      "overflow_y": null,
      "padding": null,
      "right": null,
      "top": null,
      "visibility": null,
      "width": null
     }
    },
    "97b6f28966f746e298654a2063a46da5": {
     "model_module": "@jupyter-widgets/controls",
     "model_module_version": "1.5.0",
     "model_name": "HBoxModel",
     "state": {
      "_dom_classes": [],
      "_model_module": "@jupyter-widgets/controls",
      "_model_module_version": "1.5.0",
      "_model_name": "HBoxModel",
      "_view_count": null,
      "_view_module": "@jupyter-widgets/controls",
      "_view_module_version": "1.5.0",
      "_view_name": "HBoxView",
      "box_style": "",
      "children": [
       "IPY_MODEL_36835a1102aa4908acf46b53ac55e55d",
       "IPY_MODEL_1fda06a502c648718a4711b35c456c45",
       "IPY_MODEL_a95beb009b614d158359455450b84612"
      ],
      "layout": "IPY_MODEL_350a2e0caf4d48dc925d374a863bb2b5"
     }
    },
    "98e6d29a919d40be9eec2b57a3580993": {
     "model_module": "@jupyter-widgets/base",
     "model_module_version": "1.2.0",
     "model_name": "LayoutModel",
     "state": {
      "_model_module": "@jupyter-widgets/base",
      "_model_module_version": "1.2.0",
      "_model_name": "LayoutModel",
      "_view_count": null,
      "_view_module": "@jupyter-widgets/base",
      "_view_module_version": "1.2.0",
      "_view_name": "LayoutView",
      "align_content": null,
      "align_items": null,
      "align_self": null,
      "border": null,
      "bottom": null,
      "display": null,
      "flex": null,
      "flex_flow": null,
      "grid_area": null,
      "grid_auto_columns": null,
      "grid_auto_flow": null,
      "grid_auto_rows": null,
      "grid_column": null,
      "grid_gap": null,
      "grid_row": null,
      "grid_template_areas": null,
      "grid_template_columns": null,
      "grid_template_rows": null,
      "height": null,
      "justify_content": null,
      "justify_items": null,
      "left": null,
      "margin": null,
      "max_height": null,
      "max_width": null,
      "min_height": null,
      "min_width": null,
      "object_fit": null,
      "object_position": null,
      "order": null,
      "overflow": null,
      "overflow_x": null,
      "overflow_y": null,
      "padding": null,
      "right": null,
      "top": null,
      "visibility": null,
      "width": null
     }
    },
    "9a9324b9e69e413eab848b05c9ba6705": {
     "model_module": "@jupyter-widgets/base",
     "model_module_version": "1.2.0",
     "model_name": "LayoutModel",
     "state": {
      "_model_module": "@jupyter-widgets/base",
      "_model_module_version": "1.2.0",
      "_model_name": "LayoutModel",
      "_view_count": null,
      "_view_module": "@jupyter-widgets/base",
      "_view_module_version": "1.2.0",
      "_view_name": "LayoutView",
      "align_content": null,
      "align_items": null,
      "align_self": null,
      "border": null,
      "bottom": null,
      "display": null,
      "flex": null,
      "flex_flow": null,
      "grid_area": null,
      "grid_auto_columns": null,
      "grid_auto_flow": null,
      "grid_auto_rows": null,
      "grid_column": null,
      "grid_gap": null,
      "grid_row": null,
      "grid_template_areas": null,
      "grid_template_columns": null,
      "grid_template_rows": null,
      "height": null,
      "justify_content": null,
      "justify_items": null,
      "left": null,
      "margin": null,
      "max_height": null,
      "max_width": null,
      "min_height": null,
      "min_width": null,
      "object_fit": null,
      "object_position": null,
      "order": null,
      "overflow": null,
      "overflow_x": null,
      "overflow_y": null,
      "padding": null,
      "right": null,
      "top": null,
      "visibility": null,
      "width": null
     }
    },
    "9c37ebce71194c198cf56fe1936ad9b2": {
     "model_module": "@jupyter-widgets/controls",
     "model_module_version": "1.5.0",
     "model_name": "HBoxModel",
     "state": {
      "_dom_classes": [],
      "_model_module": "@jupyter-widgets/controls",
      "_model_module_version": "1.5.0",
      "_model_name": "HBoxModel",
      "_view_count": null,
      "_view_module": "@jupyter-widgets/controls",
      "_view_module_version": "1.5.0",
      "_view_name": "HBoxView",
      "box_style": "",
      "children": [
       "IPY_MODEL_cea6b2e6414b42bc913bdb7823264c1d",
       "IPY_MODEL_a1a505b18cdc46a3a1e342387b809961",
       "IPY_MODEL_224956793e2840e4b8e7c55558ea720c"
      ],
      "layout": "IPY_MODEL_a2bbe0c10e06414e9566392c6b6c2c88"
     }
    },
    "9e74c46442074f4882afe188af6cc8b7": {
     "model_module": "@jupyter-widgets/base",
     "model_module_version": "1.2.0",
     "model_name": "LayoutModel",
     "state": {
      "_model_module": "@jupyter-widgets/base",
      "_model_module_version": "1.2.0",
      "_model_name": "LayoutModel",
      "_view_count": null,
      "_view_module": "@jupyter-widgets/base",
      "_view_module_version": "1.2.0",
      "_view_name": "LayoutView",
      "align_content": null,
      "align_items": null,
      "align_self": null,
      "border": null,
      "bottom": null,
      "display": null,
      "flex": null,
      "flex_flow": null,
      "grid_area": null,
      "grid_auto_columns": null,
      "grid_auto_flow": null,
      "grid_auto_rows": null,
      "grid_column": null,
      "grid_gap": null,
      "grid_row": null,
      "grid_template_areas": null,
      "grid_template_columns": null,
      "grid_template_rows": null,
      "height": null,
      "justify_content": null,
      "justify_items": null,
      "left": null,
      "margin": null,
      "max_height": null,
      "max_width": null,
      "min_height": null,
      "min_width": null,
      "object_fit": null,
      "object_position": null,
      "order": null,
      "overflow": null,
      "overflow_x": null,
      "overflow_y": null,
      "padding": null,
      "right": null,
      "top": null,
      "visibility": null,
      "width": null
     }
    },
    "9ec5f07613534d2fb6e51868696e38fb": {
     "model_module": "@jupyter-widgets/base",
     "model_module_version": "1.2.0",
     "model_name": "LayoutModel",
     "state": {
      "_model_module": "@jupyter-widgets/base",
      "_model_module_version": "1.2.0",
      "_model_name": "LayoutModel",
      "_view_count": null,
      "_view_module": "@jupyter-widgets/base",
      "_view_module_version": "1.2.0",
      "_view_name": "LayoutView",
      "align_content": null,
      "align_items": null,
      "align_self": null,
      "border": null,
      "bottom": null,
      "display": null,
      "flex": null,
      "flex_flow": null,
      "grid_area": null,
      "grid_auto_columns": null,
      "grid_auto_flow": null,
      "grid_auto_rows": null,
      "grid_column": null,
      "grid_gap": null,
      "grid_row": null,
      "grid_template_areas": null,
      "grid_template_columns": null,
      "grid_template_rows": null,
      "height": null,
      "justify_content": null,
      "justify_items": null,
      "left": null,
      "margin": null,
      "max_height": null,
      "max_width": null,
      "min_height": null,
      "min_width": null,
      "object_fit": null,
      "object_position": null,
      "order": null,
      "overflow": null,
      "overflow_x": null,
      "overflow_y": null,
      "padding": null,
      "right": null,
      "top": null,
      "visibility": null,
      "width": null
     }
    },
    "a02b8397e2eb4345ba13b14326b1a193": {
     "model_module": "@jupyter-widgets/base",
     "model_module_version": "1.2.0",
     "model_name": "LayoutModel",
     "state": {
      "_model_module": "@jupyter-widgets/base",
      "_model_module_version": "1.2.0",
      "_model_name": "LayoutModel",
      "_view_count": null,
      "_view_module": "@jupyter-widgets/base",
      "_view_module_version": "1.2.0",
      "_view_name": "LayoutView",
      "align_content": null,
      "align_items": null,
      "align_self": null,
      "border": null,
      "bottom": null,
      "display": null,
      "flex": null,
      "flex_flow": null,
      "grid_area": null,
      "grid_auto_columns": null,
      "grid_auto_flow": null,
      "grid_auto_rows": null,
      "grid_column": null,
      "grid_gap": null,
      "grid_row": null,
      "grid_template_areas": null,
      "grid_template_columns": null,
      "grid_template_rows": null,
      "height": null,
      "justify_content": null,
      "justify_items": null,
      "left": null,
      "margin": null,
      "max_height": null,
      "max_width": null,
      "min_height": null,
      "min_width": null,
      "object_fit": null,
      "object_position": null,
      "order": null,
      "overflow": null,
      "overflow_x": null,
      "overflow_y": null,
      "padding": null,
      "right": null,
      "top": null,
      "visibility": null,
      "width": null
     }
    },
    "a05bc210c5b4416ea5c6296fcbbb56d1": {
     "model_module": "@jupyter-widgets/controls",
     "model_module_version": "1.5.0",
     "model_name": "FloatProgressModel",
     "state": {
      "_dom_classes": [],
      "_model_module": "@jupyter-widgets/controls",
      "_model_module_version": "1.5.0",
      "_model_name": "FloatProgressModel",
      "_view_count": null,
      "_view_module": "@jupyter-widgets/controls",
      "_view_module_version": "1.5.0",
      "_view_name": "ProgressView",
      "bar_style": "success",
      "description": "",
      "description_tooltip": null,
      "layout": "IPY_MODEL_3bfb5b7a31c844f1807d21704b45e197",
      "max": 213450,
      "min": 0,
      "orientation": "horizontal",
      "style": "IPY_MODEL_ed1eae8886da42a790b771c97bb9a09a",
      "value": 213450
     }
    },
    "a1a505b18cdc46a3a1e342387b809961": {
     "model_module": "@jupyter-widgets/controls",
     "model_module_version": "1.5.0",
     "model_name": "FloatProgressModel",
     "state": {
      "_dom_classes": [],
      "_model_module": "@jupyter-widgets/controls",
      "_model_module_version": "1.5.0",
      "_model_name": "FloatProgressModel",
      "_view_count": null,
      "_view_module": "@jupyter-widgets/controls",
      "_view_module_version": "1.5.0",
      "_view_name": "ProgressView",
      "bar_style": "success",
      "description": "",
      "description_tooltip": null,
      "layout": "IPY_MODEL_a02b8397e2eb4345ba13b14326b1a193",
      "max": 4314,
      "min": 0,
      "orientation": "horizontal",
      "style": "IPY_MODEL_77b0fa80a6f04a7a80ebc2a5a11f7943",
      "value": 4314
     }
    },
    "a2bbe0c10e06414e9566392c6b6c2c88": {
     "model_module": "@jupyter-widgets/base",
     "model_module_version": "1.2.0",
     "model_name": "LayoutModel",
     "state": {
      "_model_module": "@jupyter-widgets/base",
      "_model_module_version": "1.2.0",
      "_model_name": "LayoutModel",
      "_view_count": null,
      "_view_module": "@jupyter-widgets/base",
      "_view_module_version": "1.2.0",
      "_view_name": "LayoutView",
      "align_content": null,
      "align_items": null,
      "align_self": null,
      "border": null,
      "bottom": null,
      "display": null,
      "flex": null,
      "flex_flow": null,
      "grid_area": null,
      "grid_auto_columns": null,
      "grid_auto_flow": null,
      "grid_auto_rows": null,
      "grid_column": null,
      "grid_gap": null,
      "grid_row": null,
      "grid_template_areas": null,
      "grid_template_columns": null,
      "grid_template_rows": null,
      "height": null,
      "justify_content": null,
      "justify_items": null,
      "left": null,
      "margin": null,
      "max_height": null,
      "max_width": null,
      "min_height": null,
      "min_width": null,
      "object_fit": null,
      "object_position": null,
      "order": null,
      "overflow": null,
      "overflow_x": null,
      "overflow_y": null,
      "padding": null,
      "right": null,
      "top": null,
      "visibility": null,
      "width": null
     }
    },
    "a55f5677bf1942a7a15cfac955e54b05": {
     "model_module": "@jupyter-widgets/controls",
     "model_module_version": "1.5.0",
     "model_name": "DescriptionStyleModel",
     "state": {
      "_model_module": "@jupyter-widgets/controls",
      "_model_module_version": "1.5.0",
      "_model_name": "DescriptionStyleModel",
      "_view_count": null,
      "_view_module": "@jupyter-widgets/base",
      "_view_module_version": "1.2.0",
      "_view_name": "StyleView",
      "description_width": ""
     }
    },
    "a597a266870a418aaf7037a10d9366c1": {
     "model_module": "@jupyter-widgets/controls",
     "model_module_version": "1.5.0",
     "model_name": "DescriptionStyleModel",
     "state": {
      "_model_module": "@jupyter-widgets/controls",
      "_model_module_version": "1.5.0",
      "_model_name": "DescriptionStyleModel",
      "_view_count": null,
      "_view_module": "@jupyter-widgets/base",
      "_view_module_version": "1.2.0",
      "_view_name": "StyleView",
      "description_width": ""
     }
    },
    "a95beb009b614d158359455450b84612": {
     "model_module": "@jupyter-widgets/controls",
     "model_module_version": "1.5.0",
     "model_name": "HTMLModel",
     "state": {
      "_dom_classes": [],
      "_model_module": "@jupyter-widgets/controls",
      "_model_module_version": "1.5.0",
      "_model_name": "HTMLModel",
      "_view_count": null,
      "_view_module": "@jupyter-widgets/controls",
      "_view_module_version": "1.5.0",
      "_view_name": "HTMLView",
      "description": "",
      "description_tooltip": null,
      "layout": "IPY_MODEL_7db106772068439ca08582d24bc40b4b",
      "placeholder": "​",
      "style": "IPY_MODEL_3a76192fc9f240569147997180c8440a",
      "value": " 436k/436k [00:00&lt;00:00, 15.6MB/s]"
     }
    },
    "a987e9858891419fa72f51ff5ce4a14f": {
     "model_module": "@jupyter-widgets/controls",
     "model_module_version": "1.5.0",
     "model_name": "HBoxModel",
     "state": {
      "_dom_classes": [],
      "_model_module": "@jupyter-widgets/controls",
      "_model_module_version": "1.5.0",
      "_model_name": "HBoxModel",
      "_view_count": null,
      "_view_module": "@jupyter-widgets/controls",
      "_view_module_version": "1.5.0",
      "_view_name": "HBoxView",
      "box_style": "",
      "children": [
       "IPY_MODEL_940db2379bac42ceaa3739b1c631ec0b",
       "IPY_MODEL_b050e51523ae4814ab40854a3a9fadff",
       "IPY_MODEL_fed44a08443e4c9aa11702cdee20a334"
      ],
      "layout": "IPY_MODEL_80482003351d493490ab33f9a6c207d6"
     }
    },
    "ab729159af2c4241a5b73140dbd4763f": {
     "model_module": "@jupyter-widgets/base",
     "model_module_version": "1.2.0",
     "model_name": "LayoutModel",
     "state": {
      "_model_module": "@jupyter-widgets/base",
      "_model_module_version": "1.2.0",
      "_model_name": "LayoutModel",
      "_view_count": null,
      "_view_module": "@jupyter-widgets/base",
      "_view_module_version": "1.2.0",
      "_view_name": "LayoutView",
      "align_content": null,
      "align_items": null,
      "align_self": null,
      "border": null,
      "bottom": null,
      "display": null,
      "flex": null,
      "flex_flow": null,
      "grid_area": null,
      "grid_auto_columns": null,
      "grid_auto_flow": null,
      "grid_auto_rows": null,
      "grid_column": null,
      "grid_gap": null,
      "grid_row": null,
      "grid_template_areas": null,
      "grid_template_columns": null,
      "grid_template_rows": null,
      "height": null,
      "justify_content": null,
      "justify_items": null,
      "left": null,
      "margin": null,
      "max_height": null,
      "max_width": null,
      "min_height": null,
      "min_width": null,
      "object_fit": null,
      "object_position": null,
      "order": null,
      "overflow": null,
      "overflow_x": null,
      "overflow_y": null,
      "padding": null,
      "right": null,
      "top": null,
      "visibility": null,
      "width": null
     }
    },
    "ac4de9b1d709439f9492358ffc7bbc0d": {
     "model_module": "@jupyter-widgets/controls",
     "model_module_version": "1.5.0",
     "model_name": "ProgressStyleModel",
     "state": {
      "_model_module": "@jupyter-widgets/controls",
      "_model_module_version": "1.5.0",
      "_model_name": "ProgressStyleModel",
      "_view_count": null,
      "_view_module": "@jupyter-widgets/base",
      "_view_module_version": "1.2.0",
      "_view_name": "StyleView",
      "bar_color": null,
      "description_width": ""
     }
    },
    "adc2bbec39c248d590d6266b90977f41": {
     "model_module": "@jupyter-widgets/base",
     "model_module_version": "1.2.0",
     "model_name": "LayoutModel",
     "state": {
      "_model_module": "@jupyter-widgets/base",
      "_model_module_version": "1.2.0",
      "_model_name": "LayoutModel",
      "_view_count": null,
      "_view_module": "@jupyter-widgets/base",
      "_view_module_version": "1.2.0",
      "_view_name": "LayoutView",
      "align_content": null,
      "align_items": null,
      "align_self": null,
      "border": null,
      "bottom": null,
      "display": null,
      "flex": null,
      "flex_flow": null,
      "grid_area": null,
      "grid_auto_columns": null,
      "grid_auto_flow": null,
      "grid_auto_rows": null,
      "grid_column": null,
      "grid_gap": null,
      "grid_row": null,
      "grid_template_areas": null,
      "grid_template_columns": null,
      "grid_template_rows": null,
      "height": null,
      "justify_content": null,
      "justify_items": null,
      "left": null,
      "margin": null,
      "max_height": null,
      "max_width": null,
      "min_height": null,
      "min_width": null,
      "object_fit": null,
      "object_position": null,
      "order": null,
      "overflow": null,
      "overflow_x": null,
      "overflow_y": null,
      "padding": null,
      "right": null,
      "top": null,
      "visibility": null,
      "width": null
     }
    },
    "ae1474babc1241f3aac3906f96afef92": {
     "model_module": "@jupyter-widgets/controls",
     "model_module_version": "1.5.0",
     "model_name": "HTMLModel",
     "state": {
      "_dom_classes": [],
      "_model_module": "@jupyter-widgets/controls",
      "_model_module_version": "1.5.0",
      "_model_name": "HTMLModel",
      "_view_count": null,
      "_view_module": "@jupyter-widgets/controls",
      "_view_module_version": "1.5.0",
      "_view_name": "HTMLView",
      "description": "",
      "description_tooltip": null,
      "layout": "IPY_MODEL_2ce7d5141853464ebfe240231ded90a3",
      "placeholder": "​",
      "style": "IPY_MODEL_1c1e3d66764347ebacaf49ae85b504c9",
      "value": " 25000/25000 [00:12&lt;00:00, 4029.10 examples/s]"
     }
    },
    "af9bdf601dda4c5380ce4614993abe6a": {
     "model_module": "@jupyter-widgets/controls",
     "model_module_version": "1.5.0",
     "model_name": "FloatProgressModel",
     "state": {
      "_dom_classes": [],
      "_model_module": "@jupyter-widgets/controls",
      "_model_module_version": "1.5.0",
      "_model_name": "FloatProgressModel",
      "_view_count": null,
      "_view_module": "@jupyter-widgets/controls",
      "_view_module_version": "1.5.0",
      "_view_name": "ProgressView",
      "bar_style": "success",
      "description": "",
      "description_tooltip": null,
      "layout": "IPY_MODEL_f4945972ee084d57bbabb2a699ee274a",
      "max": 25000,
      "min": 0,
      "orientation": "horizontal",
      "style": "IPY_MODEL_5237a47686c643b98be95017c36939d0",
      "value": 25000
     }
    },
    "b050e51523ae4814ab40854a3a9fadff": {
     "model_module": "@jupyter-widgets/controls",
     "model_module_version": "1.5.0",
     "model_name": "FloatProgressModel",
     "state": {
      "_dom_classes": [],
      "_model_module": "@jupyter-widgets/controls",
      "_model_module_version": "1.5.0",
      "_model_name": "FloatProgressModel",
      "_view_count": null,
      "_view_module": "@jupyter-widgets/controls",
      "_view_module_version": "1.5.0",
      "_view_name": "ProgressView",
      "bar_style": "success",
      "description": "",
      "description_tooltip": null,
      "layout": "IPY_MODEL_c03c595f48cd4658a4915daced48ffbf",
      "max": 50000,
      "min": 0,
      "orientation": "horizontal",
      "style": "IPY_MODEL_48716d410bed4984bdc1211d3ebc6506",
      "value": 50000
     }
    },
    "b29f2af6ff324de5b4858993a9fbfbf7": {
     "model_module": "@jupyter-widgets/base",
     "model_module_version": "1.2.0",
     "model_name": "LayoutModel",
     "state": {
      "_model_module": "@jupyter-widgets/base",
      "_model_module_version": "1.2.0",
      "_model_name": "LayoutModel",
      "_view_count": null,
      "_view_module": "@jupyter-widgets/base",
      "_view_module_version": "1.2.0",
      "_view_name": "LayoutView",
      "align_content": null,
      "align_items": null,
      "align_self": null,
      "border": null,
      "bottom": null,
      "display": null,
      "flex": null,
      "flex_flow": null,
      "grid_area": null,
      "grid_auto_columns": null,
      "grid_auto_flow": null,
      "grid_auto_rows": null,
      "grid_column": null,
      "grid_gap": null,
      "grid_row": null,
      "grid_template_areas": null,
      "grid_template_columns": null,
      "grid_template_rows": null,
      "height": null,
      "justify_content": null,
      "justify_items": null,
      "left": null,
      "margin": null,
      "max_height": null,
      "max_width": null,
      "min_height": null,
      "min_width": null,
      "object_fit": null,
      "object_position": null,
      "order": null,
      "overflow": null,
      "overflow_x": null,
      "overflow_y": null,
      "padding": null,
      "right": null,
      "top": null,
      "visibility": null,
      "width": null
     }
    },
    "b4d548f0c14c4fc3bd98c8a3327def1f": {
     "model_module": "@jupyter-widgets/controls",
     "model_module_version": "1.5.0",
     "model_name": "HBoxModel",
     "state": {
      "_dom_classes": [],
      "_model_module": "@jupyter-widgets/controls",
      "_model_module_version": "1.5.0",
      "_model_name": "HBoxModel",
      "_view_count": null,
      "_view_module": "@jupyter-widgets/controls",
      "_view_module_version": "1.5.0",
      "_view_name": "HBoxView",
      "box_style": "",
      "children": [
       "IPY_MODEL_bbb66e50ed744abb88956441ef348d5d",
       "IPY_MODEL_af9bdf601dda4c5380ce4614993abe6a",
       "IPY_MODEL_ae1474babc1241f3aac3906f96afef92"
      ],
      "layout": "IPY_MODEL_d51e4722526e44f09751ea842d75faf1"
     }
    },
    "b6e058143347400fb74392e7944b5ed3": {
     "model_module": "@jupyter-widgets/controls",
     "model_module_version": "1.5.0",
     "model_name": "DescriptionStyleModel",
     "state": {
      "_model_module": "@jupyter-widgets/controls",
      "_model_module_version": "1.5.0",
      "_model_name": "DescriptionStyleModel",
      "_view_count": null,
      "_view_module": "@jupyter-widgets/base",
      "_view_module_version": "1.2.0",
      "_view_name": "StyleView",
      "description_width": ""
     }
    },
    "b9ea3c9e7beb40808328e9025a6bb676": {
     "model_module": "@jupyter-widgets/base",
     "model_module_version": "1.2.0",
     "model_name": "LayoutModel",
     "state": {
      "_model_module": "@jupyter-widgets/base",
      "_model_module_version": "1.2.0",
      "_model_name": "LayoutModel",
      "_view_count": null,
      "_view_module": "@jupyter-widgets/base",
      "_view_module_version": "1.2.0",
      "_view_name": "LayoutView",
      "align_content": null,
      "align_items": null,
      "align_self": null,
      "border": null,
      "bottom": null,
      "display": null,
      "flex": null,
      "flex_flow": null,
      "grid_area": null,
      "grid_auto_columns": null,
      "grid_auto_flow": null,
      "grid_auto_rows": null,
      "grid_column": null,
      "grid_gap": null,
      "grid_row": null,
      "grid_template_areas": null,
      "grid_template_columns": null,
      "grid_template_rows": null,
      "height": null,
      "justify_content": null,
      "justify_items": null,
      "left": null,
      "margin": null,
      "max_height": null,
      "max_width": null,
      "min_height": null,
      "min_width": null,
      "object_fit": null,
      "object_position": null,
      "order": null,
      "overflow": null,
      "overflow_x": null,
      "overflow_y": null,
      "padding": null,
      "right": null,
      "top": null,
      "visibility": null,
      "width": null
     }
    },
    "bae10d0cbbcc44809fa15faf5eda3283": {
     "model_module": "@jupyter-widgets/base",
     "model_module_version": "1.2.0",
     "model_name": "LayoutModel",
     "state": {
      "_model_module": "@jupyter-widgets/base",
      "_model_module_version": "1.2.0",
      "_model_name": "LayoutModel",
      "_view_count": null,
      "_view_module": "@jupyter-widgets/base",
      "_view_module_version": "1.2.0",
      "_view_name": "LayoutView",
      "align_content": null,
      "align_items": null,
      "align_self": null,
      "border": null,
      "bottom": null,
      "display": null,
      "flex": null,
      "flex_flow": null,
      "grid_area": null,
      "grid_auto_columns": null,
      "grid_auto_flow": null,
      "grid_auto_rows": null,
      "grid_column": null,
      "grid_gap": null,
      "grid_row": null,
      "grid_template_areas": null,
      "grid_template_columns": null,
      "grid_template_rows": null,
      "height": null,
      "justify_content": null,
      "justify_items": null,
      "left": null,
      "margin": null,
      "max_height": null,
      "max_width": null,
      "min_height": null,
      "min_width": null,
      "object_fit": null,
      "object_position": null,
      "order": null,
      "overflow": null,
      "overflow_x": null,
      "overflow_y": null,
      "padding": null,
      "right": null,
      "top": null,
      "visibility": null,
      "width": null
     }
    },
    "bbb66e50ed744abb88956441ef348d5d": {
     "model_module": "@jupyter-widgets/controls",
     "model_module_version": "1.5.0",
     "model_name": "HTMLModel",
     "state": {
      "_dom_classes": [],
      "_model_module": "@jupyter-widgets/controls",
      "_model_module_version": "1.5.0",
      "_model_name": "HTMLModel",
      "_view_count": null,
      "_view_module": "@jupyter-widgets/controls",
      "_view_module_version": "1.5.0",
      "_view_name": "HTMLView",
      "description": "",
      "description_tooltip": null,
      "layout": "IPY_MODEL_b29f2af6ff324de5b4858993a9fbfbf7",
      "placeholder": "​",
      "style": "IPY_MODEL_520de8fa407c4d37b6718a265ae095bc",
      "value": "Generating test split: 100%"
     }
    },
    "bbde7eda964d4b37853666432bcc4538": {
     "model_module": "@jupyter-widgets/controls",
     "model_module_version": "1.5.0",
     "model_name": "ProgressStyleModel",
     "state": {
      "_model_module": "@jupyter-widgets/controls",
      "_model_module_version": "1.5.0",
      "_model_name": "ProgressStyleModel",
      "_view_count": null,
      "_view_module": "@jupyter-widgets/base",
      "_view_module_version": "1.2.0",
      "_view_name": "StyleView",
      "bar_color": null,
      "description_width": ""
     }
    },
    "be195f93e3bc4507ba6a1e6130065826": {
     "model_module": "@jupyter-widgets/base",
     "model_module_version": "1.2.0",
     "model_name": "LayoutModel",
     "state": {
      "_model_module": "@jupyter-widgets/base",
      "_model_module_version": "1.2.0",
      "_model_name": "LayoutModel",
      "_view_count": null,
      "_view_module": "@jupyter-widgets/base",
      "_view_module_version": "1.2.0",
      "_view_name": "LayoutView",
      "align_content": null,
      "align_items": null,
      "align_self": null,
      "border": null,
      "bottom": null,
      "display": null,
      "flex": null,
      "flex_flow": null,
      "grid_area": null,
      "grid_auto_columns": null,
      "grid_auto_flow": null,
      "grid_auto_rows": null,
      "grid_column": null,
      "grid_gap": null,
      "grid_row": null,
      "grid_template_areas": null,
      "grid_template_columns": null,
      "grid_template_rows": null,
      "height": null,
      "justify_content": null,
      "justify_items": null,
      "left": null,
      "margin": null,
      "max_height": null,
      "max_width": null,
      "min_height": null,
      "min_width": null,
      "object_fit": null,
      "object_position": null,
      "order": null,
      "overflow": null,
      "overflow_x": null,
      "overflow_y": null,
      "padding": null,
      "right": null,
      "top": null,
      "visibility": null,
      "width": null
     }
    },
    "bfa14ac4b05a4f6eadf064c42249da75": {
     "model_module": "@jupyter-widgets/controls",
     "model_module_version": "1.5.0",
     "model_name": "HBoxModel",
     "state": {
      "_dom_classes": [],
      "_model_module": "@jupyter-widgets/controls",
      "_model_module_version": "1.5.0",
      "_model_name": "HBoxModel",
      "_view_count": null,
      "_view_module": "@jupyter-widgets/controls",
      "_view_module_version": "1.5.0",
      "_view_name": "HBoxView",
      "box_style": "",
      "children": [
       "IPY_MODEL_01b9525b8cc141d397e822aa75cb15cb",
       "IPY_MODEL_dd00016232b54227a375799eb9a9728b",
       "IPY_MODEL_209b03449a6c4ea59fc2b3ec6bdffdf3"
      ],
      "layout": "IPY_MODEL_36813cead717471695cb654fd4e55386"
     }
    },
    "c03c595f48cd4658a4915daced48ffbf": {
     "model_module": "@jupyter-widgets/base",
     "model_module_version": "1.2.0",
     "model_name": "LayoutModel",
     "state": {
      "_model_module": "@jupyter-widgets/base",
      "_model_module_version": "1.2.0",
      "_model_name": "LayoutModel",
      "_view_count": null,
      "_view_module": "@jupyter-widgets/base",
      "_view_module_version": "1.2.0",
      "_view_name": "LayoutView",
      "align_content": null,
      "align_items": null,
      "align_self": null,
      "border": null,
      "bottom": null,
      "display": null,
      "flex": null,
      "flex_flow": null,
      "grid_area": null,
      "grid_auto_columns": null,
      "grid_auto_flow": null,
      "grid_auto_rows": null,
      "grid_column": null,
      "grid_gap": null,
      "grid_row": null,
      "grid_template_areas": null,
      "grid_template_columns": null,
      "grid_template_rows": null,
      "height": null,
      "justify_content": null,
      "justify_items": null,
      "left": null,
      "margin": null,
      "max_height": null,
      "max_width": null,
      "min_height": null,
      "min_width": null,
      "object_fit": null,
      "object_position": null,
      "order": null,
      "overflow": null,
      "overflow_x": null,
      "overflow_y": null,
      "padding": null,
      "right": null,
      "top": null,
      "visibility": null,
      "width": null
     }
    },
    "c0ebcb764da64bd096b1ccd9c3234b2e": {
     "model_module": "@jupyter-widgets/controls",
     "model_module_version": "1.5.0",
     "model_name": "HTMLModel",
     "state": {
      "_dom_classes": [],
      "_model_module": "@jupyter-widgets/controls",
      "_model_module_version": "1.5.0",
      "_model_name": "HTMLModel",
      "_view_count": null,
      "_view_module": "@jupyter-widgets/controls",
      "_view_module_version": "1.5.0",
      "_view_name": "HTMLView",
      "description": "",
      "description_tooltip": null,
      "layout": "IPY_MODEL_fc318a7437144dd887e1f85a106b9ef5",
      "placeholder": "​",
      "style": "IPY_MODEL_cba0699826ac477296d6d08a47081f19",
      "value": " 50000/50000 [00:08&lt;00:00, 9565.39 examples/s]"
     }
    },
    "c2a65e921e5e4bd98aa8064d24929f26": {
     "model_module": "@jupyter-widgets/controls",
     "model_module_version": "1.5.0",
     "model_name": "HTMLModel",
     "state": {
      "_dom_classes": [],
      "_model_module": "@jupyter-widgets/controls",
      "_model_module_version": "1.5.0",
      "_model_name": "HTMLModel",
      "_view_count": null,
      "_view_module": "@jupyter-widgets/controls",
      "_view_module_version": "1.5.0",
      "_view_name": "HTMLView",
      "description": "",
      "description_tooltip": null,
      "layout": "IPY_MODEL_599000ff350e455e9df99cd1701b819b",
      "placeholder": "​",
      "style": "IPY_MODEL_77d57498063f47588eeb636f48e598fe",
      "value": " 5000/5000 [00:04&lt;00:00, 917.88 examples/s]"
     }
    },
    "c889571adab149aeba436b845c239d25": {
     "model_module": "@jupyter-widgets/controls",
     "model_module_version": "1.5.0",
     "model_name": "DescriptionStyleModel",
     "state": {
      "_model_module": "@jupyter-widgets/controls",
      "_model_module_version": "1.5.0",
      "_model_name": "DescriptionStyleModel",
      "_view_count": null,
      "_view_module": "@jupyter-widgets/base",
      "_view_module_version": "1.2.0",
      "_view_name": "StyleView",
      "description_width": ""
     }
    },
    "cba0699826ac477296d6d08a47081f19": {
     "model_module": "@jupyter-widgets/controls",
     "model_module_version": "1.5.0",
     "model_name": "DescriptionStyleModel",
     "state": {
      "_model_module": "@jupyter-widgets/controls",
      "_model_module_version": "1.5.0",
      "_model_name": "DescriptionStyleModel",
      "_view_count": null,
      "_view_module": "@jupyter-widgets/base",
      "_view_module_version": "1.2.0",
      "_view_name": "StyleView",
      "description_width": ""
     }
    },
    "cc59efcb0eb24576b401c6932db825fe": {
     "model_module": "@jupyter-widgets/base",
     "model_module_version": "1.2.0",
     "model_name": "LayoutModel",
     "state": {
      "_model_module": "@jupyter-widgets/base",
      "_model_module_version": "1.2.0",
      "_model_name": "LayoutModel",
      "_view_count": null,
      "_view_module": "@jupyter-widgets/base",
      "_view_module_version": "1.2.0",
      "_view_name": "LayoutView",
      "align_content": null,
      "align_items": null,
      "align_self": null,
      "border": null,
      "bottom": null,
      "display": null,
      "flex": null,
      "flex_flow": null,
      "grid_area": null,
      "grid_auto_columns": null,
      "grid_auto_flow": null,
      "grid_auto_rows": null,
      "grid_column": null,
      "grid_gap": null,
      "grid_row": null,
      "grid_template_areas": null,
      "grid_template_columns": null,
      "grid_template_rows": null,
      "height": null,
      "justify_content": null,
      "justify_items": null,
      "left": null,
      "margin": null,
      "max_height": null,
      "max_width": null,
      "min_height": null,
      "min_width": null,
      "object_fit": null,
      "object_position": null,
      "order": null,
      "overflow": null,
      "overflow_x": null,
      "overflow_y": null,
      "padding": null,
      "right": null,
      "top": null,
      "visibility": null,
      "width": null
     }
    },
    "cea6b2e6414b42bc913bdb7823264c1d": {
     "model_module": "@jupyter-widgets/controls",
     "model_module_version": "1.5.0",
     "model_name": "HTMLModel",
     "state": {
      "_dom_classes": [],
      "_model_module": "@jupyter-widgets/controls",
      "_model_module_version": "1.5.0",
      "_model_name": "HTMLModel",
      "_view_count": null,
      "_view_module": "@jupyter-widgets/controls",
      "_view_module_version": "1.5.0",
      "_view_name": "HTMLView",
      "description": "",
      "description_tooltip": null,
      "layout": "IPY_MODEL_31c22c16076444a4ba3f851a808888ab",
      "placeholder": "​",
      "style": "IPY_MODEL_d8540160fd074df6ad873a5a6cc46186",
      "value": "Downloading builder script: 100%"
     }
    },
    "d3507c5b8c6948c79c21e0b92409b9e1": {
     "model_module": "@jupyter-widgets/controls",
     "model_module_version": "1.5.0",
     "model_name": "DescriptionStyleModel",
     "state": {
      "_model_module": "@jupyter-widgets/controls",
      "_model_module_version": "1.5.0",
      "_model_name": "DescriptionStyleModel",
      "_view_count": null,
      "_view_module": "@jupyter-widgets/base",
      "_view_module_version": "1.2.0",
      "_view_name": "StyleView",
      "description_width": ""
     }
    },
    "d452c0ca543c4a99856d1ff70a6ef6cc": {
     "model_module": "@jupyter-widgets/controls",
     "model_module_version": "1.5.0",
     "model_name": "HTMLModel",
     "state": {
      "_dom_classes": [],
      "_model_module": "@jupyter-widgets/controls",
      "_model_module_version": "1.5.0",
      "_model_name": "HTMLModel",
      "_view_count": null,
      "_view_module": "@jupyter-widgets/controls",
      "_view_module_version": "1.5.0",
      "_view_name": "HTMLView",
      "description": "",
      "description_tooltip": null,
      "layout": "IPY_MODEL_317f01961adf4331b59b42b2dc7f8b70",
      "placeholder": "​",
      "style": "IPY_MODEL_c889571adab149aeba436b845c239d25",
      "value": " 7.59k/7.59k [00:00&lt;00:00, 237kB/s]"
     }
    },
    "d51e4722526e44f09751ea842d75faf1": {
     "model_module": "@jupyter-widgets/base",
     "model_module_version": "1.2.0",
     "model_name": "LayoutModel",
     "state": {
      "_model_module": "@jupyter-widgets/base",
      "_model_module_version": "1.2.0",
      "_model_name": "LayoutModel",
      "_view_count": null,
      "_view_module": "@jupyter-widgets/base",
      "_view_module_version": "1.2.0",
      "_view_name": "LayoutView",
      "align_content": null,
      "align_items": null,
      "align_self": null,
      "border": null,
      "bottom": null,
      "display": null,
      "flex": null,
      "flex_flow": null,
      "grid_area": null,
      "grid_auto_columns": null,
      "grid_auto_flow": null,
      "grid_auto_rows": null,
      "grid_column": null,
      "grid_gap": null,
      "grid_row": null,
      "grid_template_areas": null,
      "grid_template_columns": null,
      "grid_template_rows": null,
      "height": null,
      "justify_content": null,
      "justify_items": null,
      "left": null,
      "margin": null,
      "max_height": null,
      "max_width": null,
      "min_height": null,
      "min_width": null,
      "object_fit": null,
      "object_position": null,
      "order": null,
      "overflow": null,
      "overflow_x": null,
      "overflow_y": null,
      "padding": null,
      "right": null,
      "top": null,
      "visibility": null,
      "width": null
     }
    },
    "d69b280e4e8246e491ad9eb02d7f17dc": {
     "model_module": "@jupyter-widgets/controls",
     "model_module_version": "1.5.0",
     "model_name": "DescriptionStyleModel",
     "state": {
      "_model_module": "@jupyter-widgets/controls",
      "_model_module_version": "1.5.0",
      "_model_name": "DescriptionStyleModel",
      "_view_count": null,
      "_view_module": "@jupyter-widgets/base",
      "_view_module_version": "1.2.0",
      "_view_name": "StyleView",
      "description_width": ""
     }
    },
    "d7fae3bb3a7641fbac16ed9aaf2abb03": {
     "model_module": "@jupyter-widgets/base",
     "model_module_version": "1.2.0",
     "model_name": "LayoutModel",
     "state": {
      "_model_module": "@jupyter-widgets/base",
      "_model_module_version": "1.2.0",
      "_model_name": "LayoutModel",
      "_view_count": null,
      "_view_module": "@jupyter-widgets/base",
      "_view_module_version": "1.2.0",
      "_view_name": "LayoutView",
      "align_content": null,
      "align_items": null,
      "align_self": null,
      "border": null,
      "bottom": null,
      "display": null,
      "flex": null,
      "flex_flow": null,
      "grid_area": null,
      "grid_auto_columns": null,
      "grid_auto_flow": null,
      "grid_auto_rows": null,
      "grid_column": null,
      "grid_gap": null,
      "grid_row": null,
      "grid_template_areas": null,
      "grid_template_columns": null,
      "grid_template_rows": null,
      "height": null,
      "justify_content": null,
      "justify_items": null,
      "left": null,
      "margin": null,
      "max_height": null,
      "max_width": null,
      "min_height": null,
      "min_width": null,
      "object_fit": null,
      "object_position": null,
      "order": null,
      "overflow": null,
      "overflow_x": null,
      "overflow_y": null,
      "padding": null,
      "right": null,
      "top": null,
      "visibility": null,
      "width": null
     }
    },
    "d8540160fd074df6ad873a5a6cc46186": {
     "model_module": "@jupyter-widgets/controls",
     "model_module_version": "1.5.0",
     "model_name": "DescriptionStyleModel",
     "state": {
      "_model_module": "@jupyter-widgets/controls",
      "_model_module_version": "1.5.0",
      "_model_name": "DescriptionStyleModel",
      "_view_count": null,
      "_view_module": "@jupyter-widgets/base",
      "_view_module_version": "1.2.0",
      "_view_name": "StyleView",
      "description_width": ""
     }
    },
    "d8990f8004d646d0a5cdf61e8899ce1b": {
     "model_module": "@jupyter-widgets/controls",
     "model_module_version": "1.5.0",
     "model_name": "HTMLModel",
     "state": {
      "_dom_classes": [],
      "_model_module": "@jupyter-widgets/controls",
      "_model_module_version": "1.5.0",
      "_model_name": "HTMLModel",
      "_view_count": null,
      "_view_module": "@jupyter-widgets/controls",
      "_view_module_version": "1.5.0",
      "_view_name": "HTMLView",
      "description": "",
      "description_tooltip": null,
      "layout": "IPY_MODEL_25ae171dcc3f4451a0a66c1675a9f295",
      "placeholder": "​",
      "style": "IPY_MODEL_7694ff8f4aa64b79be0a85ca2a82a017",
      "value": "Map: 100%"
     }
    },
    "d8fc11801d0a47169a9d346388fb959c": {
     "model_module": "@jupyter-widgets/controls",
     "model_module_version": "1.5.0",
     "model_name": "HTMLModel",
     "state": {
      "_dom_classes": [],
      "_model_module": "@jupyter-widgets/controls",
      "_model_module_version": "1.5.0",
      "_model_name": "HTMLModel",
      "_view_count": null,
      "_view_module": "@jupyter-widgets/controls",
      "_view_module_version": "1.5.0",
      "_view_name": "HTMLView",
      "description": "",
      "description_tooltip": null,
      "layout": "IPY_MODEL_21cc7a51927d47d6aa3f69ec616ac897",
      "placeholder": "​",
      "style": "IPY_MODEL_e6841d8bfaa74fa78e5823cc04ff37e8",
      "value": "Downloading (…)solve/main/vocab.txt: 100%"
     }
    },
    "da3c9c66856143c1b927adb48a31b023": {
     "model_module": "@jupyter-widgets/controls",
     "model_module_version": "1.5.0",
     "model_name": "FloatProgressModel",
     "state": {
      "_dom_classes": [],
      "_model_module": "@jupyter-widgets/controls",
      "_model_module_version": "1.5.0",
      "_model_name": "FloatProgressModel",
      "_view_count": null,
      "_view_module": "@jupyter-widgets/controls",
      "_view_module_version": "1.5.0",
      "_view_name": "ProgressView",
      "bar_style": "success",
      "description": "",
      "description_tooltip": null,
      "layout": "IPY_MODEL_f3d73f8d80e24d018ac7dc0dea512cde",
      "max": 29,
      "min": 0,
      "orientation": "horizontal",
      "style": "IPY_MODEL_f2aa0a9cbd4943e4b56d57088ed47531",
      "value": 29
     }
    },
    "dcdd96cf090e40f396786789b8c1f810": {
     "model_module": "@jupyter-widgets/base",
     "model_module_version": "1.2.0",
     "model_name": "LayoutModel",
     "state": {
      "_model_module": "@jupyter-widgets/base",
      "_model_module_version": "1.2.0",
      "_model_name": "LayoutModel",
      "_view_count": null,
      "_view_module": "@jupyter-widgets/base",
      "_view_module_version": "1.2.0",
      "_view_name": "LayoutView",
      "align_content": null,
      "align_items": null,
      "align_self": null,
      "border": null,
      "bottom": null,
      "display": null,
      "flex": null,
      "flex_flow": null,
      "grid_area": null,
      "grid_auto_columns": null,
      "grid_auto_flow": null,
      "grid_auto_rows": null,
      "grid_column": null,
      "grid_gap": null,
      "grid_row": null,
      "grid_template_areas": null,
      "grid_template_columns": null,
      "grid_template_rows": null,
      "height": null,
      "justify_content": null,
      "justify_items": null,
      "left": null,
      "margin": null,
      "max_height": null,
      "max_width": null,
      "min_height": null,
      "min_width": null,
      "object_fit": null,
      "object_position": null,
      "order": null,
      "overflow": null,
      "overflow_x": null,
      "overflow_y": null,
      "padding": null,
      "right": null,
      "top": null,
      "visibility": null,
      "width": null
     }
    },
    "dd00016232b54227a375799eb9a9728b": {
     "model_module": "@jupyter-widgets/controls",
     "model_module_version": "1.5.0",
     "model_name": "FloatProgressModel",
     "state": {
      "_dom_classes": [],
      "_model_module": "@jupyter-widgets/controls",
      "_model_module_version": "1.5.0",
      "_model_name": "FloatProgressModel",
      "_view_count": null,
      "_view_module": "@jupyter-widgets/controls",
      "_view_module_version": "1.5.0",
      "_view_name": "ProgressView",
      "bar_style": "success",
      "description": "",
      "description_tooltip": null,
      "layout": "IPY_MODEL_69fad7b76711474e8f269ed035ac09ae",
      "max": 25000,
      "min": 0,
      "orientation": "horizontal",
      "style": "IPY_MODEL_448b8cbdd4374a8eaaf469c1e2fa08e5",
      "value": 25000
     }
    },
    "e09478c82d2b43dba4fc488ca80102ae": {
     "model_module": "@jupyter-widgets/base",
     "model_module_version": "1.2.0",
     "model_name": "LayoutModel",
     "state": {
      "_model_module": "@jupyter-widgets/base",
      "_model_module_version": "1.2.0",
      "_model_name": "LayoutModel",
      "_view_count": null,
      "_view_module": "@jupyter-widgets/base",
      "_view_module_version": "1.2.0",
      "_view_name": "LayoutView",
      "align_content": null,
      "align_items": null,
      "align_self": null,
      "border": null,
      "bottom": null,
      "display": null,
      "flex": null,
      "flex_flow": null,
      "grid_area": null,
      "grid_auto_columns": null,
      "grid_auto_flow": null,
      "grid_auto_rows": null,
      "grid_column": null,
      "grid_gap": null,
      "grid_row": null,
      "grid_template_areas": null,
      "grid_template_columns": null,
      "grid_template_rows": null,
      "height": null,
      "justify_content": null,
      "justify_items": null,
      "left": null,
      "margin": null,
      "max_height": null,
      "max_width": null,
      "min_height": null,
      "min_width": null,
      "object_fit": null,
      "object_position": null,
      "order": null,
      "overflow": null,
      "overflow_x": null,
      "overflow_y": null,
      "padding": null,
      "right": null,
      "top": null,
      "visibility": null,
      "width": null
     }
    },
    "e0d7377bbf494cd99f63724ade0c2441": {
     "model_module": "@jupyter-widgets/controls",
     "model_module_version": "1.5.0",
     "model_name": "HTMLModel",
     "state": {
      "_dom_classes": [],
      "_model_module": "@jupyter-widgets/controls",
      "_model_module_version": "1.5.0",
      "_model_name": "HTMLModel",
      "_view_count": null,
      "_view_module": "@jupyter-widgets/controls",
      "_view_module_version": "1.5.0",
      "_view_name": "HTMLView",
      "description": "",
      "description_tooltip": null,
      "layout": "IPY_MODEL_e9ce015c2b8c48a88a1e83aa10a0bea9",
      "placeholder": "​",
      "style": "IPY_MODEL_a55f5677bf1942a7a15cfac955e54b05",
      "value": " 29.0/29.0 [00:00&lt;00:00, 1.82kB/s]"
     }
    },
    "e4b53ed417664041bde5bc3e46e7f4bf": {
     "model_module": "@jupyter-widgets/base",
     "model_module_version": "1.2.0",
     "model_name": "LayoutModel",
     "state": {
      "_model_module": "@jupyter-widgets/base",
      "_model_module_version": "1.2.0",
      "_model_name": "LayoutModel",
      "_view_count": null,
      "_view_module": "@jupyter-widgets/base",
      "_view_module_version": "1.2.0",
      "_view_name": "LayoutView",
      "align_content": null,
      "align_items": null,
      "align_self": null,
      "border": null,
      "bottom": null,
      "display": null,
      "flex": null,
      "flex_flow": null,
      "grid_area": null,
      "grid_auto_columns": null,
      "grid_auto_flow": null,
      "grid_auto_rows": null,
      "grid_column": null,
      "grid_gap": null,
      "grid_row": null,
      "grid_template_areas": null,
      "grid_template_columns": null,
      "grid_template_rows": null,
      "height": null,
      "justify_content": null,
      "justify_items": null,
      "left": null,
      "margin": null,
      "max_height": null,
      "max_width": null,
      "min_height": null,
      "min_width": null,
      "object_fit": null,
      "object_position": null,
      "order": null,
      "overflow": null,
      "overflow_x": null,
      "overflow_y": null,
      "padding": null,
      "right": null,
      "top": null,
      "visibility": null,
      "width": null
     }
    },
    "e5d97be7d2544166a4a366c4e4a177eb": {
     "model_module": "@jupyter-widgets/base",
     "model_module_version": "1.2.0",
     "model_name": "LayoutModel",
     "state": {
      "_model_module": "@jupyter-widgets/base",
      "_model_module_version": "1.2.0",
      "_model_name": "LayoutModel",
      "_view_count": null,
      "_view_module": "@jupyter-widgets/base",
      "_view_module_version": "1.2.0",
      "_view_name": "LayoutView",
      "align_content": null,
      "align_items": null,
      "align_self": null,
      "border": null,
      "bottom": null,
      "display": null,
      "flex": null,
      "flex_flow": null,
      "grid_area": null,
      "grid_auto_columns": null,
      "grid_auto_flow": null,
      "grid_auto_rows": null,
      "grid_column": null,
      "grid_gap": null,
      "grid_row": null,
      "grid_template_areas": null,
      "grid_template_columns": null,
      "grid_template_rows": null,
      "height": null,
      "justify_content": null,
      "justify_items": null,
      "left": null,
      "margin": null,
      "max_height": null,
      "max_width": null,
      "min_height": null,
      "min_width": null,
      "object_fit": null,
      "object_position": null,
      "order": null,
      "overflow": null,
      "overflow_x": null,
      "overflow_y": null,
      "padding": null,
      "right": null,
      "top": null,
      "visibility": null,
      "width": null
     }
    },
    "e6841d8bfaa74fa78e5823cc04ff37e8": {
     "model_module": "@jupyter-widgets/controls",
     "model_module_version": "1.5.0",
     "model_name": "DescriptionStyleModel",
     "state": {
      "_model_module": "@jupyter-widgets/controls",
      "_model_module_version": "1.5.0",
      "_model_name": "DescriptionStyleModel",
      "_view_count": null,
      "_view_module": "@jupyter-widgets/base",
      "_view_module_version": "1.2.0",
      "_view_name": "StyleView",
      "description_width": ""
     }
    },
    "e9ce015c2b8c48a88a1e83aa10a0bea9": {
     "model_module": "@jupyter-widgets/base",
     "model_module_version": "1.2.0",
     "model_name": "LayoutModel",
     "state": {
      "_model_module": "@jupyter-widgets/base",
      "_model_module_version": "1.2.0",
      "_model_name": "LayoutModel",
      "_view_count": null,
      "_view_module": "@jupyter-widgets/base",
      "_view_module_version": "1.2.0",
      "_view_name": "LayoutView",
      "align_content": null,
      "align_items": null,
      "align_self": null,
      "border": null,
      "bottom": null,
      "display": null,
      "flex": null,
      "flex_flow": null,
      "grid_area": null,
      "grid_auto_columns": null,
      "grid_auto_flow": null,
      "grid_auto_rows": null,
      "grid_column": null,
      "grid_gap": null,
      "grid_row": null,
      "grid_template_areas": null,
      "grid_template_columns": null,
      "grid_template_rows": null,
      "height": null,
      "justify_content": null,
      "justify_items": null,
      "left": null,
      "margin": null,
      "max_height": null,
      "max_width": null,
      "min_height": null,
      "min_width": null,
      "object_fit": null,
      "object_position": null,
      "order": null,
      "overflow": null,
      "overflow_x": null,
      "overflow_y": null,
      "padding": null,
      "right": null,
      "top": null,
      "visibility": null,
      "width": null
     }
    },
    "ec18bf77c1e24fe9b1a1441388f701fa": {
     "model_module": "@jupyter-widgets/base",
     "model_module_version": "1.2.0",
     "model_name": "LayoutModel",
     "state": {
      "_model_module": "@jupyter-widgets/base",
      "_model_module_version": "1.2.0",
      "_model_name": "LayoutModel",
      "_view_count": null,
      "_view_module": "@jupyter-widgets/base",
      "_view_module_version": "1.2.0",
      "_view_name": "LayoutView",
      "align_content": null,
      "align_items": null,
      "align_self": null,
      "border": null,
      "bottom": null,
      "display": null,
      "flex": null,
      "flex_flow": null,
      "grid_area": null,
      "grid_auto_columns": null,
      "grid_auto_flow": null,
      "grid_auto_rows": null,
      "grid_column": null,
      "grid_gap": null,
      "grid_row": null,
      "grid_template_areas": null,
      "grid_template_columns": null,
      "grid_template_rows": null,
      "height": null,
      "justify_content": null,
      "justify_items": null,
      "left": null,
      "margin": null,
      "max_height": null,
      "max_width": null,
      "min_height": null,
      "min_width": null,
      "object_fit": null,
      "object_position": null,
      "order": null,
      "overflow": null,
      "overflow_x": null,
      "overflow_y": null,
      "padding": null,
      "right": null,
      "top": null,
      "visibility": null,
      "width": null
     }
    },
    "ed1eae8886da42a790b771c97bb9a09a": {
     "model_module": "@jupyter-widgets/controls",
     "model_module_version": "1.5.0",
     "model_name": "ProgressStyleModel",
     "state": {
      "_model_module": "@jupyter-widgets/controls",
      "_model_module_version": "1.5.0",
      "_model_name": "ProgressStyleModel",
      "_view_count": null,
      "_view_module": "@jupyter-widgets/base",
      "_view_module_version": "1.2.0",
      "_view_name": "StyleView",
      "bar_color": null,
      "description_width": ""
     }
    },
    "f1e6c246f2af42c0bcd8e617fba6527c": {
     "model_module": "@jupyter-widgets/controls",
     "model_module_version": "1.5.0",
     "model_name": "HBoxModel",
     "state": {
      "_dom_classes": [],
      "_model_module": "@jupyter-widgets/controls",
      "_model_module_version": "1.5.0",
      "_model_name": "HBoxModel",
      "_view_count": null,
      "_view_module": "@jupyter-widgets/controls",
      "_view_module_version": "1.5.0",
      "_view_name": "HBoxView",
      "box_style": "",
      "children": [
       "IPY_MODEL_6b3b2c4aeb884db39c907346ba53bf43",
       "IPY_MODEL_736fb1fea0c344348e01ff74613b54d3",
       "IPY_MODEL_4adb4d6a4c8a49cc892d4299ca09cf97"
      ],
      "layout": "IPY_MODEL_ec18bf77c1e24fe9b1a1441388f701fa"
     }
    },
    "f2aa0a9cbd4943e4b56d57088ed47531": {
     "model_module": "@jupyter-widgets/controls",
     "model_module_version": "1.5.0",
     "model_name": "ProgressStyleModel",
     "state": {
      "_model_module": "@jupyter-widgets/controls",
      "_model_module_version": "1.5.0",
      "_model_name": "ProgressStyleModel",
      "_view_count": null,
      "_view_module": "@jupyter-widgets/base",
      "_view_module_version": "1.2.0",
      "_view_name": "StyleView",
      "bar_color": null,
      "description_width": ""
     }
    },
    "f342ba6ca2744c4bbe026f345eed5918": {
     "model_module": "@jupyter-widgets/controls",
     "model_module_version": "1.5.0",
     "model_name": "HBoxModel",
     "state": {
      "_dom_classes": [],
      "_model_module": "@jupyter-widgets/controls",
      "_model_module_version": "1.5.0",
      "_model_name": "HBoxModel",
      "_view_count": null,
      "_view_module": "@jupyter-widgets/controls",
      "_view_module_version": "1.5.0",
      "_view_name": "HBoxView",
      "box_style": "",
      "children": [
       "IPY_MODEL_739aa979dd3149bb95993129aed38693",
       "IPY_MODEL_74b986a9ddb347df82cf6e47634c6760",
       "IPY_MODEL_d452c0ca543c4a99856d1ff70a6ef6cc"
      ],
      "layout": "IPY_MODEL_be195f93e3bc4507ba6a1e6130065826"
     }
    },
    "f34e31a97e6148c897eaffba3cb91785": {
     "model_module": "@jupyter-widgets/controls",
     "model_module_version": "1.5.0",
     "model_name": "FloatProgressModel",
     "state": {
      "_dom_classes": [],
      "_model_module": "@jupyter-widgets/controls",
      "_model_module_version": "1.5.0",
      "_model_name": "FloatProgressModel",
      "_view_count": null,
      "_view_module": "@jupyter-widgets/controls",
      "_view_module_version": "1.5.0",
      "_view_name": "ProgressView",
      "bar_style": "success",
      "description": "",
      "description_tooltip": null,
      "layout": "IPY_MODEL_e4b53ed417664041bde5bc3e46e7f4bf",
      "max": 20000,
      "min": 0,
      "orientation": "horizontal",
      "style": "IPY_MODEL_0687195b68c6466384788c1fde2b9207",
      "value": 20000
     }
    },
    "f3d73f8d80e24d018ac7dc0dea512cde": {
     "model_module": "@jupyter-widgets/base",
     "model_module_version": "1.2.0",
     "model_name": "LayoutModel",
     "state": {
      "_model_module": "@jupyter-widgets/base",
      "_model_module_version": "1.2.0",
      "_model_name": "LayoutModel",
      "_view_count": null,
      "_view_module": "@jupyter-widgets/base",
      "_view_module_version": "1.2.0",
      "_view_name": "LayoutView",
      "align_content": null,
      "align_items": null,
      "align_self": null,
      "border": null,
      "bottom": null,
      "display": null,
      "flex": null,
      "flex_flow": null,
      "grid_area": null,
      "grid_auto_columns": null,
      "grid_auto_flow": null,
      "grid_auto_rows": null,
      "grid_column": null,
      "grid_gap": null,
      "grid_row": null,
      "grid_template_areas": null,
      "grid_template_columns": null,
      "grid_template_rows": null,
      "height": null,
      "justify_content": null,
      "justify_items": null,
      "left": null,
      "margin": null,
      "max_height": null,
      "max_width": null,
      "min_height": null,
      "min_width": null,
      "object_fit": null,
      "object_position": null,
      "order": null,
      "overflow": null,
      "overflow_x": null,
      "overflow_y": null,
      "padding": null,
      "right": null,
      "top": null,
      "visibility": null,
      "width": null
     }
    },
    "f4945972ee084d57bbabb2a699ee274a": {
     "model_module": "@jupyter-widgets/base",
     "model_module_version": "1.2.0",
     "model_name": "LayoutModel",
     "state": {
      "_model_module": "@jupyter-widgets/base",
      "_model_module_version": "1.2.0",
      "_model_name": "LayoutModel",
      "_view_count": null,
      "_view_module": "@jupyter-widgets/base",
      "_view_module_version": "1.2.0",
      "_view_name": "LayoutView",
      "align_content": null,
      "align_items": null,
      "align_self": null,
      "border": null,
      "bottom": null,
      "display": null,
      "flex": null,
      "flex_flow": null,
      "grid_area": null,
      "grid_auto_columns": null,
      "grid_auto_flow": null,
      "grid_auto_rows": null,
      "grid_column": null,
      "grid_gap": null,
      "grid_row": null,
      "grid_template_areas": null,
      "grid_template_columns": null,
      "grid_template_rows": null,
      "height": null,
      "justify_content": null,
      "justify_items": null,
      "left": null,
      "margin": null,
      "max_height": null,
      "max_width": null,
      "min_height": null,
      "min_width": null,
      "object_fit": null,
      "object_position": null,
      "order": null,
      "overflow": null,
      "overflow_x": null,
      "overflow_y": null,
      "padding": null,
      "right": null,
      "top": null,
      "visibility": null,
      "width": null
     }
    },
    "f60675b387864afb869ce3795ae8cd32": {
     "model_module": "@jupyter-widgets/controls",
     "model_module_version": "1.5.0",
     "model_name": "DescriptionStyleModel",
     "state": {
      "_model_module": "@jupyter-widgets/controls",
      "_model_module_version": "1.5.0",
      "_model_name": "DescriptionStyleModel",
      "_view_count": null,
      "_view_module": "@jupyter-widgets/base",
      "_view_module_version": "1.2.0",
      "_view_name": "StyleView",
      "description_width": ""
     }
    },
    "f8c007ee74f2474e8e6b5740b446de9e": {
     "model_module": "@jupyter-widgets/controls",
     "model_module_version": "1.5.0",
     "model_name": "DescriptionStyleModel",
     "state": {
      "_model_module": "@jupyter-widgets/controls",
      "_model_module_version": "1.5.0",
      "_model_name": "DescriptionStyleModel",
      "_view_count": null,
      "_view_module": "@jupyter-widgets/base",
      "_view_module_version": "1.2.0",
      "_view_name": "StyleView",
      "description_width": ""
     }
    },
    "fa014eb1139b49c58eed87efd8227824": {
     "model_module": "@jupyter-widgets/base",
     "model_module_version": "1.2.0",
     "model_name": "LayoutModel",
     "state": {
      "_model_module": "@jupyter-widgets/base",
      "_model_module_version": "1.2.0",
      "_model_name": "LayoutModel",
      "_view_count": null,
      "_view_module": "@jupyter-widgets/base",
      "_view_module_version": "1.2.0",
      "_view_name": "LayoutView",
      "align_content": null,
      "align_items": null,
      "align_self": null,
      "border": null,
      "bottom": null,
      "display": null,
      "flex": null,
      "flex_flow": null,
      "grid_area": null,
      "grid_auto_columns": null,
      "grid_auto_flow": null,
      "grid_auto_rows": null,
      "grid_column": null,
      "grid_gap": null,
      "grid_row": null,
      "grid_template_areas": null,
      "grid_template_columns": null,
      "grid_template_rows": null,
      "height": null,
      "justify_content": null,
      "justify_items": null,
      "left": null,
      "margin": null,
      "max_height": null,
      "max_width": null,
      "min_height": null,
      "min_width": null,
      "object_fit": null,
      "object_position": null,
      "order": null,
      "overflow": null,
      "overflow_x": null,
      "overflow_y": null,
      "padding": null,
      "right": null,
      "top": null,
      "visibility": null,
      "width": null
     }
    },
    "fa7cadb44033477ba644c335361c6b8c": {
     "model_module": "@jupyter-widgets/controls",
     "model_module_version": "1.5.0",
     "model_name": "HTMLModel",
     "state": {
      "_dom_classes": [],
      "_model_module": "@jupyter-widgets/controls",
      "_model_module_version": "1.5.0",
      "_model_name": "HTMLModel",
      "_view_count": null,
      "_view_module": "@jupyter-widgets/controls",
      "_view_module_version": "1.5.0",
      "_view_name": "HTMLView",
      "description": "",
      "description_tooltip": null,
      "layout": "IPY_MODEL_adc2bbec39c248d590d6266b90977f41",
      "placeholder": "​",
      "style": "IPY_MODEL_8e079663fc70447f9dabf8d7c3325ded",
      "value": "Map: 100%"
     }
    },
    "fc318a7437144dd887e1f85a106b9ef5": {
     "model_module": "@jupyter-widgets/base",
     "model_module_version": "1.2.0",
     "model_name": "LayoutModel",
     "state": {
      "_model_module": "@jupyter-widgets/base",
      "_model_module_version": "1.2.0",
      "_model_name": "LayoutModel",
      "_view_count": null,
      "_view_module": "@jupyter-widgets/base",
      "_view_module_version": "1.2.0",
      "_view_name": "LayoutView",
      "align_content": null,
      "align_items": null,
      "align_self": null,
      "border": null,
      "bottom": null,
      "display": null,
      "flex": null,
      "flex_flow": null,
      "grid_area": null,
      "grid_auto_columns": null,
      "grid_auto_flow": null,
      "grid_auto_rows": null,
      "grid_column": null,
      "grid_gap": null,
      "grid_row": null,
      "grid_template_areas": null,
      "grid_template_columns": null,
      "grid_template_rows": null,
      "height": null,
      "justify_content": null,
      "justify_items": null,
      "left": null,
      "margin": null,
      "max_height": null,
      "max_width": null,
      "min_height": null,
      "min_width": null,
      "object_fit": null,
      "object_position": null,
      "order": null,
      "overflow": null,
      "overflow_x": null,
      "overflow_y": null,
      "padding": null,
      "right": null,
      "top": null,
      "visibility": null,
      "width": null
     }
    },
    "fed44a08443e4c9aa11702cdee20a334": {
     "model_module": "@jupyter-widgets/controls",
     "model_module_version": "1.5.0",
     "model_name": "HTMLModel",
     "state": {
      "_dom_classes": [],
      "_model_module": "@jupyter-widgets/controls",
      "_model_module_version": "1.5.0",
      "_model_name": "HTMLModel",
      "_view_count": null,
      "_view_module": "@jupyter-widgets/controls",
      "_view_module_version": "1.5.0",
      "_view_name": "HTMLView",
      "description": "",
      "description_tooltip": null,
      "layout": "IPY_MODEL_376d38cc16774e6fb45908b805bd124e",
      "placeholder": "​",
      "style": "IPY_MODEL_096a52066d094a61a59a2fe5aef1e6b7",
      "value": " 50000/50000 [00:47&lt;00:00, 1239.67 examples/s]"
     }
    }
   }
  }
 },
 "nbformat": 4,
 "nbformat_minor": 4
}
